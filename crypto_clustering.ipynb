{
 "cells": [
  {
   "cell_type": "code",
   "execution_count": 17,
   "id": "0befd512",
   "metadata": {},
   "outputs": [],
   "source": [
    "# Initial imports\n",
    "import pandas as pd\n",
    "import hvplot.pandas\n",
    "from pathlib import Path\n",
    "import plotly.express as px\n",
    "from sklearn.preprocessing import StandardScaler, MinMaxScaler, LabelEncoder\n",
    "from sklearn.decomposition import PCA\n",
    "from sklearn.cluster import KMeans\n"
   ]
  },
  {
   "cell_type": "code",
   "execution_count": 18,
   "id": "fac87773",
   "metadata": {},
   "outputs": [
    {
     "data": {
      "text/html": [
       "<div>\n",
       "<style scoped>\n",
       "    .dataframe tbody tr th:only-of-type {\n",
       "        vertical-align: middle;\n",
       "    }\n",
       "\n",
       "    .dataframe tbody tr th {\n",
       "        vertical-align: top;\n",
       "    }\n",
       "\n",
       "    .dataframe thead th {\n",
       "        text-align: right;\n",
       "    }\n",
       "</style>\n",
       "<table border=\"1\" class=\"dataframe\">\n",
       "  <thead>\n",
       "    <tr style=\"text-align: right;\">\n",
       "      <th></th>\n",
       "      <th>CoinName</th>\n",
       "      <th>Algorithm</th>\n",
       "      <th>IsTrading</th>\n",
       "      <th>ProofType</th>\n",
       "      <th>TotalCoinsMined</th>\n",
       "      <th>TotalCoinSupply</th>\n",
       "    </tr>\n",
       "    <tr>\n",
       "      <th>Index</th>\n",
       "      <th></th>\n",
       "      <th></th>\n",
       "      <th></th>\n",
       "      <th></th>\n",
       "      <th></th>\n",
       "      <th></th>\n",
       "    </tr>\n",
       "  </thead>\n",
       "  <tbody>\n",
       "    <tr>\n",
       "      <th>42</th>\n",
       "      <td>42 Coin</td>\n",
       "      <td>Scrypt</td>\n",
       "      <td>True</td>\n",
       "      <td>PoW/PoS</td>\n",
       "      <td>4.199995e+01</td>\n",
       "      <td>42</td>\n",
       "    </tr>\n",
       "    <tr>\n",
       "      <th>365</th>\n",
       "      <td>365Coin</td>\n",
       "      <td>X11</td>\n",
       "      <td>True</td>\n",
       "      <td>PoW/PoS</td>\n",
       "      <td>NaN</td>\n",
       "      <td>2300000000</td>\n",
       "    </tr>\n",
       "    <tr>\n",
       "      <th>404</th>\n",
       "      <td>404Coin</td>\n",
       "      <td>Scrypt</td>\n",
       "      <td>True</td>\n",
       "      <td>PoW/PoS</td>\n",
       "      <td>1.055185e+09</td>\n",
       "      <td>532000000</td>\n",
       "    </tr>\n",
       "    <tr>\n",
       "      <th>611</th>\n",
       "      <td>SixEleven</td>\n",
       "      <td>SHA-256</td>\n",
       "      <td>True</td>\n",
       "      <td>PoW</td>\n",
       "      <td>NaN</td>\n",
       "      <td>611000</td>\n",
       "    </tr>\n",
       "    <tr>\n",
       "      <th>808</th>\n",
       "      <td>808</td>\n",
       "      <td>SHA-256</td>\n",
       "      <td>True</td>\n",
       "      <td>PoW/PoS</td>\n",
       "      <td>0.000000e+00</td>\n",
       "      <td>0</td>\n",
       "    </tr>\n",
       "    <tr>\n",
       "      <th>...</th>\n",
       "      <td>...</td>\n",
       "      <td>...</td>\n",
       "      <td>...</td>\n",
       "      <td>...</td>\n",
       "      <td>...</td>\n",
       "      <td>...</td>\n",
       "    </tr>\n",
       "    <tr>\n",
       "      <th>XBC</th>\n",
       "      <td>BitcoinPlus</td>\n",
       "      <td>Scrypt</td>\n",
       "      <td>True</td>\n",
       "      <td>PoS</td>\n",
       "      <td>1.283270e+05</td>\n",
       "      <td>1000000</td>\n",
       "    </tr>\n",
       "    <tr>\n",
       "      <th>DVTC</th>\n",
       "      <td>DivotyCoin</td>\n",
       "      <td>Scrypt</td>\n",
       "      <td>False</td>\n",
       "      <td>PoW/PoS</td>\n",
       "      <td>2.149121e+07</td>\n",
       "      <td>100000000</td>\n",
       "    </tr>\n",
       "    <tr>\n",
       "      <th>GIOT</th>\n",
       "      <td>Giotto Coin</td>\n",
       "      <td>Scrypt</td>\n",
       "      <td>False</td>\n",
       "      <td>PoW/PoS</td>\n",
       "      <td>NaN</td>\n",
       "      <td>233100000</td>\n",
       "    </tr>\n",
       "    <tr>\n",
       "      <th>OPSC</th>\n",
       "      <td>OpenSourceCoin</td>\n",
       "      <td>SHA-256</td>\n",
       "      <td>False</td>\n",
       "      <td>PoW/PoS</td>\n",
       "      <td>NaN</td>\n",
       "      <td>21000000</td>\n",
       "    </tr>\n",
       "    <tr>\n",
       "      <th>PUNK</th>\n",
       "      <td>SteamPunk</td>\n",
       "      <td>PoS</td>\n",
       "      <td>False</td>\n",
       "      <td>PoS</td>\n",
       "      <td>NaN</td>\n",
       "      <td>40000000</td>\n",
       "    </tr>\n",
       "  </tbody>\n",
       "</table>\n",
       "<p>1252 rows × 6 columns</p>\n",
       "</div>"
      ],
      "text/plain": [
       "             CoinName Algorithm  IsTrading ProofType  TotalCoinsMined  \\\n",
       "Index                                                                   \n",
       "42            42 Coin    Scrypt       True   PoW/PoS     4.199995e+01   \n",
       "365           365Coin       X11       True   PoW/PoS              NaN   \n",
       "404           404Coin    Scrypt       True   PoW/PoS     1.055185e+09   \n",
       "611         SixEleven   SHA-256       True       PoW              NaN   \n",
       "808               808   SHA-256       True   PoW/PoS     0.000000e+00   \n",
       "...               ...       ...        ...       ...              ...   \n",
       "XBC       BitcoinPlus    Scrypt       True       PoS     1.283270e+05   \n",
       "DVTC       DivotyCoin    Scrypt      False   PoW/PoS     2.149121e+07   \n",
       "GIOT      Giotto Coin    Scrypt      False   PoW/PoS              NaN   \n",
       "OPSC   OpenSourceCoin   SHA-256      False   PoW/PoS              NaN   \n",
       "PUNK        SteamPunk       PoS      False       PoS              NaN   \n",
       "\n",
       "      TotalCoinSupply  \n",
       "Index                  \n",
       "42                 42  \n",
       "365        2300000000  \n",
       "404         532000000  \n",
       "611            611000  \n",
       "808                 0  \n",
       "...               ...  \n",
       "XBC           1000000  \n",
       "DVTC        100000000  \n",
       "GIOT        233100000  \n",
       "OPSC         21000000  \n",
       "PUNK         40000000  \n",
       "\n",
       "[1252 rows x 6 columns]"
      ]
     },
     "execution_count": 18,
     "metadata": {},
     "output_type": "execute_result"
    }
   ],
   "source": [
    "# Load the crypto_data.csv dataset.\n",
    "df = pd.read_csv(\"Resources/crypto_data.csv\",index_col=0)\n",
    "len(df)\n",
    "df"
   ]
  },
  {
   "cell_type": "code",
   "execution_count": 19,
   "id": "d8d98453",
   "metadata": {},
   "outputs": [
    {
     "data": {
      "text/plain": [
       "1144"
      ]
     },
     "execution_count": 19,
     "metadata": {},
     "output_type": "execute_result"
    }
   ],
   "source": [
    "# Keep all the cryptocurrencies that are being traded.\n",
    "tradingcryptos = df[df[\"IsTrading\"] == True]\n",
    "len(tradingcryptos)"
   ]
  },
  {
   "cell_type": "code",
   "execution_count": 20,
   "id": "eb444053",
   "metadata": {},
   "outputs": [
    {
     "data": {
      "text/plain": [
       "(1144, 5)"
      ]
     },
     "execution_count": 20,
     "metadata": {},
     "output_type": "execute_result"
    }
   ],
   "source": [
    "# Remove the \"IsTrading\" column.\n",
    "removetrading = tradingcryptos.drop([\"IsTrading\"], axis = 1)\n",
    "removetrading.shape"
   ]
  },
  {
   "cell_type": "code",
   "execution_count": 21,
   "id": "d756bc68",
   "metadata": {},
   "outputs": [
    {
     "data": {
      "text/plain": [
       "(685, 5)"
      ]
     },
     "execution_count": 21,
     "metadata": {},
     "output_type": "execute_result"
    }
   ],
   "source": [
    "# Remove rows that have at least 1 null value.\n",
    "nona = removetrading.dropna()\n",
    "nona.shape"
   ]
  },
  {
   "cell_type": "code",
   "execution_count": 22,
   "id": "891f37fe",
   "metadata": {},
   "outputs": [
    {
     "data": {
      "text/html": [
       "<div>\n",
       "<style scoped>\n",
       "    .dataframe tbody tr th:only-of-type {\n",
       "        vertical-align: middle;\n",
       "    }\n",
       "\n",
       "    .dataframe tbody tr th {\n",
       "        vertical-align: top;\n",
       "    }\n",
       "\n",
       "    .dataframe thead th {\n",
       "        text-align: right;\n",
       "    }\n",
       "</style>\n",
       "<table border=\"1\" class=\"dataframe\">\n",
       "  <thead>\n",
       "    <tr style=\"text-align: right;\">\n",
       "      <th></th>\n",
       "      <th>CoinName</th>\n",
       "      <th>Algorithm</th>\n",
       "      <th>ProofType</th>\n",
       "      <th>TotalCoinsMined</th>\n",
       "      <th>TotalCoinSupply</th>\n",
       "    </tr>\n",
       "    <tr>\n",
       "      <th>Index</th>\n",
       "      <th></th>\n",
       "      <th></th>\n",
       "      <th></th>\n",
       "      <th></th>\n",
       "      <th></th>\n",
       "    </tr>\n",
       "  </thead>\n",
       "  <tbody>\n",
       "    <tr>\n",
       "      <th>42</th>\n",
       "      <td>42 Coin</td>\n",
       "      <td>Scrypt</td>\n",
       "      <td>PoW/PoS</td>\n",
       "      <td>4.199995e+01</td>\n",
       "      <td>42</td>\n",
       "    </tr>\n",
       "    <tr>\n",
       "      <th>404</th>\n",
       "      <td>404Coin</td>\n",
       "      <td>Scrypt</td>\n",
       "      <td>PoW/PoS</td>\n",
       "      <td>1.055185e+09</td>\n",
       "      <td>532000000</td>\n",
       "    </tr>\n",
       "    <tr>\n",
       "      <th>1337</th>\n",
       "      <td>EliteCoin</td>\n",
       "      <td>X13</td>\n",
       "      <td>PoW/PoS</td>\n",
       "      <td>2.927942e+10</td>\n",
       "      <td>314159265359</td>\n",
       "    </tr>\n",
       "    <tr>\n",
       "      <th>BTC</th>\n",
       "      <td>Bitcoin</td>\n",
       "      <td>SHA-256</td>\n",
       "      <td>PoW</td>\n",
       "      <td>1.792718e+07</td>\n",
       "      <td>21000000</td>\n",
       "    </tr>\n",
       "    <tr>\n",
       "      <th>ETH</th>\n",
       "      <td>Ethereum</td>\n",
       "      <td>Ethash</td>\n",
       "      <td>PoW</td>\n",
       "      <td>1.076842e+08</td>\n",
       "      <td>0</td>\n",
       "    </tr>\n",
       "  </tbody>\n",
       "</table>\n",
       "</div>"
      ],
      "text/plain": [
       "        CoinName Algorithm ProofType  TotalCoinsMined TotalCoinSupply\n",
       "Index                                                                \n",
       "42       42 Coin    Scrypt   PoW/PoS     4.199995e+01              42\n",
       "404      404Coin    Scrypt   PoW/PoS     1.055185e+09       532000000\n",
       "1337   EliteCoin       X13   PoW/PoS     2.927942e+10    314159265359\n",
       "BTC      Bitcoin   SHA-256       PoW     1.792718e+07        21000000\n",
       "ETH     Ethereum    Ethash       PoW     1.076842e+08               0"
      ]
     },
     "execution_count": 22,
     "metadata": {},
     "output_type": "execute_result"
    }
   ],
   "source": [
    "# Keep the rows where coins are mined.\n",
    "crypto_df = nona[nona[\"TotalCoinsMined\"] != 0]\n",
    "crypto_df.head()"
   ]
  },
  {
   "cell_type": "code",
   "execution_count": 23,
   "id": "1ba7af95",
   "metadata": {},
   "outputs": [
    {
     "data": {
      "text/html": [
       "<div>\n",
       "<style scoped>\n",
       "    .dataframe tbody tr th:only-of-type {\n",
       "        vertical-align: middle;\n",
       "    }\n",
       "\n",
       "    .dataframe tbody tr th {\n",
       "        vertical-align: top;\n",
       "    }\n",
       "\n",
       "    .dataframe thead th {\n",
       "        text-align: right;\n",
       "    }\n",
       "</style>\n",
       "<table border=\"1\" class=\"dataframe\">\n",
       "  <thead>\n",
       "    <tr style=\"text-align: right;\">\n",
       "      <th></th>\n",
       "      <th>CoinName</th>\n",
       "    </tr>\n",
       "    <tr>\n",
       "      <th>Index</th>\n",
       "      <th></th>\n",
       "    </tr>\n",
       "  </thead>\n",
       "  <tbody>\n",
       "    <tr>\n",
       "      <th>42</th>\n",
       "      <td>42 Coin</td>\n",
       "    </tr>\n",
       "    <tr>\n",
       "      <th>404</th>\n",
       "      <td>404Coin</td>\n",
       "    </tr>\n",
       "    <tr>\n",
       "      <th>1337</th>\n",
       "      <td>EliteCoin</td>\n",
       "    </tr>\n",
       "    <tr>\n",
       "      <th>BTC</th>\n",
       "      <td>Bitcoin</td>\n",
       "    </tr>\n",
       "    <tr>\n",
       "      <th>ETH</th>\n",
       "      <td>Ethereum</td>\n",
       "    </tr>\n",
       "    <tr>\n",
       "      <th>LTC</th>\n",
       "      <td>Litecoin</td>\n",
       "    </tr>\n",
       "    <tr>\n",
       "      <th>DASH</th>\n",
       "      <td>Dash</td>\n",
       "    </tr>\n",
       "    <tr>\n",
       "      <th>XMR</th>\n",
       "      <td>Monero</td>\n",
       "    </tr>\n",
       "    <tr>\n",
       "      <th>ETC</th>\n",
       "      <td>Ethereum Classic</td>\n",
       "    </tr>\n",
       "    <tr>\n",
       "      <th>ZEC</th>\n",
       "      <td>ZCash</td>\n",
       "    </tr>\n",
       "  </tbody>\n",
       "</table>\n",
       "</div>"
      ],
      "text/plain": [
       "               CoinName\n",
       "Index                  \n",
       "42              42 Coin\n",
       "404             404Coin\n",
       "1337          EliteCoin\n",
       "BTC             Bitcoin\n",
       "ETH            Ethereum\n",
       "LTC            Litecoin\n",
       "DASH               Dash\n",
       "XMR              Monero\n",
       "ETC    Ethereum Classic\n",
       "ZEC               ZCash"
      ]
     },
     "execution_count": 23,
     "metadata": {},
     "output_type": "execute_result"
    }
   ],
   "source": [
    "# Create a new DataFrame that holds only the cryptocurrencies names.\n",
    "crypto_name = pd.DataFrame(crypto_df[\"CoinName\"])\n",
    "crypto_name.head(10)"
   ]
  },
  {
   "cell_type": "code",
   "execution_count": 24,
   "id": "4016afaa",
   "metadata": {},
   "outputs": [
    {
     "data": {
      "text/html": [
       "<div>\n",
       "<style scoped>\n",
       "    .dataframe tbody tr th:only-of-type {\n",
       "        vertical-align: middle;\n",
       "    }\n",
       "\n",
       "    .dataframe tbody tr th {\n",
       "        vertical-align: top;\n",
       "    }\n",
       "\n",
       "    .dataframe thead th {\n",
       "        text-align: right;\n",
       "    }\n",
       "</style>\n",
       "<table border=\"1\" class=\"dataframe\">\n",
       "  <thead>\n",
       "    <tr style=\"text-align: right;\">\n",
       "      <th></th>\n",
       "      <th>Algorithm</th>\n",
       "      <th>ProofType</th>\n",
       "      <th>TotalCoinsMined</th>\n",
       "      <th>TotalCoinSupply</th>\n",
       "    </tr>\n",
       "    <tr>\n",
       "      <th>Index</th>\n",
       "      <th></th>\n",
       "      <th></th>\n",
       "      <th></th>\n",
       "      <th></th>\n",
       "    </tr>\n",
       "  </thead>\n",
       "  <tbody>\n",
       "    <tr>\n",
       "      <th>42</th>\n",
       "      <td>Scrypt</td>\n",
       "      <td>PoW/PoS</td>\n",
       "      <td>4.199995e+01</td>\n",
       "      <td>42</td>\n",
       "    </tr>\n",
       "    <tr>\n",
       "      <th>404</th>\n",
       "      <td>Scrypt</td>\n",
       "      <td>PoW/PoS</td>\n",
       "      <td>1.055185e+09</td>\n",
       "      <td>532000000</td>\n",
       "    </tr>\n",
       "    <tr>\n",
       "      <th>1337</th>\n",
       "      <td>X13</td>\n",
       "      <td>PoW/PoS</td>\n",
       "      <td>2.927942e+10</td>\n",
       "      <td>314159265359</td>\n",
       "    </tr>\n",
       "    <tr>\n",
       "      <th>BTC</th>\n",
       "      <td>SHA-256</td>\n",
       "      <td>PoW</td>\n",
       "      <td>1.792718e+07</td>\n",
       "      <td>21000000</td>\n",
       "    </tr>\n",
       "    <tr>\n",
       "      <th>ETH</th>\n",
       "      <td>Ethash</td>\n",
       "      <td>PoW</td>\n",
       "      <td>1.076842e+08</td>\n",
       "      <td>0</td>\n",
       "    </tr>\n",
       "    <tr>\n",
       "      <th>...</th>\n",
       "      <td>...</td>\n",
       "      <td>...</td>\n",
       "      <td>...</td>\n",
       "      <td>...</td>\n",
       "    </tr>\n",
       "    <tr>\n",
       "      <th>ZEPH</th>\n",
       "      <td>SHA-256</td>\n",
       "      <td>DPoS</td>\n",
       "      <td>2.000000e+09</td>\n",
       "      <td>2000000000</td>\n",
       "    </tr>\n",
       "    <tr>\n",
       "      <th>GAP</th>\n",
       "      <td>Scrypt</td>\n",
       "      <td>PoW/PoS</td>\n",
       "      <td>1.493105e+07</td>\n",
       "      <td>250000000</td>\n",
       "    </tr>\n",
       "    <tr>\n",
       "      <th>BDX</th>\n",
       "      <td>CryptoNight</td>\n",
       "      <td>PoW</td>\n",
       "      <td>9.802226e+08</td>\n",
       "      <td>1400222610</td>\n",
       "    </tr>\n",
       "    <tr>\n",
       "      <th>ZEN</th>\n",
       "      <td>Equihash</td>\n",
       "      <td>PoW</td>\n",
       "      <td>7.296538e+06</td>\n",
       "      <td>21000000</td>\n",
       "    </tr>\n",
       "    <tr>\n",
       "      <th>XBC</th>\n",
       "      <td>Scrypt</td>\n",
       "      <td>PoS</td>\n",
       "      <td>1.283270e+05</td>\n",
       "      <td>1000000</td>\n",
       "    </tr>\n",
       "  </tbody>\n",
       "</table>\n",
       "<p>533 rows × 4 columns</p>\n",
       "</div>"
      ],
      "text/plain": [
       "         Algorithm ProofType  TotalCoinsMined TotalCoinSupply\n",
       "Index                                                        \n",
       "42          Scrypt   PoW/PoS     4.199995e+01              42\n",
       "404         Scrypt   PoW/PoS     1.055185e+09       532000000\n",
       "1337           X13   PoW/PoS     2.927942e+10    314159265359\n",
       "BTC        SHA-256       PoW     1.792718e+07        21000000\n",
       "ETH         Ethash       PoW     1.076842e+08               0\n",
       "...            ...       ...              ...             ...\n",
       "ZEPH       SHA-256      DPoS     2.000000e+09      2000000000\n",
       "GAP         Scrypt   PoW/PoS     1.493105e+07       250000000\n",
       "BDX    CryptoNight       PoW     9.802226e+08      1400222610\n",
       "ZEN       Equihash       PoW     7.296538e+06        21000000\n",
       "XBC         Scrypt       PoS     1.283270e+05         1000000\n",
       "\n",
       "[533 rows x 4 columns]"
      ]
     },
     "execution_count": 24,
     "metadata": {},
     "output_type": "execute_result"
    }
   ],
   "source": [
    "# Drop the 'CoinName' column since it's not going to be used on the clustering algorithm.\n",
    "crypto_df.drop(\"CoinName\", axis= 1)"
   ]
  },
  {
   "cell_type": "code",
   "execution_count": 25,
   "id": "d4bb0f92",
   "metadata": {},
   "outputs": [
    {
     "data": {
      "text/html": [
       "<div>\n",
       "<style scoped>\n",
       "    .dataframe tbody tr th:only-of-type {\n",
       "        vertical-align: middle;\n",
       "    }\n",
       "\n",
       "    .dataframe tbody tr th {\n",
       "        vertical-align: top;\n",
       "    }\n",
       "\n",
       "    .dataframe thead th {\n",
       "        text-align: right;\n",
       "    }\n",
       "</style>\n",
       "<table border=\"1\" class=\"dataframe\">\n",
       "  <thead>\n",
       "    <tr style=\"text-align: right;\">\n",
       "      <th></th>\n",
       "      <th>TotalCoinsMined</th>\n",
       "      <th>TotalCoinSupply</th>\n",
       "      <th>Algorithm_1GB AES Pattern Search</th>\n",
       "      <th>Algorithm_536</th>\n",
       "      <th>Algorithm_Argon2d</th>\n",
       "      <th>Algorithm_BLAKE256</th>\n",
       "      <th>Algorithm_Blake</th>\n",
       "      <th>Algorithm_Blake2S</th>\n",
       "      <th>Algorithm_Blake2b</th>\n",
       "      <th>Algorithm_C11</th>\n",
       "      <th>...</th>\n",
       "      <th>ProofType_PoW/PoS</th>\n",
       "      <th>ProofType_PoW/PoS</th>\n",
       "      <th>ProofType_PoW/PoW</th>\n",
       "      <th>ProofType_PoW/nPoS</th>\n",
       "      <th>ProofType_Pos</th>\n",
       "      <th>ProofType_Proof of Authority</th>\n",
       "      <th>ProofType_Proof of Trust</th>\n",
       "      <th>ProofType_TPoS</th>\n",
       "      <th>ProofType_Zero-Knowledge Proof</th>\n",
       "      <th>ProofType_dPoW/PoW</th>\n",
       "    </tr>\n",
       "    <tr>\n",
       "      <th>Index</th>\n",
       "      <th></th>\n",
       "      <th></th>\n",
       "      <th></th>\n",
       "      <th></th>\n",
       "      <th></th>\n",
       "      <th></th>\n",
       "      <th></th>\n",
       "      <th></th>\n",
       "      <th></th>\n",
       "      <th></th>\n",
       "      <th></th>\n",
       "      <th></th>\n",
       "      <th></th>\n",
       "      <th></th>\n",
       "      <th></th>\n",
       "      <th></th>\n",
       "      <th></th>\n",
       "      <th></th>\n",
       "      <th></th>\n",
       "      <th></th>\n",
       "      <th></th>\n",
       "    </tr>\n",
       "  </thead>\n",
       "  <tbody>\n",
       "    <tr>\n",
       "      <th>42</th>\n",
       "      <td>4.199995e+01</td>\n",
       "      <td>42</td>\n",
       "      <td>0</td>\n",
       "      <td>0</td>\n",
       "      <td>0</td>\n",
       "      <td>0</td>\n",
       "      <td>0</td>\n",
       "      <td>0</td>\n",
       "      <td>0</td>\n",
       "      <td>0</td>\n",
       "      <td>...</td>\n",
       "      <td>1</td>\n",
       "      <td>0</td>\n",
       "      <td>0</td>\n",
       "      <td>0</td>\n",
       "      <td>0</td>\n",
       "      <td>0</td>\n",
       "      <td>0</td>\n",
       "      <td>0</td>\n",
       "      <td>0</td>\n",
       "      <td>0</td>\n",
       "    </tr>\n",
       "    <tr>\n",
       "      <th>404</th>\n",
       "      <td>1.055185e+09</td>\n",
       "      <td>532000000</td>\n",
       "      <td>0</td>\n",
       "      <td>0</td>\n",
       "      <td>0</td>\n",
       "      <td>0</td>\n",
       "      <td>0</td>\n",
       "      <td>0</td>\n",
       "      <td>0</td>\n",
       "      <td>0</td>\n",
       "      <td>...</td>\n",
       "      <td>1</td>\n",
       "      <td>0</td>\n",
       "      <td>0</td>\n",
       "      <td>0</td>\n",
       "      <td>0</td>\n",
       "      <td>0</td>\n",
       "      <td>0</td>\n",
       "      <td>0</td>\n",
       "      <td>0</td>\n",
       "      <td>0</td>\n",
       "    </tr>\n",
       "    <tr>\n",
       "      <th>1337</th>\n",
       "      <td>2.927942e+10</td>\n",
       "      <td>314159265359</td>\n",
       "      <td>0</td>\n",
       "      <td>0</td>\n",
       "      <td>0</td>\n",
       "      <td>0</td>\n",
       "      <td>0</td>\n",
       "      <td>0</td>\n",
       "      <td>0</td>\n",
       "      <td>0</td>\n",
       "      <td>...</td>\n",
       "      <td>1</td>\n",
       "      <td>0</td>\n",
       "      <td>0</td>\n",
       "      <td>0</td>\n",
       "      <td>0</td>\n",
       "      <td>0</td>\n",
       "      <td>0</td>\n",
       "      <td>0</td>\n",
       "      <td>0</td>\n",
       "      <td>0</td>\n",
       "    </tr>\n",
       "    <tr>\n",
       "      <th>BTC</th>\n",
       "      <td>1.792718e+07</td>\n",
       "      <td>21000000</td>\n",
       "      <td>0</td>\n",
       "      <td>0</td>\n",
       "      <td>0</td>\n",
       "      <td>0</td>\n",
       "      <td>0</td>\n",
       "      <td>0</td>\n",
       "      <td>0</td>\n",
       "      <td>0</td>\n",
       "      <td>...</td>\n",
       "      <td>0</td>\n",
       "      <td>0</td>\n",
       "      <td>0</td>\n",
       "      <td>0</td>\n",
       "      <td>0</td>\n",
       "      <td>0</td>\n",
       "      <td>0</td>\n",
       "      <td>0</td>\n",
       "      <td>0</td>\n",
       "      <td>0</td>\n",
       "    </tr>\n",
       "    <tr>\n",
       "      <th>ETH</th>\n",
       "      <td>1.076842e+08</td>\n",
       "      <td>0</td>\n",
       "      <td>0</td>\n",
       "      <td>0</td>\n",
       "      <td>0</td>\n",
       "      <td>0</td>\n",
       "      <td>0</td>\n",
       "      <td>0</td>\n",
       "      <td>0</td>\n",
       "      <td>0</td>\n",
       "      <td>...</td>\n",
       "      <td>0</td>\n",
       "      <td>0</td>\n",
       "      <td>0</td>\n",
       "      <td>0</td>\n",
       "      <td>0</td>\n",
       "      <td>0</td>\n",
       "      <td>0</td>\n",
       "      <td>0</td>\n",
       "      <td>0</td>\n",
       "      <td>0</td>\n",
       "    </tr>\n",
       "  </tbody>\n",
       "</table>\n",
       "<p>5 rows × 100 columns</p>\n",
       "</div>"
      ],
      "text/plain": [
       "       TotalCoinsMined TotalCoinSupply  Algorithm_1GB AES Pattern Search  \\\n",
       "Index                                                                      \n",
       "42        4.199995e+01              42                                 0   \n",
       "404       1.055185e+09       532000000                                 0   \n",
       "1337      2.927942e+10    314159265359                                 0   \n",
       "BTC       1.792718e+07        21000000                                 0   \n",
       "ETH       1.076842e+08               0                                 0   \n",
       "\n",
       "       Algorithm_536  Algorithm_Argon2d  Algorithm_BLAKE256  Algorithm_Blake  \\\n",
       "Index                                                                          \n",
       "42                 0                  0                   0                0   \n",
       "404                0                  0                   0                0   \n",
       "1337               0                  0                   0                0   \n",
       "BTC                0                  0                   0                0   \n",
       "ETH                0                  0                   0                0   \n",
       "\n",
       "       Algorithm_Blake2S  Algorithm_Blake2b  Algorithm_C11  ...  \\\n",
       "Index                                                       ...   \n",
       "42                     0                  0              0  ...   \n",
       "404                    0                  0              0  ...   \n",
       "1337                   0                  0              0  ...   \n",
       "BTC                    0                  0              0  ...   \n",
       "ETH                    0                  0              0  ...   \n",
       "\n",
       "       ProofType_PoW/PoS  ProofType_PoW/PoS   ProofType_PoW/PoW  \\\n",
       "Index                                                             \n",
       "42                     1                   0                  0   \n",
       "404                    1                   0                  0   \n",
       "1337                   1                   0                  0   \n",
       "BTC                    0                   0                  0   \n",
       "ETH                    0                   0                  0   \n",
       "\n",
       "       ProofType_PoW/nPoS  ProofType_Pos  ProofType_Proof of Authority  \\\n",
       "Index                                                                    \n",
       "42                      0              0                             0   \n",
       "404                     0              0                             0   \n",
       "1337                    0              0                             0   \n",
       "BTC                     0              0                             0   \n",
       "ETH                     0              0                             0   \n",
       "\n",
       "       ProofType_Proof of Trust  ProofType_TPoS  \\\n",
       "Index                                             \n",
       "42                            0               0   \n",
       "404                           0               0   \n",
       "1337                          0               0   \n",
       "BTC                           0               0   \n",
       "ETH                           0               0   \n",
       "\n",
       "       ProofType_Zero-Knowledge Proof  ProofType_dPoW/PoW  \n",
       "Index                                                      \n",
       "42                                  0                   0  \n",
       "404                                 0                   0  \n",
       "1337                                0                   0  \n",
       "BTC                                 0                   0  \n",
       "ETH                                 0                   0  \n",
       "\n",
       "[5 rows x 100 columns]"
      ]
     },
     "execution_count": 25,
     "metadata": {},
     "output_type": "execute_result"
    }
   ],
   "source": [
    "# Use get_dummies() to create variables for text features.\n",
    "X = pd.get_dummies(crypto_df, columns = [\"Algorithm\",\"ProofType\"])\n",
    "X = X.drop(\"CoinName\", axis= 1)\n",
    "X.head()"
   ]
  },
  {
   "cell_type": "code",
   "execution_count": 26,
   "id": "4ae83a80",
   "metadata": {},
   "outputs": [
    {
     "name": "stdout",
     "output_type": "stream",
     "text": [
      "[[-0.11674788 -0.15286468 -0.0433555  ... -0.0433555  -0.0433555\n",
      "  -0.0433555 ]\n",
      " [-0.09358885 -0.14499604 -0.0433555  ... -0.0433555  -0.0433555\n",
      "  -0.0433555 ]\n",
      " [ 0.52587231  4.4937636  -0.0433555  ... -0.0433555  -0.0433555\n",
      "  -0.0433555 ]\n",
      " ...\n",
      " [-0.09523411 -0.13215444 -0.0433555  ... -0.0433555  -0.0433555\n",
      "  -0.0433555 ]\n",
      " [-0.11658774 -0.15255408 -0.0433555  ... -0.0433555  -0.0433555\n",
      "  -0.0433555 ]\n",
      " [-0.11674507 -0.15284989 -0.0433555  ... -0.0433555  -0.0433555\n",
      "  -0.0433555 ]]\n"
     ]
    }
   ],
   "source": [
    "# Standardize the data with StandardScaler().\n",
    "le = LabelEncoder()\n",
    "crypto_scaled = StandardScaler().fit_transform(X)\n",
    "print(crypto_scaled)"
   ]
  },
  {
   "cell_type": "markdown",
   "id": "9651a188",
   "metadata": {},
   "source": [
    "### Deliverable 2: Reducing Data Dimensions Using PCA"
   ]
  },
  {
   "cell_type": "code",
   "execution_count": 27,
   "id": "c403ca08",
   "metadata": {},
   "outputs": [
    {
     "name": "stdout",
     "output_type": "stream",
     "text": [
      "[[-0.33824655  1.1581585  -0.55288295]\n",
      " [-0.32156847  1.15822372 -0.55329781]\n",
      " [ 2.30921153  1.73292464 -0.63789313]\n",
      " ...\n",
      " [ 0.32622359 -2.31624985  0.42033623]\n",
      " [-0.15810872 -2.12168518  0.36538218]\n",
      " [-0.30033312  0.67938299 -0.30370702]]\n"
     ]
    }
   ],
   "source": [
    "# Using PCA to reduce dimension to three principal components.\n",
    "# Initialize PCA model\n",
    "pca = PCA(n_components=3)\n",
    "# Get two principal components for the iris data.\n",
    "crypto_pca = pca.fit_transform(crypto_scaled)\n",
    "print(crypto_pca)"
   ]
  },
  {
   "cell_type": "code",
   "execution_count": 28,
   "id": "d57ccb17",
   "metadata": {},
   "outputs": [
    {
     "data": {
      "text/html": [
       "<div>\n",
       "<style scoped>\n",
       "    .dataframe tbody tr th:only-of-type {\n",
       "        vertical-align: middle;\n",
       "    }\n",
       "\n",
       "    .dataframe tbody tr th {\n",
       "        vertical-align: top;\n",
       "    }\n",
       "\n",
       "    .dataframe thead th {\n",
       "        text-align: right;\n",
       "    }\n",
       "</style>\n",
       "<table border=\"1\" class=\"dataframe\">\n",
       "  <thead>\n",
       "    <tr style=\"text-align: right;\">\n",
       "      <th></th>\n",
       "      <th>PC 1</th>\n",
       "      <th>PC 2</th>\n",
       "      <th>PC 3</th>\n",
       "    </tr>\n",
       "    <tr>\n",
       "      <th>Index</th>\n",
       "      <th></th>\n",
       "      <th></th>\n",
       "      <th></th>\n",
       "    </tr>\n",
       "  </thead>\n",
       "  <tbody>\n",
       "    <tr>\n",
       "      <th>42</th>\n",
       "      <td>-0.338247</td>\n",
       "      <td>1.158159</td>\n",
       "      <td>-0.552883</td>\n",
       "    </tr>\n",
       "    <tr>\n",
       "      <th>404</th>\n",
       "      <td>-0.321568</td>\n",
       "      <td>1.158224</td>\n",
       "      <td>-0.553298</td>\n",
       "    </tr>\n",
       "    <tr>\n",
       "      <th>1337</th>\n",
       "      <td>2.309212</td>\n",
       "      <td>1.732925</td>\n",
       "      <td>-0.637893</td>\n",
       "    </tr>\n",
       "    <tr>\n",
       "      <th>BTC</th>\n",
       "      <td>-0.137559</td>\n",
       "      <td>-1.354812</td>\n",
       "      <td>0.178554</td>\n",
       "    </tr>\n",
       "    <tr>\n",
       "      <th>ETH</th>\n",
       "      <td>-0.155007</td>\n",
       "      <td>-2.039824</td>\n",
       "      <td>0.330441</td>\n",
       "    </tr>\n",
       "    <tr>\n",
       "      <th>LTC</th>\n",
       "      <td>-0.170286</td>\n",
       "      <td>-1.073065</td>\n",
       "      <td>0.002986</td>\n",
       "    </tr>\n",
       "    <tr>\n",
       "      <th>DASH</th>\n",
       "      <td>-0.380633</td>\n",
       "      <td>1.354995</td>\n",
       "      <td>-0.506964</td>\n",
       "    </tr>\n",
       "    <tr>\n",
       "      <th>XMR</th>\n",
       "      <td>-0.144097</td>\n",
       "      <td>-2.198865</td>\n",
       "      <td>0.396292</td>\n",
       "    </tr>\n",
       "    <tr>\n",
       "      <th>ETC</th>\n",
       "      <td>-0.153448</td>\n",
       "      <td>-2.039928</td>\n",
       "      <td>0.330428</td>\n",
       "    </tr>\n",
       "    <tr>\n",
       "      <th>ZEC</th>\n",
       "      <td>-0.158108</td>\n",
       "      <td>-2.121685</td>\n",
       "      <td>0.365382</td>\n",
       "    </tr>\n",
       "  </tbody>\n",
       "</table>\n",
       "</div>"
      ],
      "text/plain": [
       "           PC 1      PC 2      PC 3\n",
       "Index                              \n",
       "42    -0.338247  1.158159 -0.552883\n",
       "404   -0.321568  1.158224 -0.553298\n",
       "1337   2.309212  1.732925 -0.637893\n",
       "BTC   -0.137559 -1.354812  0.178554\n",
       "ETH   -0.155007 -2.039824  0.330441\n",
       "LTC   -0.170286 -1.073065  0.002986\n",
       "DASH  -0.380633  1.354995 -0.506964\n",
       "XMR   -0.144097 -2.198865  0.396292\n",
       "ETC   -0.153448 -2.039928  0.330428\n",
       "ZEC   -0.158108 -2.121685  0.365382"
      ]
     },
     "execution_count": 28,
     "metadata": {},
     "output_type": "execute_result"
    }
   ],
   "source": [
    "# Create a DataFrame with the three principal components.\n",
    "pcs_df = pd.DataFrame(data=crypto_pca, columns=[\"PC 1\", \"PC 2\", \"PC 3\"], index = crypto_name.index)\n",
    "pcs_df.head(10)"
   ]
  },
  {
   "cell_type": "markdown",
   "id": "89ca9381",
   "metadata": {},
   "source": [
    "### Deliverable 3: Clustering Crytocurrencies Using K-Means\n",
    "\n",
    "#### Finding the Best Value for `k` Using the Elbow Curve"
   ]
  },
  {
   "cell_type": "code",
   "execution_count": 29,
   "id": "724425cd",
   "metadata": {},
   "outputs": [
    {
     "data": {},
     "metadata": {},
     "output_type": "display_data"
    },
    {
     "data": {
      "application/vnd.holoviews_exec.v0+json": "",
      "text/html": [
       "<div id='1111'>\n",
       "  <div class=\"bk-root\" id=\"5da961af-4beb-428d-bc78-a899820ff93b\" data-root-id=\"1111\"></div>\n",
       "</div>\n",
       "<script type=\"application/javascript\">(function(root) {\n",
       "  function embed_document(root) {\n",
       "    var docs_json = {\"319efcbb-efe2-4cb2-96bf-9ba001934105\":{\"defs\":[{\"extends\":null,\"module\":null,\"name\":\"ReactiveHTML1\",\"overrides\":[],\"properties\":[]},{\"extends\":null,\"module\":null,\"name\":\"FlexBox1\",\"overrides\":[],\"properties\":[{\"default\":\"flex-start\",\"kind\":null,\"name\":\"align_content\"},{\"default\":\"flex-start\",\"kind\":null,\"name\":\"align_items\"},{\"default\":\"row\",\"kind\":null,\"name\":\"flex_direction\"},{\"default\":\"wrap\",\"kind\":null,\"name\":\"flex_wrap\"},{\"default\":\"flex-start\",\"kind\":null,\"name\":\"justify_content\"}]},{\"extends\":null,\"module\":null,\"name\":\"GridStack1\",\"overrides\":[],\"properties\":[{\"default\":\"warn\",\"kind\":null,\"name\":\"mode\"},{\"default\":null,\"kind\":null,\"name\":\"ncols\"},{\"default\":null,\"kind\":null,\"name\":\"nrows\"},{\"default\":true,\"kind\":null,\"name\":\"allow_resize\"},{\"default\":true,\"kind\":null,\"name\":\"allow_drag\"},{\"default\":[],\"kind\":null,\"name\":\"state\"}]},{\"extends\":null,\"module\":null,\"name\":\"click1\",\"overrides\":[],\"properties\":[{\"default\":\"\",\"kind\":null,\"name\":\"terminal_output\"},{\"default\":\"\",\"kind\":null,\"name\":\"debug_name\"},{\"default\":0,\"kind\":null,\"name\":\"clears\"}]},{\"extends\":null,\"module\":null,\"name\":\"NotificationAreaBase1\",\"overrides\":[],\"properties\":[{\"default\":\"bottom-right\",\"kind\":null,\"name\":\"position\"},{\"default\":0,\"kind\":null,\"name\":\"_clear\"}]},{\"extends\":null,\"module\":null,\"name\":\"NotificationArea1\",\"overrides\":[],\"properties\":[{\"default\":[],\"kind\":null,\"name\":\"notifications\"},{\"default\":\"bottom-right\",\"kind\":null,\"name\":\"position\"},{\"default\":0,\"kind\":null,\"name\":\"_clear\"},{\"default\":[{\"background\":\"#ffc107\",\"icon\":{\"className\":\"fas fa-exclamation-triangle\",\"color\":\"white\",\"tagName\":\"i\"},\"type\":\"warning\"},{\"background\":\"#007bff\",\"icon\":{\"className\":\"fas fa-info-circle\",\"color\":\"white\",\"tagName\":\"i\"},\"type\":\"info\"}],\"kind\":null,\"name\":\"types\"}]},{\"extends\":null,\"module\":null,\"name\":\"Notification\",\"overrides\":[],\"properties\":[{\"default\":null,\"kind\":null,\"name\":\"background\"},{\"default\":3000,\"kind\":null,\"name\":\"duration\"},{\"default\":null,\"kind\":null,\"name\":\"icon\"},{\"default\":\"\",\"kind\":null,\"name\":\"message\"},{\"default\":null,\"kind\":null,\"name\":\"notification_type\"},{\"default\":false,\"kind\":null,\"name\":\"_destroyed\"}]},{\"extends\":null,\"module\":null,\"name\":\"TemplateActions1\",\"overrides\":[],\"properties\":[{\"default\":0,\"kind\":null,\"name\":\"open_modal\"},{\"default\":0,\"kind\":null,\"name\":\"close_modal\"}]},{\"extends\":null,\"module\":null,\"name\":\"MaterialTemplateActions1\",\"overrides\":[],\"properties\":[{\"default\":0,\"kind\":null,\"name\":\"open_modal\"},{\"default\":0,\"kind\":null,\"name\":\"close_modal\"}]}],\"roots\":{\"references\":[{\"attributes\":{\"below\":[{\"id\":\"1125\"}],\"center\":[{\"id\":\"1128\"},{\"id\":\"1132\"}],\"height\":300,\"left\":[{\"id\":\"1129\"}],\"margin\":[5,5,5,5],\"min_border_bottom\":10,\"min_border_left\":10,\"min_border_right\":10,\"min_border_top\":10,\"renderers\":[{\"id\":\"1152\"}],\"sizing_mode\":\"fixed\",\"title\":{\"id\":\"1117\"},\"toolbar\":{\"id\":\"1139\"},\"width\":700,\"x_range\":{\"id\":\"1113\"},\"x_scale\":{\"id\":\"1121\"},\"y_range\":{\"id\":\"1114\"},\"y_scale\":{\"id\":\"1123\"}},\"id\":\"1116\",\"subtype\":\"Figure\",\"type\":\"Plot\"},{\"attributes\":{},\"id\":\"1170\",\"type\":\"UnionRenderers\"},{\"attributes\":{\"data\":{\"inertia\":{\"__ndarray__\":\"hLEB9p97rECt3r2ZbtWkQIwoeQCRbZdA3mpTd1rUgEAL9yFyeYF1QHa/O2MRFnFA5r0+29m3akD7zDfOm2ZkQP5wmY+4PGFAI/jYBeSIXEA=\",\"dtype\":\"float64\",\"order\":\"little\",\"shape\":[10]},\"k\":[1,2,3,4,5,6,7,8,9,10]},\"selected\":{\"id\":\"1147\"},\"selection_policy\":{\"id\":\"1170\"}},\"id\":\"1146\",\"type\":\"ColumnDataSource\"},{\"attributes\":{\"margin\":[5,5,5,5],\"name\":\"HSpacer00969\",\"sizing_mode\":\"stretch_width\"},\"id\":\"1112\",\"type\":\"Spacer\"},{\"attributes\":{},\"id\":\"1130\",\"type\":\"BasicTicker\"},{\"attributes\":{},\"id\":\"1158\",\"type\":\"AllLabels\"},{\"attributes\":{\"axis\":{\"id\":\"1129\"},\"coordinates\":null,\"dimension\":1,\"grid_line_color\":null,\"group\":null,\"ticker\":null},\"id\":\"1132\",\"type\":\"Grid\"},{\"attributes\":{\"margin\":[5,5,5,5],\"name\":\"HSpacer00970\",\"sizing_mode\":\"stretch_width\"},\"id\":\"1173\",\"type\":\"Spacer\"},{\"attributes\":{\"coordinates\":null,\"data_source\":{\"id\":\"1146\"},\"glyph\":{\"id\":\"1149\"},\"group\":null,\"hover_glyph\":null,\"muted_glyph\":{\"id\":\"1151\"},\"nonselection_glyph\":{\"id\":\"1150\"},\"selection_glyph\":{\"id\":\"1154\"},\"view\":{\"id\":\"1153\"}},\"id\":\"1152\",\"type\":\"GlyphRenderer\"},{\"attributes\":{\"callback\":null,\"renderers\":[{\"id\":\"1152\"}],\"tags\":[\"hv_created\"],\"tooltips\":[[\"k\",\"@{k}\"],[\"inertia\",\"@{inertia}\"]]},\"id\":\"1115\",\"type\":\"HoverTool\"},{\"attributes\":{\"children\":[{\"id\":\"1112\"},{\"id\":\"1116\"},{\"id\":\"1173\"}],\"margin\":[0,0,0,0],\"name\":\"Row00965\",\"tags\":[\"embedded\"]},\"id\":\"1111\",\"type\":\"Row\"},{\"attributes\":{\"axis_label\":\"inertia\",\"coordinates\":null,\"formatter\":{\"id\":\"1162\"},\"group\":null,\"major_label_policy\":{\"id\":\"1163\"},\"ticker\":{\"id\":\"1130\"}},\"id\":\"1129\",\"type\":\"LinearAxis\"},{\"attributes\":{},\"id\":\"1157\",\"type\":\"BasicTickFormatter\"},{\"attributes\":{\"tools\":[{\"id\":\"1115\"},{\"id\":\"1133\"},{\"id\":\"1134\"},{\"id\":\"1135\"},{\"id\":\"1136\"},{\"id\":\"1137\"}]},\"id\":\"1139\",\"type\":\"Toolbar\"},{\"attributes\":{\"line_color\":\"#30a2da\",\"line_width\":2,\"x\":{\"field\":\"k\"},\"y\":{\"field\":\"inertia\"}},\"id\":\"1154\",\"type\":\"Line\"},{\"attributes\":{\"source\":{\"id\":\"1146\"}},\"id\":\"1153\",\"type\":\"CDSView\"},{\"attributes\":{},\"id\":\"1133\",\"type\":\"SaveTool\"},{\"attributes\":{\"ticks\":[1,2,3,4,5,6,7,8,9,10]},\"id\":\"1155\",\"type\":\"FixedTicker\"},{\"attributes\":{},\"id\":\"1134\",\"type\":\"PanTool\"},{\"attributes\":{},\"id\":\"1135\",\"type\":\"WheelZoomTool\"},{\"attributes\":{\"end\":3998.9797743911963,\"reset_end\":3998.9797743911963,\"reset_start\":-239.02843322488735,\"start\":-239.02843322488735,\"tags\":[[[\"inertia\",\"inertia\",null]]]},\"id\":\"1114\",\"type\":\"Range1d\"},{\"attributes\":{},\"id\":\"1163\",\"type\":\"AllLabels\"},{\"attributes\":{\"coordinates\":null,\"group\":null,\"text\":\"Elbow Curve\",\"text_color\":\"black\",\"text_font_size\":\"12pt\"},\"id\":\"1117\",\"type\":\"Title\"},{\"attributes\":{\"overlay\":{\"id\":\"1138\"}},\"id\":\"1136\",\"type\":\"BoxZoomTool\"},{\"attributes\":{},\"id\":\"1121\",\"type\":\"LinearScale\"},{\"attributes\":{\"line_alpha\":0.1,\"line_color\":\"#30a2da\",\"line_width\":2,\"x\":{\"field\":\"k\"},\"y\":{\"field\":\"inertia\"}},\"id\":\"1150\",\"type\":\"Line\"},{\"attributes\":{\"line_color\":\"#30a2da\",\"line_width\":2,\"x\":{\"field\":\"k\"},\"y\":{\"field\":\"inertia\"}},\"id\":\"1149\",\"type\":\"Line\"},{\"attributes\":{\"line_alpha\":0.2,\"line_color\":\"#30a2da\",\"line_width\":2,\"x\":{\"field\":\"k\"},\"y\":{\"field\":\"inertia\"}},\"id\":\"1151\",\"type\":\"Line\"},{\"attributes\":{\"end\":10.0,\"reset_end\":10.0,\"reset_start\":1.0,\"start\":1.0,\"tags\":[[[\"k\",\"k\",null]]]},\"id\":\"1113\",\"type\":\"Range1d\"},{\"attributes\":{},\"id\":\"1147\",\"type\":\"Selection\"},{\"attributes\":{},\"id\":\"1137\",\"type\":\"ResetTool\"},{\"attributes\":{\"bottom_units\":\"screen\",\"coordinates\":null,\"fill_alpha\":0.5,\"fill_color\":\"lightgrey\",\"group\":null,\"left_units\":\"screen\",\"level\":\"overlay\",\"line_alpha\":1.0,\"line_color\":\"black\",\"line_dash\":[4,4],\"line_width\":2,\"right_units\":\"screen\",\"syncable\":false,\"top_units\":\"screen\"},\"id\":\"1138\",\"type\":\"BoxAnnotation\"},{\"attributes\":{},\"id\":\"1123\",\"type\":\"LinearScale\"},{\"attributes\":{\"axis_label\":\"k\",\"coordinates\":null,\"formatter\":{\"id\":\"1157\"},\"group\":null,\"major_label_policy\":{\"id\":\"1158\"},\"ticker\":{\"id\":\"1155\"}},\"id\":\"1125\",\"type\":\"LinearAxis\"},{\"attributes\":{},\"id\":\"1162\",\"type\":\"BasicTickFormatter\"},{\"attributes\":{\"axis\":{\"id\":\"1125\"},\"coordinates\":null,\"grid_line_color\":null,\"group\":null,\"ticker\":null},\"id\":\"1128\",\"type\":\"Grid\"}],\"root_ids\":[\"1111\"]},\"title\":\"Bokeh Application\",\"version\":\"2.4.3\"}};\n",
       "    var render_items = [{\"docid\":\"319efcbb-efe2-4cb2-96bf-9ba001934105\",\"root_ids\":[\"1111\"],\"roots\":{\"1111\":\"5da961af-4beb-428d-bc78-a899820ff93b\"}}];\n",
       "    root.Bokeh.embed.embed_items_notebook(docs_json, render_items);\n",
       "  }\n",
       "  if (root.Bokeh !== undefined && root.Bokeh.Panel !== undefined) {\n",
       "    embed_document(root);\n",
       "  } else {\n",
       "    var attempts = 0;\n",
       "    var timer = setInterval(function(root) {\n",
       "      if (root.Bokeh !== undefined && root.Bokeh.Panel !== undefined) {\n",
       "        clearInterval(timer);\n",
       "        embed_document(root);\n",
       "      } else if (document.readyState == \"complete\") {\n",
       "        attempts++;\n",
       "        if (attempts > 200) {\n",
       "          clearInterval(timer);\n",
       "          console.log(\"Bokeh: ERROR: Unable to run BokehJS code because BokehJS library is missing\");\n",
       "        }\n",
       "      }\n",
       "    }, 25, root)\n",
       "  }\n",
       "})(window);</script>"
      ],
      "text/plain": [
       ":Curve   [k]   (inertia)"
      ]
     },
     "execution_count": 29,
     "metadata": {
      "application/vnd.holoviews_exec.v0+json": {
       "id": "1111"
      }
     },
     "output_type": "execute_result"
    }
   ],
   "source": [
    "# Create an elbow curve to find the best value for K.\n",
    "inertia = []\n",
    "k = list(range(1, 11))\n",
    "\n",
    "# Calculate the inertia for the range of K values\n",
    "for i in k:\n",
    "    km = KMeans(n_clusters=i, random_state=0)\n",
    "    km.fit(pcs_df)\n",
    "    inertia.append(km.inertia_)\n",
    "    \n",
    "# Create the Elbow Curve\n",
    "elbow_data = {\"k\": k, \"inertia\": inertia}\n",
    "df_elbow = pd.DataFrame(elbow_data)\n",
    "df_elbow.hvplot.line(x=\"k\", y=\"inertia\", xticks=k, title=\"Elbow Curve\")"
   ]
  },
  {
   "cell_type": "code",
   "execution_count": 35,
   "id": "0de2f5bf",
   "metadata": {},
   "outputs": [],
   "source": [
    "# Initialize the K-Means model with k = 4.\n",
    "model = KMeans(n_clusters=4, random_state=0)\n",
    "model\n",
    "\n",
    "# Fit the model\n",
    "model.fit(pcs_df)\n",
    "\n",
    "# Predict clusters\n",
    "predictions = model.predict(pcs_df)"
   ]
  },
  {
   "cell_type": "code",
   "execution_count": 58,
   "id": "3b1659ec",
   "metadata": {},
   "outputs": [
    {
     "name": "stdout",
     "output_type": "stream",
     "text": [
      "(533, 9)\n"
     ]
    },
    {
     "data": {
      "text/html": [
       "<div>\n",
       "<style scoped>\n",
       "    .dataframe tbody tr th:only-of-type {\n",
       "        vertical-align: middle;\n",
       "    }\n",
       "\n",
       "    .dataframe tbody tr th {\n",
       "        vertical-align: top;\n",
       "    }\n",
       "\n",
       "    .dataframe thead th {\n",
       "        text-align: right;\n",
       "    }\n",
       "</style>\n",
       "<table border=\"1\" class=\"dataframe\">\n",
       "  <thead>\n",
       "    <tr style=\"text-align: right;\">\n",
       "      <th></th>\n",
       "      <th>CoinName</th>\n",
       "      <th>Algorithm</th>\n",
       "      <th>ProofType</th>\n",
       "      <th>TotalCoinsMined</th>\n",
       "      <th>TotalCoinSupply</th>\n",
       "      <th>PC 1</th>\n",
       "      <th>PC 2</th>\n",
       "      <th>PC 3</th>\n",
       "      <th>Class</th>\n",
       "    </tr>\n",
       "    <tr>\n",
       "      <th>Index</th>\n",
       "      <th></th>\n",
       "      <th></th>\n",
       "      <th></th>\n",
       "      <th></th>\n",
       "      <th></th>\n",
       "      <th></th>\n",
       "      <th></th>\n",
       "      <th></th>\n",
       "      <th></th>\n",
       "    </tr>\n",
       "  </thead>\n",
       "  <tbody>\n",
       "    <tr>\n",
       "      <th>42</th>\n",
       "      <td>42 Coin</td>\n",
       "      <td>Scrypt</td>\n",
       "      <td>PoW/PoS</td>\n",
       "      <td>4.199995e+01</td>\n",
       "      <td>42</td>\n",
       "      <td>-0.338247</td>\n",
       "      <td>1.158159</td>\n",
       "      <td>-0.552883</td>\n",
       "      <td>0</td>\n",
       "    </tr>\n",
       "    <tr>\n",
       "      <th>404</th>\n",
       "      <td>404Coin</td>\n",
       "      <td>Scrypt</td>\n",
       "      <td>PoW/PoS</td>\n",
       "      <td>1.055185e+09</td>\n",
       "      <td>532000000</td>\n",
       "      <td>-0.321568</td>\n",
       "      <td>1.158224</td>\n",
       "      <td>-0.553298</td>\n",
       "      <td>0</td>\n",
       "    </tr>\n",
       "    <tr>\n",
       "      <th>1337</th>\n",
       "      <td>EliteCoin</td>\n",
       "      <td>X13</td>\n",
       "      <td>PoW/PoS</td>\n",
       "      <td>2.927942e+10</td>\n",
       "      <td>314159265359</td>\n",
       "      <td>2.309212</td>\n",
       "      <td>1.732925</td>\n",
       "      <td>-0.637893</td>\n",
       "      <td>0</td>\n",
       "    </tr>\n",
       "    <tr>\n",
       "      <th>BTC</th>\n",
       "      <td>Bitcoin</td>\n",
       "      <td>SHA-256</td>\n",
       "      <td>PoW</td>\n",
       "      <td>1.792718e+07</td>\n",
       "      <td>21000000</td>\n",
       "      <td>-0.137559</td>\n",
       "      <td>-1.354812</td>\n",
       "      <td>0.178554</td>\n",
       "      <td>1</td>\n",
       "    </tr>\n",
       "    <tr>\n",
       "      <th>ETH</th>\n",
       "      <td>Ethereum</td>\n",
       "      <td>Ethash</td>\n",
       "      <td>PoW</td>\n",
       "      <td>1.076842e+08</td>\n",
       "      <td>0</td>\n",
       "      <td>-0.155007</td>\n",
       "      <td>-2.039824</td>\n",
       "      <td>0.330441</td>\n",
       "      <td>1</td>\n",
       "    </tr>\n",
       "    <tr>\n",
       "      <th>LTC</th>\n",
       "      <td>Litecoin</td>\n",
       "      <td>Scrypt</td>\n",
       "      <td>PoW</td>\n",
       "      <td>6.303924e+07</td>\n",
       "      <td>84000000</td>\n",
       "      <td>-0.170286</td>\n",
       "      <td>-1.073065</td>\n",
       "      <td>0.002986</td>\n",
       "      <td>1</td>\n",
       "    </tr>\n",
       "    <tr>\n",
       "      <th>DASH</th>\n",
       "      <td>Dash</td>\n",
       "      <td>X11</td>\n",
       "      <td>PoW/PoS</td>\n",
       "      <td>9.031294e+06</td>\n",
       "      <td>22000000</td>\n",
       "      <td>-0.380633</td>\n",
       "      <td>1.354995</td>\n",
       "      <td>-0.506964</td>\n",
       "      <td>0</td>\n",
       "    </tr>\n",
       "    <tr>\n",
       "      <th>XMR</th>\n",
       "      <td>Monero</td>\n",
       "      <td>CryptoNight-V7</td>\n",
       "      <td>PoW</td>\n",
       "      <td>1.720114e+07</td>\n",
       "      <td>0</td>\n",
       "      <td>-0.144097</td>\n",
       "      <td>-2.198865</td>\n",
       "      <td>0.396292</td>\n",
       "      <td>1</td>\n",
       "    </tr>\n",
       "    <tr>\n",
       "      <th>ETC</th>\n",
       "      <td>Ethereum Classic</td>\n",
       "      <td>Ethash</td>\n",
       "      <td>PoW</td>\n",
       "      <td>1.133597e+08</td>\n",
       "      <td>210000000</td>\n",
       "      <td>-0.153448</td>\n",
       "      <td>-2.039928</td>\n",
       "      <td>0.330428</td>\n",
       "      <td>1</td>\n",
       "    </tr>\n",
       "    <tr>\n",
       "      <th>ZEC</th>\n",
       "      <td>ZCash</td>\n",
       "      <td>Equihash</td>\n",
       "      <td>PoW</td>\n",
       "      <td>7.383056e+06</td>\n",
       "      <td>21000000</td>\n",
       "      <td>-0.158108</td>\n",
       "      <td>-2.121685</td>\n",
       "      <td>0.365382</td>\n",
       "      <td>1</td>\n",
       "    </tr>\n",
       "  </tbody>\n",
       "</table>\n",
       "</div>"
      ],
      "text/plain": [
       "               CoinName       Algorithm ProofType  TotalCoinsMined  \\\n",
       "Index                                                                \n",
       "42              42 Coin          Scrypt   PoW/PoS     4.199995e+01   \n",
       "404             404Coin          Scrypt   PoW/PoS     1.055185e+09   \n",
       "1337          EliteCoin             X13   PoW/PoS     2.927942e+10   \n",
       "BTC             Bitcoin         SHA-256       PoW     1.792718e+07   \n",
       "ETH            Ethereum          Ethash       PoW     1.076842e+08   \n",
       "LTC            Litecoin          Scrypt       PoW     6.303924e+07   \n",
       "DASH               Dash             X11   PoW/PoS     9.031294e+06   \n",
       "XMR              Monero  CryptoNight-V7       PoW     1.720114e+07   \n",
       "ETC    Ethereum Classic          Ethash       PoW     1.133597e+08   \n",
       "ZEC               ZCash        Equihash       PoW     7.383056e+06   \n",
       "\n",
       "      TotalCoinSupply      PC 1      PC 2      PC 3  Class  \n",
       "Index                                                       \n",
       "42                 42 -0.338247  1.158159 -0.552883      0  \n",
       "404         532000000 -0.321568  1.158224 -0.553298      0  \n",
       "1337     314159265359  2.309212  1.732925 -0.637893      0  \n",
       "BTC          21000000 -0.137559 -1.354812  0.178554      1  \n",
       "ETH                 0 -0.155007 -2.039824  0.330441      1  \n",
       "LTC          84000000 -0.170286 -1.073065  0.002986      1  \n",
       "DASH         22000000 -0.380633  1.354995 -0.506964      0  \n",
       "XMR                 0 -0.144097 -2.198865  0.396292      1  \n",
       "ETC         210000000 -0.153448 -2.039928  0.330428      1  \n",
       "ZEC          21000000 -0.158108 -2.121685  0.365382      1  "
      ]
     },
     "execution_count": 58,
     "metadata": {},
     "output_type": "execute_result"
    }
   ],
   "source": [
    "# Create a new DataFrame including predicted clusters and cryptocurrencies features.\n",
    "# Concatentate the crypto_df and pcs_df DataFrames on the same columns.\n",
    "clustered_df = pd.concat([crypto_df,pcs_df],axis =1)\n",
    "#  Add a new column, \"CoinName\" to the clustered_df DataFrame that holds the names of the cryptocurrencies. \n",
    "clustered_df['CoinName'] = crypto_name['CoinName']\n",
    "#  Add a new column, \"Class\" to the clustered_df DataFrame that holds the predictions.\n",
    "clustered_df[\"Class\"]= model.labels_\n",
    "# Print the shape of the clustered_df\n",
    "print(clustered_df.shape)\n",
    "clustered_df.head(10)"
   ]
  },
  {
   "cell_type": "markdown",
   "id": "565770ef",
   "metadata": {},
   "source": [
    "### Deliverable 4: Visualizing Cryptocurrencies Results\n",
    "\n",
    "#### 3D-Scatter with Clusters"
   ]
  },
  {
   "cell_type": "code",
   "execution_count": 63,
   "id": "b8577ed1",
   "metadata": {},
   "outputs": [
    {
     "data": {
      "application/vnd.plotly.v1+json": {
       "config": {
        "plotlyServerURL": "https://plot.ly"
       },
       "data": [
        {
         "customdata": [
          [
           "Scrypt"
          ],
          [
           "Scrypt"
          ],
          [
           "X13"
          ],
          [
           "X11"
          ],
          [
           "SHA-512"
          ],
          [
           "SHA-256"
          ],
          [
           "SHA-256"
          ],
          [
           "X15"
          ],
          [
           "Scrypt"
          ],
          [
           "Scrypt"
          ],
          [
           "Scrypt"
          ],
          [
           "Scrypt"
          ],
          [
           "Scrypt"
          ],
          [
           "Scrypt"
          ],
          [
           "Groestl"
          ],
          [
           "PoS"
          ],
          [
           "Scrypt"
          ],
          [
           "Scrypt"
          ],
          [
           "X11"
          ],
          [
           "X11"
          ],
          [
           "SHA3"
          ],
          [
           "Scrypt"
          ],
          [
           "SHA-256"
          ],
          [
           "Scrypt"
          ],
          [
           "X13"
          ],
          [
           "X13"
          ],
          [
           "NeoScrypt"
          ],
          [
           "Scrypt"
          ],
          [
           "Scrypt"
          ],
          [
           "Scrypt"
          ],
          [
           "X11"
          ],
          [
           "X11"
          ],
          [
           "PHI1612"
          ],
          [
           "X11"
          ],
          [
           "Scrypt"
          ],
          [
           "Scrypt"
          ],
          [
           "Scrypt"
          ],
          [
           "X11"
          ],
          [
           "X13"
          ],
          [
           "Scrypt"
          ],
          [
           "Shabal256"
          ],
          [
           "Counterparty"
          ],
          [
           "SHA-256"
          ],
          [
           "Groestl"
          ],
          [
           "Scrypt"
          ],
          [
           "X13"
          ],
          [
           "Scrypt"
          ],
          [
           "Scrypt"
          ],
          [
           "X13"
          ],
          [
           "X11"
          ],
          [
           "Scrypt"
          ],
          [
           "X11"
          ],
          [
           "SHA3"
          ],
          [
           "QUAIT"
          ],
          [
           "X11"
          ],
          [
           "Scrypt"
          ],
          [
           "X13"
          ],
          [
           "SHA-256"
          ],
          [
           "X15"
          ],
          [
           "BLAKE256"
          ],
          [
           "SHA-256"
          ],
          [
           "X11"
          ],
          [
           "SHA-256"
          ],
          [
           "NIST5"
          ],
          [
           "Scrypt"
          ],
          [
           "Scrypt"
          ],
          [
           "X11"
          ],
          [
           "Scrypt"
          ],
          [
           "SHA-256"
          ],
          [
           "Scrypt"
          ],
          [
           "PoS"
          ],
          [
           "X11"
          ],
          [
           "SHA-256"
          ],
          [
           "SHA-256"
          ],
          [
           "NIST5"
          ],
          [
           "X11"
          ],
          [
           "POS 3.0"
          ],
          [
           "Scrypt"
          ],
          [
           "Scrypt"
          ],
          [
           "Scrypt"
          ],
          [
           "X13"
          ],
          [
           "X11"
          ],
          [
           "X11"
          ],
          [
           "Scrypt"
          ],
          [
           "SHA-256"
          ],
          [
           "X11"
          ],
          [
           "Scrypt"
          ],
          [
           "Scrypt"
          ],
          [
           "Scrypt"
          ],
          [
           "Scrypt"
          ],
          [
           "SHA-256D"
          ],
          [
           "PoS"
          ],
          [
           "Scrypt"
          ],
          [
           "X11"
          ],
          [
           "PoS"
          ],
          [
           "X13"
          ],
          [
           "X14"
          ],
          [
           "PoS"
          ],
          [
           "SHA-256D"
          ],
          [
           "DPoS"
          ],
          [
           "X11"
          ],
          [
           "X13"
          ],
          [
           "X11"
          ],
          [
           "PoS"
          ],
          [
           "Scrypt"
          ],
          [
           "Scrypt"
          ],
          [
           "PoS"
          ],
          [
           "X11"
          ],
          [
           "SHA-256"
          ],
          [
           "Scrypt"
          ],
          [
           "X11"
          ],
          [
           "Scrypt"
          ],
          [
           "Scrypt"
          ],
          [
           "X11"
          ],
          [
           "Scrypt"
          ],
          [
           "Scrypt"
          ],
          [
           "Scrypt"
          ],
          [
           "Scrypt"
          ],
          [
           "Quark"
          ],
          [
           "QuBit"
          ],
          [
           "Scrypt"
          ],
          [
           "SHA-256"
          ],
          [
           "X11"
          ],
          [
           "Scrypt"
          ],
          [
           "Scrypt"
          ],
          [
           "Scrypt"
          ],
          [
           "Scrypt"
          ],
          [
           "X13"
          ],
          [
           "Scrypt"
          ],
          [
           "Scrypt"
          ],
          [
           "X11"
          ],
          [
           "Blake2S"
          ],
          [
           "X11"
          ],
          [
           "PoS"
          ],
          [
           "X11"
          ],
          [
           "PoS"
          ],
          [
           "X11"
          ],
          [
           "Scrypt"
          ],
          [
           "Scrypt"
          ],
          [
           "Scrypt"
          ],
          [
           "SHA-256"
          ],
          [
           "X11"
          ],
          [
           "Scrypt"
          ],
          [
           "PoS"
          ],
          [
           "Scrypt"
          ],
          [
           "X15"
          ],
          [
           "SHA-256"
          ],
          [
           "POS 3.0"
          ],
          [
           "536"
          ],
          [
           "NIST5"
          ],
          [
           "NIST5"
          ],
          [
           "Skein"
          ],
          [
           "X13"
          ],
          [
           "Scrypt"
          ],
          [
           "X13"
          ],
          [
           "SkunkHash v2 Raptor"
          ],
          [
           "Skein"
          ],
          [
           "X11"
          ],
          [
           "Scrypt"
          ],
          [
           "VeChainThor Authority"
          ],
          [
           "PoS"
          ],
          [
           "Scrypt"
          ],
          [
           "Scrypt"
          ],
          [
           "SHA-512"
          ],
          [
           "Ouroboros"
          ],
          [
           "X11"
          ],
          [
           "NeoScrypt"
          ],
          [
           "Scrypt"
          ],
          [
           "Lyra2REv2"
          ],
          [
           "Scrypt"
          ],
          [
           "SHA-256"
          ],
          [
           "NIST5"
          ],
          [
           "PHI1612"
          ],
          [
           "Scrypt"
          ],
          [
           "Quark"
          ],
          [
           "POS 2.0"
          ],
          [
           "Scrypt"
          ],
          [
           "SHA-256"
          ],
          [
           "X11"
          ],
          [
           "DPoS"
          ],
          [
           "NIST5"
          ],
          [
           "X13"
          ],
          [
           "Scrypt"
          ],
          [
           "NIST5"
          ],
          [
           "Quark"
          ],
          [
           "Scrypt"
          ],
          [
           "Scrypt"
          ],
          [
           "X11"
          ],
          [
           "Quark"
          ],
          [
           "Scrypt"
          ],
          [
           "Scrypt"
          ],
          [
           "X11"
          ],
          [
           "POS 3.0"
          ],
          [
           "Scrypt"
          ],
          [
           "Scrypt"
          ],
          [
           "X13"
          ],
          [
           "C11"
          ],
          [
           "X11"
          ],
          [
           "XEVAN"
          ],
          [
           "Scrypt"
          ],
          [
           "VBFT"
          ],
          [
           "NIST5"
          ],
          [
           "Scrypt"
          ],
          [
           "Scrypt"
          ],
          [
           "Scrypt"
          ],
          [
           "Green Protocol"
          ],
          [
           "PoS"
          ],
          [
           "Scrypt"
          ],
          [
           "Semux BFT consensus"
          ],
          [
           "Quark"
          ],
          [
           "PoS"
          ],
          [
           "X16R"
          ],
          [
           "Scrypt"
          ],
          [
           "XEVAN"
          ],
          [
           "Scrypt"
          ],
          [
           "Scrypt"
          ],
          [
           "Scrypt"
          ],
          [
           "SHA-256D"
          ],
          [
           "Scrypt"
          ],
          [
           "X15"
          ],
          [
           "Scrypt"
          ],
          [
           "Quark"
          ],
          [
           "SHA-256"
          ],
          [
           "DPoS"
          ],
          [
           "X16R"
          ],
          [
           "Quark"
          ],
          [
           "Quark"
          ],
          [
           "Scrypt"
          ],
          [
           "Lyra2REv2"
          ],
          [
           "Quark"
          ],
          [
           "Scrypt"
          ],
          [
           "X11"
          ],
          [
           "X11"
          ],
          [
           "Scrypt"
          ],
          [
           "PoS"
          ],
          [
           "Keccak"
          ],
          [
           "X11"
          ],
          [
           "Scrypt"
          ],
          [
           "SHA-512"
          ],
          [
           "XEVAN"
          ],
          [
           "XEVAN"
          ],
          [
           "X11"
          ],
          [
           "Quark"
          ],
          [
           "Scrypt"
          ],
          [
           "Quark"
          ],
          [
           "Quark"
          ],
          [
           "Scrypt"
          ],
          [
           "X11"
          ],
          [
           "Scrypt"
          ],
          [
           "XEVAN"
          ],
          [
           "SHA-256D"
          ],
          [
           "X11"
          ],
          [
           "X11"
          ],
          [
           "DPoS"
          ],
          [
           "Scrypt"
          ],
          [
           "X11"
          ],
          [
           "Scrypt"
          ],
          [
           "Scrypt"
          ],
          [
           "SHA-256"
          ],
          [
           "Scrypt"
          ],
          [
           "X11"
          ],
          [
           "Scrypt"
          ],
          [
           "SHA-256"
          ],
          [
           "X11"
          ],
          [
           "Scrypt"
          ],
          [
           "Scrypt"
          ],
          [
           "X11"
          ],
          [
           "Scrypt"
          ],
          [
           "PoS"
          ],
          [
           "X11"
          ],
          [
           "SHA-256"
          ],
          [
           "DPoS"
          ],
          [
           "Scrypt"
          ],
          [
           "Scrypt"
          ],
          [
           "NeoScrypt"
          ],
          [
           "X13"
          ],
          [
           "DPoS"
          ],
          [
           "DPoS"
          ],
          [
           "SHA-256"
          ],
          [
           "PoS"
          ],
          [
           "PoS"
          ],
          [
           "SHA-256"
          ],
          [
           "Scrypt"
          ],
          [
           "Scrypt"
          ]
         ],
         "hovertemplate": "<b>%{hovertext}</b><br><br>Class=%{marker.color}<br>PC 1=%{x}<br>PC 2=%{y}<br>PC 3=%{z}<br>Algorithm=%{customdata[0]}<extra></extra>",
         "hovertext": [
          "42 Coin",
          "404Coin",
          "EliteCoin",
          "Dash",
          "Bitshares",
          "BitcoinDark",
          "PayCoin",
          "KoboCoin",
          "Aurora Coin",
          "BlueCoin",
          "EnergyCoin",
          "BitBar",
          "CryptoBullion",
          "CasinoCoin",
          "Diamond",
          "Exclusive Coin",
          "FlutterCoin",
          "HoboNickels",
          "HyperStake",
          "IOCoin",
          "MaxCoin",
          "MintCoin",
          "MazaCoin",
          "Nautilus Coin",
          "NavCoin",
          "OpalCoin",
          "Orbitcoin",
          "PotCoin",
          "PhoenixCoin",
          "Reddcoin",
          "SuperCoin",
          "SyncCoin",
          "TittieCoin",
          "TorCoin",
          "UnitaryStatus Dollar",
          "UltraCoin",
          "VeriCoin",
          "X11 Coin",
          "StealthCoin",
          "ZCC Coin",
          "BurstCoin",
          "StorjCoin",
          "Neutron",
          "FairCoin",
          "RubyCoin",
          "Kore",
          "Dnotes",
          "8BIT Coin",
          "Sativa Coin",
          "Ucoin",
          "Vtorrent",
          "IslaCoin",
          "Nexus",
          "Droidz",
          "Squall Coin",
          "Diggits",
          "Paycon",
          "Emercoin",
          "EverGreenCoin",
          "Decred",
          "EDRCoin",
          "Hitcoin",
          "DubaiCoin",
          "PWR Coin",
          "BillaryCoin",
          "GPU Coin",
          "EuropeCoin",
          "ZeitCoin",
          "SwingCoin",
          "SafeExchangeCoin",
          "Nebuchadnezzar",
          "Ratecoin",
          "Revenu",
          "Clockcoin",
          "VIP Tokens",
          "BitSend",
          "Let it Ride",
          "PutinCoin",
          "iBankCoin",
          "Frankywillcoin",
          "MudraCoin",
          "Lutetium Coin",
          "GoldBlocks",
          "CarterCoin",
          "BitTokens",
          "MustangCoin",
          "ZoneCoin",
          "RootCoin",
          "BitCurrency",
          "Swiscoin",
          "BuzzCoin",
          "Opair",
          "PesoBit",
          "Halloween Coin",
          "CoffeeCoin",
          "RoyalCoin",
          "GanjaCoin V2",
          "TeamUP",
          "LanaCoin",
          "ARK",
          "InsaneCoin",
          "EmberCoin",
          "XenixCoin",
          "FreeCoin",
          "PLNCoin",
          "AquariusCoin",
          "Creatio",
          "Eternity",
          "Eurocoin",
          "BitcoinFast",
          "Stakenet",
          "BitConnect Coin",
          "MoneyCoin",
          "Enigma",
          "Russiacoin",
          "PandaCoin",
          "GameUnits",
          "GAKHcoin",
          "Allsafe",
          "LiteCreed",
          "Klingon Empire Darsek",
          "Internet of People",
          "KushCoin",
          "Printerium",
          "Impeach",
          "Zilbercoin",
          "FirstCoin",
          "FindCoin",
          "OpenChat",
          "RenosCoin",
          "VirtacoinPlus",
          "TajCoin",
          "Impact",
          "Atmos",
          "HappyCoin",
          "MacronCoin",
          "Condensate",
          "Independent Money System",
          "ArgusCoin",
          "LomoCoin",
          "ProCurrency",
          "GoldReserve",
          "GrowthCoin",
          "Phreak",
          "Degas Coin",
          "HTML5 Coin",
          "Ultimate Secure Cash",
          "QTUM",
          "Espers",
          "Denarius",
          "Virta Unique Coin",
          "Bitcoin Planet",
          "BritCoin",
          "Linda",
          "DeepOnion",
          "Signatum",
          "Cream",
          "Monoeci",
          "Draftcoin",
          "Vechain",
          "Stakecoin",
          "CoinonatX",
          "Ethereum Dark",
          "Obsidian",
          "Cardano",
          "Regalcoin",
          "TrezarCoin",
          "TerraNovaCoin",
          "Rupee",
          "WomenCoin",
          "Theresa May Coin",
          "NamoCoin",
          "LUXCoin",
          "Xios",
          "Bitcloud 2.0",
          "KekCoin",
          "BlackholeCoin",
          "Infinity Economics",
          "Magnet",
          "Lamden Tau",
          "Electra",
          "Bitcoin Diamond",
          "Cash & Back Coin",
          "Bulwark",
          "Kalkulus",
          "GermanCoin",
          "LiteCoin Ultra",
          "PhantomX",
          "Digiwage",
          "Trollcoin",
          "Litecoin Plus",
          "Monkey Project",
          "TokenPay",
          "My Big Coin",
          "Unified Society USDEX",
          "Tokyo Coin",
          "Stipend",
          "Pushi",
          "Ellerium",
          "Velox",
          "Ontology",
          "Bitspace",
          "Briacoin",
          "Ignition",
          "MedicCoin",
          "Bitcoin Green",
          "Deviant Coin",
          "Abjcoin",
          "Semux",
          "Carebit",
          "Zealium",
          "Proton",
          "iDealCash",
          "Bitcoin Incognito",
          "HollyWoodCoin",
          "Swisscoin",
          "Xt3ch",
          "TheVig",
          "EmaratCoin",
          "Dekado",
          "Lynx",
          "Poseidon Quark",
          "BitcoinWSpectrum",
          "Muse",
          "Trivechain",
          "Dystem",
          "Giant",
          "Peony Coin",
          "Absolute Coin",
          "Vitae",
          "TPCash",
          "ARENON",
          "EUNO",
          "MMOCoin",
          "Ketan",
          "XDNA",
          "PAXEX",
          "ThunderStake",
          "Kcash",
          "Bettex coin",
          "BitMoney",
          "Junson Ming Chan Coin",
          "HerbCoin",
          "Oduwa",
          "Galilel",
          "Crypto Sports",
          "Credit",
          "Dash Platinum",
          "Nasdacoin",
          "Beetle Coin",
          "Titan Coin",
          "Award",
          "Insane Coin",
          "ALAX",
          "LiteDoge",
          "TruckCoin",
          "OrangeCoin",
          "BitstarCoin",
          "NeosCoin",
          "HyperCoin",
          "PinkCoin",
          "AudioCoin",
          "IncaKoin",
          "Piggy Coin",
          "Genstake",
          "XiaoMiCoin",
          "CapriCoin",
          " ClubCoin",
          "Radium",
          "Creditbit ",
          "OKCash",
          "Lisk",
          "HiCoin",
          "WhiteCoin",
          "FriendshipCoin",
          "Triangles Coin",
          "EOS",
          "Oxycoin",
          "TigerCash",
          "Particl",
          "Nxt",
          "ZEPHYR",
          "Gapcoin",
          "BitcoinPlus"
         ],
         "legendgroup": "0",
         "marker": {
          "color": [
           0,
           0,
           0,
           0,
           0,
           0,
           0,
           0,
           0,
           0,
           0,
           0,
           0,
           0,
           0,
           0,
           0,
           0,
           0,
           0,
           0,
           0,
           0,
           0,
           0,
           0,
           0,
           0,
           0,
           0,
           0,
           0,
           0,
           0,
           0,
           0,
           0,
           0,
           0,
           0,
           0,
           0,
           0,
           0,
           0,
           0,
           0,
           0,
           0,
           0,
           0,
           0,
           0,
           0,
           0,
           0,
           0,
           0,
           0,
           0,
           0,
           0,
           0,
           0,
           0,
           0,
           0,
           0,
           0,
           0,
           0,
           0,
           0,
           0,
           0,
           0,
           0,
           0,
           0,
           0,
           0,
           0,
           0,
           0,
           0,
           0,
           0,
           0,
           0,
           0,
           0,
           0,
           0,
           0,
           0,
           0,
           0,
           0,
           0,
           0,
           0,
           0,
           0,
           0,
           0,
           0,
           0,
           0,
           0,
           0,
           0,
           0,
           0,
           0,
           0,
           0,
           0,
           0,
           0,
           0,
           0,
           0,
           0,
           0,
           0,
           0,
           0,
           0,
           0,
           0,
           0,
           0,
           0,
           0,
           0,
           0,
           0,
           0,
           0,
           0,
           0,
           0,
           0,
           0,
           0,
           0,
           0,
           0,
           0,
           0,
           0,
           0,
           0,
           0,
           0,
           0,
           0,
           0,
           0,
           0,
           0,
           0,
           0,
           0,
           0,
           0,
           0,
           0,
           0,
           0,
           0,
           0,
           0,
           0,
           0,
           0,
           0,
           0,
           0,
           0,
           0,
           0,
           0,
           0,
           0,
           0,
           0,
           0,
           0,
           0,
           0,
           0,
           0,
           0,
           0,
           0,
           0,
           0,
           0,
           0,
           0,
           0,
           0,
           0,
           0,
           0,
           0,
           0,
           0,
           0,
           0,
           0,
           0,
           0,
           0,
           0,
           0,
           0,
           0,
           0,
           0,
           0,
           0,
           0,
           0,
           0,
           0,
           0,
           0,
           0,
           0,
           0,
           0,
           0,
           0,
           0,
           0,
           0,
           0,
           0,
           0,
           0,
           0,
           0,
           0,
           0,
           0,
           0,
           0,
           0,
           0,
           0,
           0,
           0,
           0,
           0,
           0,
           0,
           0,
           0,
           0,
           0,
           0,
           0,
           0,
           0,
           0,
           0,
           0,
           0,
           0,
           0,
           0,
           0,
           0,
           0,
           0,
           0,
           0,
           0,
           0,
           0,
           0,
           0
          ],
          "coloraxis": "coloraxis",
          "symbol": "circle"
         },
         "mode": "markers",
         "name": "0",
         "scene": "scene",
         "showlegend": true,
         "type": "scatter3d",
         "x": [
          -0.3382465450461413,
          -0.3215684663445604,
          2.309211530144689,
          -0.3806326190249406,
          -0.26955157046063133,
          -0.3043498527727271,
          -0.2663815177275369,
          -0.2392549315412617,
          -0.3379058280547905,
          -0.3304751295028074,
          -0.3367414525406446,
          -0.3382424791719287,
          -0.33822674531022456,
          0.6113572862424829,
          -0.35752218037758005,
          -0.3605705987979878,
          -0.3049968645279868,
          -0.33630376331347933,
          -0.32246554906224384,
          -0.3805271986076064,
          -0.40849348451479395,
          -0.0399109722324316,
          -0.2676273478432702,
          -0.3000291492206507,
          -0.27604730989880083,
          -0.2766702073420264,
          -0.337739959689694,
          -0.33254456129187915,
          -0.3366470011372881,
          0.020291239941507538,
          -0.3423741614602776,
          -0.38089907362349584,
          -0.30842688656368944,
          -0.38081066463167096,
          -0.313459075864888,
          -0.33692296952481277,
          -0.3145228755228732,
          -0.3807750792626562,
          -0.27645082827669176,
          -0.32934472977094614,
          -0.11679694007994824,
          -0.36439805947558546,
          -0.3035609211562816,
          -0.35694308173207184,
          -0.30000930733297065,
          -0.2767457364583695,
          -0.29465988288973427,
          -0.3382285937416811,
          -0.2766978591763891,
          -0.34281959645900045,
          -0.33796277972119326,
          -0.380880582076779,
          -0.4083198500351951,
          -0.40841652324149935,
          -0.3449451543838021,
          -0.29840956748030095,
          -0.27621916371760363,
          -0.296903149989248,
          -0.24169748851218584,
          -0.0823551146256901,
          -0.30432073454158237,
          -0.05812227501983905,
          -0.30438444292387196,
          -0.22619306173113393,
          -0.33783863082041377,
          -0.2982790628303213,
          -0.3780485396382705,
          0.8539204826128275,
          -0.304184429606735,
          -0.12003428550139462,
          -0.36025362042567305,
          -0.37872156064761653,
          -0.30292748210250664,
          -0.3005946227648238,
          -0.3476864193148284,
          -0.3796150586749022,
          -0.3568738460417076,
          -0.31411848744459103,
          -0.33787678213433325,
          -0.3363143318987688,
          -0.23747128755426997,
          -0.3302996849819585,
          -0.38035415183059,
          -0.3370803526483999,
          -0.30436542551007056,
          -0.38086977647024395,
          -0.33806603871022334,
          -0.3382228204593927,
          -0.2982675417731381,
          -0.24928227667629946,
          0.04264460409689254,
          -0.35920981142107844,
          -0.33783655048876093,
          -0.3670242221189833,
          -0.35853754054868936,
          -0.23890250185691594,
          -0.3960520013423943,
          -0.3582874878537023,
          -0.2721677966226152,
          3.7285124425383414,
          -0.380462001659684,
          0.8567171375326624,
          -0.38082464059252774,
          -0.35967395623800313,
          -0.33776421513574884,
          -0.3379187289948919,
          -0.36025362042567305,
          -0.3803993524211023,
          -0.30422794161747735,
          -0.33776492449687145,
          -0.34321867588845134,
          -0.3379124535621166,
          -0.3334986754609752,
          -0.38085367218527677,
          -0.33712285522770474,
          0.34379366882725637,
          -0.3381118761905453,
          -0.33818247771976273,
          -0.3588457156959126,
          -0.35292686151146174,
          -0.33440751595420914,
          -0.3043418131138299,
          -0.3807635455395348,
          -0.3379601256756379,
          -0.33808722876512043,
          -0.2999159851139246,
          -0.31776178552616835,
          -0.23867015839397557,
          -0.3189244062686728,
          -0.29965672801250265,
          -0.38002892561026785,
          -0.39632543272025167,
          -0.3787659499315806,
          -0.3584986794019304,
          -0.3799266978685576,
          -0.3528938232403733,
          -0.37586516524044905,
          -0.338030449011033,
          -0.33802967452819327,
          -0.3311485776394432,
          0.26650181161826975,
          -0.3804054100656956,
          -0.2825484839752077,
          -0.36028800189807886,
          -0.33724067748149117,
          0.8934887680806577,
          -0.2650714052889864,
          -0.35565117357732395,
          0.5758646229992392,
          -0.3492233727022074,
          -0.34772448644994297,
          -0.4029880756068324,
          -0.2763827035692855,
          0.12696820482617982,
          -0.27645349944002956,
          -0.3460477835096631,
          -0.40249241339811326,
          -0.380677945259236,
          -0.2999900839423176,
          4.405574125407682,
          -0.36015428417019346,
          -0.33766537500348887,
          -0.33816539287139447,
          -0.3276625999045826,
          0.6370548537597676,
          -0.38061879381961045,
          -0.3327356238451823,
          -0.3381210158567836,
          -0.3113818914661655,
          0.4317230134475776,
          -0.3026866437265714,
          -0.333979235950189,
          -0.38195733765589174,
          -0.33807132564293824,
          -0.395191511607336,
          -0.38093063699748725,
          -0.3379415509637573,
          -0.09271761609478878,
          -0.37941068850834514,
          3.7333719751351593,
          0.21074002761780858,
          -0.273121611165083,
          -0.3353999764831662,
          -0.3110819685603548,
          -0.35873151794181074,
          0.07641516339933918,
          -0.33707979619376033,
          -0.3799920088750628,
          -0.35789582358898914,
          -0.32463550054584916,
          -0.338187547861233,
          -0.34279149982265483,
          -0.3571560324647571,
          -0.2975265555524022,
          -0.33372899882701046,
          -0.23046070530523677,
          -0.35655224116458983,
          -0.38069528563697624,
          -0.3176740520779058,
          -0.29914966307109847,
          -0.31132235849763124,
          -0.3488220863637164,
          -0.3382149279056975,
          -0.3381966285162849,
          -0.29352672773588095,
          -0.3619966022373271,
          -0.35974842322169404,
          -0.3379129488905097,
          3.914789037226245,
          -0.3938580673669691,
          -0.35993726144068233,
          -0.3158020713590865,
          -0.284749171452147,
          -0.2818724768667377,
          -0.2996839978894318,
          -0.1411607220499136,
          -0.2999364228176116,
          -0.33751870707308573,
          -0.33738666408665885,
          -0.2031360570523824,
          2.2290686118525844,
          -0.3544378036687739,
          -0.26519878234071,
          1.017175283549385,
          -0.35304284045376505,
          -0.35884518026516127,
          -0.39687656609352395,
          -0.18061855742289837,
          -0.3492150032109283,
          -0.35756368570990604,
          -0.3310886027299102,
          -0.34236860714525424,
          -0.38016816276960114,
          -0.297179916659216,
          -0.3590367005799231,
          -0.35412025548524817,
          -0.34223005235881965,
          -0.19762964841281916,
          -0.2990932584955225,
          -0.27976232213817376,
          0.4979020772840755,
          -0.13251203260993286,
          -0.39617065506946375,
          -0.33791688328002917,
          -0.39662710645579863,
          -0.3589622488347069,
          0.5692313294486243,
          -0.3428458684663249,
          -0.33739954027254315,
          -0.31212569407881235,
          -0.2922123856111871,
          -0.377731922932385,
          -0.3803955527112783,
          3.7456247580042303,
          0.09732268984305525,
          -0.3779323443026249,
          -0.33678491488473167,
          -0.3376101125514772,
          -0.2664142247820736,
          -0.33812875352227884,
          -0.37201643872396123,
          -0.2517874487474551,
          -0.08376620732035872,
          -0.3677625370830149,
          -0.3374063508707022,
          -0.3304648982894182,
          -0.3769612462526602,
          -0.3358445241310293,
          -0.360529501609519,
          -0.34839524443284686,
          -0.3028636824489773,
          3.7289045190693813,
          -0.10705473204562399,
          -0.3330368896819736,
          -0.3373656787618824,
          -0.27685300124567386,
          3.7387841703327296,
          3.7400296753191187,
          -0.24729473268445035,
          -0.3604652957330867,
          -0.3706852671931942,
          2.4815055045048484,
          -0.3362909716165007,
          -0.3003331201101929
         ],
         "y": [
          1.1581585017876141,
          1.1582237162826117,
          1.732924640635937,
          1.3549947392213608,
          1.0977182905281408,
          0.8763830762231624,
          0.3976161933422699,
          1.9397418331578988,
          1.1581557810134386,
          1.1583591732046,
          1.1581973659076532,
          1.1581582633434957,
          1.158158326158142,
          0.13988575804595504,
          1.0736047524777774,
          1.0884570273264795,
          0.40260922508341856,
          1.1581262371913517,
          0.8767580091266927,
          1.3549974613588254,
          2.0171116361365407,
          0.6861082255011831,
          0.8756846260035956,
          0.6793804099652784,
          1.8819716165882616,
          1.8819555322991253,
          0.625800116487477,
          1.1580172297656257,
          1.1581324864755145,
          1.1674165674303445,
          0.8762439343273832,
          1.3550029704942461,
          1.3074086103792304,
          1.3549983848368004,
          1.1576994823477156,
          1.158123986651043,
          0.42380389950766134,
          1.3550023948604035,
          1.8819611970459558,
          1.1577014403385464,
          -0.1612284901430018,
          1.061530674133407,
          0.8763718494016409,
          1.073622714523447,
          0.6793920367109139,
          1.8819453389458294,
          0.6791867072296474,
          1.158158965350187,
          1.881947949063526,
          0.8762186939906054,
          1.1581520906930203,
          1.3550034486648814,
          1.9865083759851445,
          2.041589338075773,
          1.1313639832294649,
          0.6793646525860892,
          1.8819328329383855,
          0.8759035535027614,
          1.9399011200547822,
          1.035955450898755,
          0.8763838281062436,
          1.3450998540394399,
          0.8763900826456763,
          1.6461276682706945,
          1.1581401841540029,
          0.6792848687569951,
          1.3548127989491006,
          0.6411832468866273,
          0.8763749831440143,
          0.1470016793644109,
          1.0884514738213533,
          1.3550076792010526,
          0.8762819219268776,
          0.8761345211195711,
          1.6429286767273574,
          1.354940644545416,
          1.0881936803437675,
          1.1574076865036782,
          1.1581375962039353,
          1.158139702727041,
          1.4030765151393634,
          0.8761044106055587,
          1.354982695917079,
          1.1581267919640545,
          0.8763833610298969,
          1.3550016669191023,
          1.1581487374456196,
          1.158159114426319,
          0.6794370121096365,
          0.4796151201762476,
          2.0759272494636596,
          1.0884413330008083,
          1.1581690885849225,
          1.3543308612274283,
          1.0884820476065558,
          1.4031752256699705,
          2.0544424895734315,
          1.0883092177548481,
          2.0763806491273247,
          2.0908496479196135,
          1.3549936494828296,
          1.9106376699860088,
          1.3550022462368005,
          1.088445834100813,
          1.158144482444892,
          1.158138115880627,
          1.0884514738213533,
          1.3549746595422492,
          0.8763875980234908,
          1.158148269674411,
          0.8323346770891815,
          1.1581478948275394,
          1.1578341476335996,
          1.3550007089161051,
          1.1580886006998967,
          0.6736809395060447,
          1.158153049216548,
          1.1581578784580642,
          1.1947429690729414,
          0.7133445031073918,
          1.1579141713153578,
          0.8763839707428,
          1.3550000452846864,
          1.158152159225066,
          1.1581475491550293,
          0.6793566657561843,
          0.4674579564778351,
          1.4031729651332172,
          1.1579705111108374,
          0.6793774926602161,
          1.3549567477333948,
          2.002690105889054,
          1.3549824907320143,
          1.0884347672486552,
          1.354959387430464,
          1.0883804862497735,
          1.3547894945296184,
          1.15814951072267,
          1.1581444558264449,
          1.1576548618672577,
          0.3598656182807597,
          1.3549882415582284,
          0.6784690618805636,
          1.0884437168148624,
          1.1581123482734927,
          1.9074087001318039,
          0.39752116704554574,
          1.0881795715652822,
          2.042483798492177,
          1.6429439436724524,
          1.642907086115844,
          1.999384483119733,
          1.8819423484914497,
          1.135825064041684,
          1.8819481464959404,
          1.0992415665692992,
          1.9993972819750914,
          1.3550021503467664,
          0.6793805766070027,
          1.6060517143471829,
          1.0884254629348276,
          1.15814036328407,
          1.1581577122346325,
          1.0986282963657905,
          1.1006649897140022,
          1.3549916616033513,
          0.6256571580909985,
          1.1581509356286952,
          0.4213038525703666,
          1.160867403748134,
          0.8763724432609898,
          1.64252013677164,
          1.7868024483859728,
          1.1581486009278747,
          1.6734311939543602,
          1.0517291054029851,
          1.1581562189027816,
          0.3959267864374792,
          1.354942487127817,
          2.0907175338014556,
          1.6368023839525516,
          1.881902909623067,
          1.1580877515734238,
          1.1641628343896733,
          1.194742483247721,
          1.134519697092627,
          1.1580855910281627,
          1.3549920470744306,
          1.1946953701468555,
          1.1578917329548148,
          1.1581572775388318,
          0.8762187325726,
          1.088192232637156,
          0.5100881192458947,
          1.1581157868277414,
          1.4028453874510296,
          1.0540380685350876,
          1.3549910602958362,
          1.7826916815561327,
          0.6793290559163112,
          1.0775334817561735,
          1.6429268287099656,
          1.1581572574604788,
          1.158156356138874,
          0.6792159672552411,
          1.1160699590019085,
          1.0884178082083293,
          1.15814650819382,
          2.1356374539789496,
          1.6734656257905198,
          1.0884184274528999,
          0.42770201677405484,
          1.1560215168596957,
          1.5590755497661057,
          0.679382576798002,
          1.1562409968118614,
          0.6793636941584938,
          2.0797805180311073,
          1.158123004003478,
          1.4610992679035846,
          0.35108015933759806,
          1.1944205936778154,
          0.39758644784848596,
          1.60764807599603,
          0.9064684208713443,
          1.1947388613682373,
          1.6735215289481118,
          0.670879673328346,
          0.9000611756376166,
          1.1947176849560845,
          1.1576564105231337,
          0.8762062970535983,
          1.3549874984762578,
          0.6792864968179753,
          1.0883523816651843,
          1.0828772651954268,
          0.8761789632993966,
          1.1494248818969297,
          1.1358137870850775,
          1.303923680494404,
          1.828765955800674,
          0.8816629374007475,
          1.6735062013512885,
          1.1581525888967559,
          1.6735184325196395,
          1.19474107966822,
          1.1302094035091361,
          0.8762182216784674,
          1.158122671518092,
          1.7825327041878012,
          2.077584489062476,
          1.3547962453572515,
          1.3549953653095845,
          2.0906904609724566,
          1.1453633917082768,
          1.3550795772624835,
          1.1580588592863936,
          1.1581376658962623,
          0.3976095099547566,
          1.1581615433973012,
          1.3548888753037276,
          1.1531783469034522,
          0.8819635245428573,
          1.3546552575292619,
          1.1581698932568605,
          1.1580846686954673,
          1.3549617729711034,
          1.158110618671511,
          1.0884519062312765,
          0.8527141895997207,
          0.8763644372063217,
          2.0908357858054956,
          0.6774991707050543,
          1.1580869476042552,
          0.6257710399562603,
          1.8819507298138256,
          2.0912007469115017,
          2.0912329080040535,
          0.3974307119180074,
          1.088453815455223,
          1.0264796006043617,
          0.8804697334091278,
          1.1580372676686428,
          0.679382988383307
         ],
         "z": [
          -0.5528829523374261,
          -0.5532978134190407,
          -0.6378931328885317,
          -0.5069644360317174,
          -0.14847036819299023,
          -0.3773367671247781,
          -0.12816411261069086,
          -0.7189105623939397,
          -0.5528905076403525,
          -0.5531149122241599,
          -0.5529278760873141,
          -0.5528829957472062,
          -0.5528833874145282,
          -0.5366671153149087,
          -0.4523316713830369,
          -0.22100994339972677,
          -0.39438013301131897,
          -0.5529222311314541,
          -0.2583966187553491,
          -0.5069675826022874,
          -0.6343687165329652,
          -0.3114802134201455,
          -0.37805911012767773,
          -0.3037137280212096,
          -0.6097088930497966,
          -0.609690300913591,
          -0.29790548707751774,
          -0.5529876625772028,
          -0.5529154162163143,
          -0.5635845267461325,
          -0.25780238990209553,
          -0.5069599127732342,
          -0.5035402212001668,
          -0.5069609926598436,
          -0.5533733507595638,
          -0.5529068673419972,
          -0.2713563256991385,
          -0.5069627563944293,
          -0.6096968489023612,
          -0.5529927436271582,
          -0.8263265692979456,
          -0.21122479259879162,
          -0.3773531432261187,
          -0.4523496390997865,
          -0.30371684285921197,
          -0.6096861756305664,
          -0.30379855727653526,
          -0.5528834881514373,
          -0.6096879164806285,
          -0.257785976463048,
          -0.5528883039513051,
          -0.5069604648616624,
          -0.4837388568482364,
          -0.7475620925017626,
          0.020859491215313126,
          -0.3037490007628984,
          -0.6096959681577152,
          -0.3774065564481543,
          -0.7188881252892063,
          -0.4727395096364298,
          -0.3773376362407538,
          -0.512454726878525,
          -0.3773375276324779,
          -0.5657610830211227,
          -0.5528885795377919,
          -0.30373402290003326,
          -0.506985126286696,
          -0.3227241927186707,
          -0.37733889829276224,
          -0.5207381968113363,
          -0.22101628634440548,
          -0.5070132138204249,
          -0.377347927052306,
          -0.377370430573897,
          -0.5621207383195329,
          -0.5069765666955549,
          -0.20906861821683095,
          -0.5532913053258248,
          -0.5528870770172859,
          -0.5529250338536225,
          -0.3605217138357675,
          -0.2580603548745988,
          -0.5069683822327627,
          -0.5529037288832244,
          -0.37733645822095474,
          -0.506960319659832,
          -0.55288506598611,
          -0.5528836604713786,
          -0.30376883077934236,
          -0.28469257437300294,
          -0.7220187851911364,
          -0.22103902271378043,
          -0.552895189791308,
          -0.5071401842587001,
          -0.2210643894470831,
          -0.3605097871205274,
          -0.9078404741787952,
          -0.22103116082322477,
          -0.7145702403011764,
          0.09881568327011814,
          -0.5069682813210266,
          -0.6433869299880022,
          -0.5069615338268183,
          -0.2210289108045659,
          -0.5528913401280714,
          -0.5528861887811981,
          -0.22101628634440548,
          -0.5069654740075321,
          -0.3773407177252097,
          -0.5528921826886851,
          -0.2773171863859772,
          -0.5528885588092849,
          -0.5529232224951068,
          -0.5069604885206221,
          -0.5528940412104879,
          -0.3178636094852951,
          -0.5528849451054445,
          -0.5528843476546249,
          -0.29251076076921606,
          -0.27263369490166767,
          -0.5529195847395281,
          -0.37733716299971387,
          -0.5069624997793754,
          -0.5528883831688021,
          -0.552884287994363,
          -0.30371105335322024,
          -0.27993496936651,
          -0.36051484731029587,
          -0.5533037676584412,
          -0.30372199921184695,
          -0.5069702941005575,
          -0.7172583273784988,
          -0.507006432096568,
          -0.22105459053364768,
          -0.506973345376684,
          -0.221176715051984,
          -0.5070322098771379,
          -0.5528860951898734,
          -0.5528849664728203,
          -0.5529389026849111,
          -0.13237832872391853,
          -0.506968411371486,
          -0.3039261933752004,
          -0.22101370104635912,
          -0.5528966049064448,
          -0.7387432986303362,
          -0.12817397063714336,
          -0.2090947444149383,
          -0.7422381557955046,
          -0.5620873362840173,
          -0.5621149248409651,
          -0.6658791198707671,
          -0.6096942050197226,
          -0.5589731737940753,
          -0.6096938227844408,
          -0.315147575751655,
          -0.6658939143114848,
          -0.5069650308656183,
          -0.3037147029079977,
          4.065164387245789,
          -0.22101276552469934,
          -0.5528927761073348,
          -0.5528847197441766,
          -0.14728299163281805,
          -0.25479048493762385,
          -0.5069640691412133,
          -0.2979930799822336,
          -0.5528842461561999,
          -0.11139227813502406,
          -0.5719671574937444,
          -0.3773742494347223,
          -0.5623568094632617,
          -0.7520021401035161,
          -0.5528849081826478,
          -0.5417044825986442,
          -0.17181602079805472,
          -0.5528897501360824,
          -0.13194637469022946,
          -0.5069818871584123,
          0.09872910248890053,
          -0.5741253298035733,
          -0.6097634780038711,
          -0.5529351754342663,
          -0.31291560428005627,
          -0.29251338978134983,
          -0.5574642752714186,
          -0.552894390977711,
          -0.5069791914136774,
          -0.2925227425858092,
          -0.5531488947520135,
          -0.5528840896475489,
          -0.25778665917806337,
          -0.20906152078768803,
          -0.3542467662353216,
          -0.5529816205005297,
          -0.3606374193493238,
          -0.4575356157181734,
          -0.5069620978436982,
          -0.37200939063929706,
          -0.3037231687106645,
          -0.22080145177876095,
          -0.5620930774669388,
          -0.5528834283212453,
          -0.5528836627011376,
          -0.30383237949750014,
          -0.16515545743558227,
          -0.2210207636009547,
          -0.5528882322076588,
          0.1313859358631472,
          -0.5417442830139615,
          -0.22101637445873246,
          -0.2038392782855581,
          -0.5536811766750078,
          0.1558084802092239,
          -0.30372249901682963,
          -0.5571752687743641,
          -0.3037121583264615,
          -0.7137743164217348,
          -0.5528955216033227,
          -0.46972176059584975,
          -0.38452733421438423,
          -0.2925433254276186,
          -0.12818573181367277,
          -0.05549928314451674,
          -0.4530292763637145,
          -0.29250984129921387,
          -0.5416845660107802,
          -0.30464866077604563,
          -0.3605660065081058,
          -0.2925357743518333,
          -0.5529406928057394,
          -0.25779398071473597,
          -0.5069739336024018,
          -0.30376075779807626,
          -0.22102298613037344,
          -0.4329734630875253,
          -0.25779110038841524,
          -0.5542737070494028,
          0.014281593163006187,
          -0.12283512454000493,
          0.0022857510291106452,
          -0.2640663187824626,
          -0.5416980199441692,
          -0.5528895179518457,
          -0.5416898470489214,
          -0.2925075366390241,
          -0.568307235144469,
          -0.2577852390732453,
          -0.5528951372771317,
          -0.372106397305801,
          -0.7143626597298913,
          -0.506988963899223,
          -0.5069702646778586,
          0.0984413378115722,
          -0.5604269481590753,
          -0.5070484633578222,
          -0.5528953971157903,
          -0.5528934894779032,
          -0.1281618111532445,
          -0.5528864681652071,
          -0.5071470860070585,
          -0.5538265286097485,
          -0.383894517355952,
          -0.5071961014474013,
          -0.5529056916872118,
          -0.5530528541738238,
          -0.507045019542587,
          -0.5529297020809372,
          -0.22100976688439852,
          -0.234662036142056,
          -0.3773681856703829,
          0.09880942471494043,
          -0.3079156546791758,
          -0.5529916766726855,
          -0.29790786559615356,
          -0.6096848262034315,
          0.09848960592624995,
          0.09845243030672537,
          -0.12857985198438188,
          -0.22101174033111315,
          -0.20067015797303434,
          0.02535311857428655,
          -0.5529023448211365,
          -0.30370702184231996
         ]
        },
        {
         "customdata": [
          [
           "SHA-256"
          ],
          [
           "Ethash"
          ],
          [
           "Scrypt"
          ],
          [
           "CryptoNight-V7"
          ],
          [
           "Ethash"
          ],
          [
           "Equihash"
          ],
          [
           "Multiple"
          ],
          [
           "Scrypt"
          ],
          [
           "X11"
          ],
          [
           "Scrypt"
          ],
          [
           "Multiple"
          ],
          [
           "Scrypt"
          ],
          [
           "SHA-256"
          ],
          [
           "Scrypt"
          ],
          [
           "Scrypt"
          ],
          [
           "Quark"
          ],
          [
           "Groestl"
          ],
          [
           "Scrypt"
          ],
          [
           "Scrypt"
          ],
          [
           "Scrypt"
          ],
          [
           "X11"
          ],
          [
           "Multiple"
          ],
          [
           "SHA-256"
          ],
          [
           "Scrypt"
          ],
          [
           "Scrypt"
          ],
          [
           "Scrypt"
          ],
          [
           "Scrypt"
          ],
          [
           "Scrypt"
          ],
          [
           "NeoScrypt"
          ],
          [
           "Scrypt"
          ],
          [
           "Scrypt"
          ],
          [
           "Scrypt"
          ],
          [
           "Scrypt"
          ],
          [
           "SHA-256"
          ],
          [
           "Scrypt"
          ],
          [
           "Scrypt"
          ],
          [
           "Scrypt"
          ],
          [
           "Scrypt"
          ],
          [
           "HybridScryptHash256"
          ],
          [
           "Scrypt"
          ],
          [
           "Scrypt"
          ],
          [
           "SHA-256"
          ],
          [
           "Scrypt"
          ],
          [
           "Scrypt"
          ],
          [
           "Scrypt"
          ],
          [
           "Scrypt"
          ],
          [
           "SHA-256"
          ],
          [
           "Multiple"
          ],
          [
           "SHA-256"
          ],
          [
           "SHA-256"
          ],
          [
           "SHA-256"
          ],
          [
           "SHA-256"
          ],
          [
           "X11"
          ],
          [
           "Scrypt"
          ],
          [
           "Lyra2REv2"
          ],
          [
           "Scrypt"
          ],
          [
           "Multiple"
          ],
          [
           "SHA-256"
          ],
          [
           "CryptoNight"
          ],
          [
           "CryptoNight"
          ],
          [
           "Scrypt"
          ],
          [
           "Scrypt"
          ],
          [
           "Scrypt"
          ],
          [
           "Scrypt"
          ],
          [
           "Scrypt"
          ],
          [
           "Scrypt"
          ],
          [
           "Stanford Folding"
          ],
          [
           "Multiple"
          ],
          [
           "QuBit"
          ],
          [
           "Scrypt"
          ],
          [
           "Scrypt"
          ],
          [
           "M7 POW"
          ],
          [
           "Scrypt"
          ],
          [
           "SHA-256"
          ],
          [
           "Scrypt"
          ],
          [
           "X11"
          ],
          [
           "Lyra2RE"
          ],
          [
           "SHA-256"
          ],
          [
           "X11"
          ],
          [
           "Scrypt"
          ],
          [
           "Scrypt"
          ],
          [
           "Ethash"
          ],
          [
           "Blake2b"
          ],
          [
           "X11"
          ],
          [
           "SHA-256"
          ],
          [
           "Scrypt"
          ],
          [
           "1GB AES Pattern Search"
          ],
          [
           "Scrypt"
          ],
          [
           "SHA-256"
          ],
          [
           "X11"
          ],
          [
           "Dagger"
          ],
          [
           "Scrypt"
          ],
          [
           "X11GOST"
          ],
          [
           "Scrypt"
          ],
          [
           "X11"
          ],
          [
           "Scrypt"
          ],
          [
           "X11"
          ],
          [
           "Equihash"
          ],
          [
           "CryptoNight"
          ],
          [
           "SHA-256"
          ],
          [
           "Multiple"
          ],
          [
           "Scrypt"
          ],
          [
           "SHA-256"
          ],
          [
           "Scrypt"
          ],
          [
           "Lyra2Z"
          ],
          [
           "Ethash"
          ],
          [
           "Equihash"
          ],
          [
           "Scrypt"
          ],
          [
           "X11"
          ],
          [
           "X11"
          ],
          [
           "CryptoNight"
          ],
          [
           "Scrypt"
          ],
          [
           "CryptoNight"
          ],
          [
           "Lyra2RE"
          ],
          [
           "X11"
          ],
          [
           "CryptoNight-V7"
          ],
          [
           "Scrypt"
          ],
          [
           "X11"
          ],
          [
           "Equihash"
          ],
          [
           "Scrypt"
          ],
          [
           "Lyra2RE"
          ],
          [
           "Dagger-Hashimoto"
          ],
          [
           "Scrypt"
          ],
          [
           "NIST5"
          ],
          [
           "Scrypt"
          ],
          [
           "SHA-256"
          ],
          [
           "Scrypt"
          ],
          [
           "CryptoNight-V7"
          ],
          [
           "Argon2d"
          ],
          [
           "Blake2b"
          ],
          [
           "Cloverhash"
          ],
          [
           "CryptoNight"
          ],
          [
           "X11"
          ],
          [
           "Scrypt"
          ],
          [
           "Scrypt"
          ],
          [
           "X11"
          ],
          [
           "X11"
          ],
          [
           "CryptoNight"
          ],
          [
           "Time Travel"
          ],
          [
           "Scrypt"
          ],
          [
           "Keccak"
          ],
          [
           "X11"
          ],
          [
           "SHA-256"
          ],
          [
           "Scrypt"
          ],
          [
           "Scrypt"
          ],
          [
           "Scrypt"
          ],
          [
           "Scrypt"
          ],
          [
           "Scrypt"
          ],
          [
           "Scrypt"
          ],
          [
           "CryptoNight"
          ],
          [
           "Equihash"
          ],
          [
           "X11"
          ],
          [
           "NeoScrypt"
          ],
          [
           "Equihash"
          ],
          [
           "Dagger"
          ],
          [
           "Scrypt"
          ],
          [
           "X11"
          ],
          [
           "NeoScrypt"
          ],
          [
           "Ethash"
          ],
          [
           "NeoScrypt"
          ],
          [
           "Multiple"
          ],
          [
           "CryptoNight"
          ],
          [
           "CryptoNight"
          ],
          [
           "Ethash"
          ],
          [
           "X11"
          ],
          [
           "CryptoNight-V7"
          ],
          [
           "Scrypt"
          ],
          [
           "BLAKE256"
          ],
          [
           "X11"
          ],
          [
           "NeoScrypt"
          ],
          [
           "NeoScrypt"
          ],
          [
           "Scrypt"
          ],
          [
           "X11"
          ],
          [
           "SHA-256"
          ],
          [
           "C11"
          ],
          [
           "Ethash"
          ],
          [
           "CryptoNight"
          ],
          [
           "SkunkHash"
          ],
          [
           "CryptoNight"
          ],
          [
           "Scrypt"
          ],
          [
           "Dagger"
          ],
          [
           "Lyra2REv2"
          ],
          [
           "Scrypt"
          ],
          [
           "Scrypt"
          ],
          [
           "X11"
          ],
          [
           "Ethash"
          ],
          [
           "CryptoNight"
          ],
          [
           "Scrypt"
          ],
          [
           "IMesh"
          ],
          [
           "Equihash"
          ],
          [
           "Lyra2Z"
          ],
          [
           "X11"
          ],
          [
           "CryptoNight"
          ],
          [
           "NIST5"
          ],
          [
           "Lyra2RE"
          ],
          [
           "Tribus"
          ],
          [
           "Lyra2Z"
          ],
          [
           "CryptoNight"
          ],
          [
           "CryptoNight Heavy"
          ],
          [
           "CryptoNight"
          ],
          [
           "Jump Consistent Hash"
          ],
          [
           "CryptoNight"
          ],
          [
           "X16R"
          ],
          [
           "HMQ1725"
          ],
          [
           "X11"
          ],
          [
           "Scrypt"
          ],
          [
           "CryptoNight-V7"
          ],
          [
           "Cryptonight-GPU"
          ],
          [
           "XEVAN"
          ],
          [
           "CryptoNight Heavy"
          ],
          [
           "SHA-256"
          ],
          [
           "X11"
          ],
          [
           "X16R"
          ],
          [
           "Equihash"
          ],
          [
           "Lyra2Z"
          ],
          [
           "SHA-256"
          ],
          [
           "CryptoNight"
          ],
          [
           "Blake"
          ],
          [
           "Blake"
          ],
          [
           "Equihash"
          ],
          [
           "Exosis"
          ],
          [
           "Scrypt"
          ],
          [
           "Equihash"
          ],
          [
           "Equihash"
          ],
          [
           "QuBit"
          ],
          [
           "SHA-256"
          ],
          [
           "X13"
          ],
          [
           "SHA-256"
          ],
          [
           "Scrypt"
          ],
          [
           "NeoScrypt"
          ],
          [
           "Blake"
          ],
          [
           "Scrypt"
          ],
          [
           "SHA-256"
          ],
          [
           "Scrypt"
          ],
          [
           "Groestl"
          ],
          [
           "Scrypt"
          ],
          [
           "Scrypt"
          ],
          [
           "Multiple"
          ],
          [
           "Equihash+Scrypt"
          ],
          [
           "Ethash"
          ],
          [
           "CryptoNight"
          ],
          [
           "Equihash"
          ]
         ],
         "hovertemplate": "<b>%{hovertext}</b><br><br>Class=%{marker.color}<br>PC 1=%{x}<br>PC 2=%{y}<br>PC 3=%{z}<br>Algorithm=%{customdata[0]}<extra></extra>",
         "hovertext": [
          "Bitcoin",
          "Ethereum",
          "Litecoin",
          "Monero",
          "Ethereum Classic",
          "ZCash",
          "DigiByte",
          "ProsperCoin",
          "Spreadcoin",
          "Argentum",
          "MyriadCoin",
          "MoonCoin",
          "ZetaCoin",
          "SexCoin",
          "Quatloo",
          "QuarkCoin",
          "Riecoin",
          "Digitalcoin ",
          "Catcoin",
          "CannaCoin",
          "CryptCoin",
          "Verge",
          "DevCoin",
          "EarthCoin",
          "E-Gulden",
          "Einsteinium",
          "Emerald",
          "Franko",
          "FeatherCoin",
          "GrandCoin",
          "GlobalCoin",
          "GoldCoin",
          "Infinite Coin",
          "IXcoin",
          "KrugerCoin",
          "LuckyCoin",
          "Litebar ",
          "MegaCoin",
          "MediterraneanCoin",
          "MinCoin",
          "NobleCoin",
          "Namecoin",
          "NyanCoin",
          "RonPaulCoin",
          "StableCoin",
          "SmartCoin",
          "SysCoin",
          "TeslaCoin",
          "TigerCoin",
          "TerraCoin",
          "UnbreakableCoin",
          "Unobtanium",
          "UroCoin",
          "ViaCoin",
          "Vertcoin",
          "WorldCoin",
          "Crypti",
          "JouleCoin",
          "ByteCoin",
          "DigitalNote ",
          "MonaCoin",
          "Gulden",
          "PesetaCoin",
          "Wild Beast Coin",
          "Flo",
          "ArtByte",
          "Folding Coin",
          "Unitus",
          "CypherPunkCoin",
          "OmniCron",
          "GreenCoin",
          "Cryptonite",
          "MasterCoin",
          "SoonCoin",
          "1Credit",
          "MarsCoin ",
          "Crypto",
          "Anarchists Prime",
          "BowsCoin",
          "Song Coin",
          "BitZeny",
          "Expanse",
          "Siacoin",
          "MindCoin",
          "I0coin",
          "Revolution VR",
          "HOdlcoin",
          "Gamecredits",
          "CarpeDiemCoin",
          "Adzcoin",
          "SoilCoin",
          "YoCoin",
          "SibCoin",
          "Francs",
          "BolivarCoin",
          "Omni",
          "PizzaCoin",
          "Komodo",
          "Karbo",
          "ZayedCoin",
          "Circuits of Value",
          "DopeCoin",
          "DollarCoin",
          "Shilling",
          "ZCoin",
          "Elementrem",
          "ZClassic",
          "KiloCoin",
          "ArtexCoin",
          "Kurrent",
          "Cannabis Industry Coin",
          "OsmiumCoin",
          "Bikercoins",
          "HexxCoin",
          "PacCoin",
          "Citadel",
          "BeaverCoin",
          "VaultCoin",
          "Zero",
          "Canada eCoin",
          "Zoin",
          "DubaiCoin",
          "EB3coin",
          "Coinonat",
          "BenjiRolls",
          "ILCoin",
          "EquiTrader",
          "Quantum Resistant Ledger",
          "Dynamic",
          "Nano",
          "ChanCoin",
          "Dinastycoin",
          "DigitalPrice",
          "Unify",
          "SocialCoin",
          "ArcticCoin",
          "DAS",
          "LeviarCoin",
          "Bitcore",
          "gCn Coin",
          "SmartCash",
          "Onix",
          "Bitcoin Cash",
          "Sojourn Coin",
          "NewYorkCoin",
          "FrazCoin",
          "Kronecoin",
          "AdCoin",
          "Linx",
          "Sumokoin",
          "BitcoinZ",
          "Elements",
          "VIVO Coin",
          "Bitcoin Gold",
          "Pirl",
          "eBoost",
          "Pura",
          "Innova",
          "Ellaism",
          "GoByte",
          "SHIELD",
          "UltraNote",
          "BitCoal",
          "DaxxCoin",
          "AC3",
          "Lethean",
          "PopularCoin",
          "Photon",
          "Sucre",
          "SparksPay",
          "GunCoin",
          "IrishCoin",
          "Pioneer Coin",
          "UnitedBitcoin",
          "Interzone",
          "1717 Masonic Commemorative Token",
          "TurtleCoin",
          "MUNcoin",
          "Niobio Cash",
          "ShareChain",
          "Travelflex",
          "KREDS",
          "BitFlip",
          "LottoCoin",
          "Crypto Improvement Fund",
          "Callisto Network",
          "BitTube",
          "Poseidon",
          "Aidos Kuneen",
          "Bitrolium",
          "Alpenschillling",
          "FuturoCoin",
          "Monero Classic",
          "Jumpcoin",
          "Infinex",
          "KEYCO",
          "GINcoin",
          "PlatinCoin",
          "Loki",
          "Newton Coin",
          "MassGrid",
          "PluraCoin",
          "Motion",
          "PlusOneCoin",
          "Axe",
          "HexCoin",
          "Webchain",
          "Ryo",
          "Urals Coin",
          "Qwertycoin",
          "Project Pai",
          "Azart",
          "Xchange",
          "CrypticCoin",
          "Actinium",
          "Bitcoin SV",
          "FREDEnergy",
          "Universal Molecule",
          "Lithium",
          "PirateCash",
          "Exosis",
          "Block-Logic",
          "Beam",
          "Bithereum",
          "SLICE",
          "BLAST",
          "Bitcoin Rhodium",
          "GlobalToken",
          "SolarCoin",
          "UFO Coin",
          "BlakeCoin",
          "Crypto Escudo",
          "Crown Coin",
          "SmileyCoin",
          "Groestlcoin",
          "Bata",
          "Pakcoin",
          "JoinCoin",
          "Vollar",
          "Reality Clash",
          "Beldex",
          "Horizen"
         ],
         "legendgroup": "1",
         "marker": {
          "color": [
           1,
           1,
           1,
           1,
           1,
           1,
           1,
           1,
           1,
           1,
           1,
           1,
           1,
           1,
           1,
           1,
           1,
           1,
           1,
           1,
           1,
           1,
           1,
           1,
           1,
           1,
           1,
           1,
           1,
           1,
           1,
           1,
           1,
           1,
           1,
           1,
           1,
           1,
           1,
           1,
           1,
           1,
           1,
           1,
           1,
           1,
           1,
           1,
           1,
           1,
           1,
           1,
           1,
           1,
           1,
           1,
           1,
           1,
           1,
           1,
           1,
           1,
           1,
           1,
           1,
           1,
           1,
           1,
           1,
           1,
           1,
           1,
           1,
           1,
           1,
           1,
           1,
           1,
           1,
           1,
           1,
           1,
           1,
           1,
           1,
           1,
           1,
           1,
           1,
           1,
           1,
           1,
           1,
           1,
           1,
           1,
           1,
           1,
           1,
           1,
           1,
           1,
           1,
           1,
           1,
           1,
           1,
           1,
           1,
           1,
           1,
           1,
           1,
           1,
           1,
           1,
           1,
           1,
           1,
           1,
           1,
           1,
           1,
           1,
           1,
           1,
           1,
           1,
           1,
           1,
           1,
           1,
           1,
           1,
           1,
           1,
           1,
           1,
           1,
           1,
           1,
           1,
           1,
           1,
           1,
           1,
           1,
           1,
           1,
           1,
           1,
           1,
           1,
           1,
           1,
           1,
           1,
           1,
           1,
           1,
           1,
           1,
           1,
           1,
           1,
           1,
           1,
           1,
           1,
           1,
           1,
           1,
           1,
           1,
           1,
           1,
           1,
           1,
           1,
           1,
           1,
           1,
           1,
           1,
           1,
           1,
           1,
           1,
           1,
           1,
           1,
           1,
           1,
           1,
           1,
           1,
           1,
           1,
           1,
           1,
           1,
           1,
           1,
           1,
           1,
           1,
           1,
           1,
           1,
           1,
           1,
           1,
           1,
           1,
           1,
           1,
           1,
           1,
           1,
           1,
           1,
           1,
           1,
           1,
           1,
           1,
           1,
           1,
           1,
           1,
           1,
           1,
           1,
           1,
           1,
           1,
           1,
           1,
           1,
           1,
           1,
           1
          ],
          "coloraxis": "coloraxis",
          "symbol": "diamond"
         },
         "mode": "markers",
         "name": "1",
         "scene": "scene",
         "showlegend": true,
         "type": "scatter3d",
         "x": [
          -0.1375592310495573,
          -0.15500675550363768,
          -0.17028561995103964,
          -0.1440970742318384,
          -0.1534480536075543,
          -0.1581076611230107,
          0.16956499241734727,
          -0.17143284661794753,
          -0.21402667136640613,
          -0.17104916464430214,
          -0.08403371095723518,
          2.5516192582474515,
          -0.13464160063524797,
          -0.1683023755714217,
          -0.17085315037060309,
          -0.2254651248402562,
          -0.1897977262338959,
          -0.17090172009198182,
          -0.17141509256354656,
          -0.17150160687288288,
          -0.21411610494089917,
          0.19336310148023322,
          0.24061115632208419,
          0.07744344123412022,
          -0.17124765355500335,
          -0.16684937354734053,
          -0.17118693303544746,
          -0.17155866493995717,
          -0.16627691736719238,
          -0.15076445708424419,
          -0.17035269771376135,
          -0.17063047052599867,
          1.5788815813475148,
          -0.13752055675554242,
          -0.167917750150953,
          -0.17127412013463458,
          -0.17162924316853692,
          -0.1708878558963761,
          -0.11752915042119741,
          -0.17151041799700817,
          -0.036336858661313184,
          -0.13759825514200918,
          -0.1651687794281729,
          -0.17148989054032526,
          -0.16958320173729557,
          -0.17097620200095337,
          -0.12474008161627734,
          -0.2458639143411712,
          -0.13706154494304384,
          -0.13734905015722748,
          -0.13733220377754948,
          -0.13792318427872577,
          -0.21429010712204033,
          -0.17120606895152973,
          -0.18193458003105994,
          -0.16830717114238666,
          -0.24633167946447027,
          -0.1371289059398678,
          3.8637110559264096,
          0.45969309105363576,
          -0.1700727876088775,
          -0.15466204504136705,
          -0.16879045823657207,
          -0.17163146130217105,
          -0.16865531326560151,
          -0.15486751290101605,
          -0.11363507329490845,
          -0.11806889595386157,
          -0.1871835717097336,
          -0.17150439894105018,
          -0.04434800590149346,
          -0.12356300547270005,
          -0.17164035397613528,
          -0.1376260641228791,
          0.480799238150796,
          -0.21367676262578372,
          -0.1415202353611466,
          -0.13736579394817644,
          -0.21396192467684028,
          -0.16976304947662704,
          -0.1689545733481667,
          -0.15607550645959709,
          0.3758037621616564,
          -0.21399733676388485,
          -0.13752168037806362,
          -0.16759467430283448,
          -0.1326201946143587,
          -0.17020249244620397,
          0.2813290713659364,
          -0.21315744502369371,
          -0.13415345677323048,
          -0.1704506168124815,
          -0.14123189015925575,
          -0.17143012369475333,
          -0.21396058320133093,
          -0.1716404125222182,
          -0.21411072422267485,
          -0.30604129782175926,
          0.3044716041189456,
          -0.1377820042170832,
          -0.09812474008920678,
          -0.16880490238529303,
          -0.13774059148296383,
          -0.17130357702246776,
          -0.15907344677755414,
          -0.15581741731756973,
          -0.15812930269143666,
          -0.09833301243939123,
          -0.20068119024420866,
          -0.21193742112328925,
          0.3044659069029163,
          -0.1716221401048771,
          0.304596751188791,
          -0.14206101528330292,
          0.5014478792454644,
          -0.14286129841360107,
          -0.17159039449228658,
          -0.20684139593420003,
          -0.15814167161825174,
          -0.16972202481878695,
          -0.14177913077308918,
          -0.1644819347861827,
          -0.14250099823627355,
          -0.1822850804578196,
          -0.17115243565661062,
          -0.10408135228520524,
          -0.17097448051683334,
          -0.14271847430233064,
          -0.15125921763882452,
          -0.024954990125905394,
          -0.13085458110767034,
          0.3406190227412846,
          -0.2131659278296956,
          -0.17129384121290328,
          -0.17105723126701103,
          -0.21356085610696224,
          -0.21413875819886113,
          0.3048611779690332,
          -0.13989018520258398,
          3.240928851374776,
          -0.12731134830220936,
          -0.2050059223382917,
          -0.13755839431882394,
          -0.09718193202311891,
          1.5773602207412232,
          -0.17139180334102008,
          -0.17084314360226813,
          -0.17054385943437947,
          -0.17053077553578913,
          0.3050448220579647,
          0.05432081717209506,
          -0.16848283809817466,
          -0.17096943178441384,
          -0.15798756821146134,
          -0.13291177516008215,
          -0.1697202319422236,
          -0.2096797841356412,
          -0.1708147581614545,
          -0.15418203151585336,
          -0.17091501108258542,
          -0.10829292441204794,
          1.142934726766343,
          0.3044486994474899,
          -0.07903457793825076,
          -0.2094220634546892,
          -0.13182265629966905,
          -0.08770974117581404,
          1.0902354918856088,
          -0.21411273180132467,
          -0.17096695771752948,
          -0.1639993213954954,
          -0.17064217429476802,
          -0.21403807060335703,
          -0.13753776418381713,
          -0.18992393080570874,
          -0.2849819583633241,
          8.046073499935348,
          -0.14492958697486683,
          0.30832591008233706,
          0.021569072273431994,
          -0.13241414598502552,
          -0.1674813181564647,
          -0.1712164301245086,
          0.13611653121038955,
          -0.2081747156731692,
          -0.10719834816820938,
          0.3123758912888298,
          -0.17145361484119037,
          -0.13733326678530364,
          -0.15697775928756888,
          -0.1568558365903341,
          -0.21320674657987562,
          0.3046313959270955,
          -0.18234447313292915,
          -0.1419061595109757,
          -0.15821263104277392,
          -0.15915786455408706,
          0.3085611615264537,
          0.5865924250541477,
          2.1142497920560057,
          -0.15749920410344515,
          0.31824687974009835,
          -0.1872296673822255,
          -0.1382441523406139,
          -0.2140948777586751,
          -0.17147823014395305,
          -0.13170615595818383,
          -0.14226711463905797,
          -0.1498408300561943,
          3.11109159455501,
          -0.09735092131387808,
          -0.2140662308760633,
          -0.1866571301517361,
          -0.05265217644834079,
          -0.1585553009010863,
          -0.1375584319269548,
          0.3844418038781556,
          -0.12330878955672722,
          -0.1237008591108108,
          -0.286126885818037,
          -0.15704606579671937,
          -0.17036975904692364,
          -0.15604667934819513,
          -0.15782024661961988,
          -0.1863941495412405,
          -0.13683396724909513,
          -0.11023214587511894,
          -0.13570114067833428,
          0.5247380398422155,
          -0.09606745697194942,
          -0.07414495623449151,
          -0.1550182701392456,
          -0.13734841989282778,
          0.5447609957791358,
          -0.18935833267745814,
          -0.17155507014462132,
          -0.1695093455012901,
          -0.11880463050748208,
          -0.116242088593072,
          -0.15585060492674513,
          0.32622359120148164,
          -0.1581087192721121
         ],
         "y": [
          -1.35481214660874,
          -2.039823828208449,
          -1.073064890106663,
          -2.198865439045164,
          -2.0399278333958866,
          -2.1216851570291944,
          -1.920613342019733,
          -1.073051237413323,
          -0.8762045652924998,
          -1.0730708677161784,
          -1.9141101859834337,
          -1.266500846725036,
          -1.354839019270584,
          -1.0731277083163915,
          -1.0730905354713793,
          -0.5577211945910067,
          -1.1576217368170105,
          -1.073056183724006,
          -1.0730507789729373,
          -1.0730476137171188,
          -0.8762055007785637,
          -1.9169454665478958,
          -1.359458064474435,
          -1.0758838394477486,
          -1.0730464554081907,
          -1.0731243928134915,
          -1.0730524436385347,
          -1.0730477790276278,
          -1.6055033592967567,
          -1.0734789661285273,
          -1.0730570052661097,
          -1.073065720460619,
          -1.0900757765906677,
          -1.3548111479715834,
          -1.0731283695057143,
          -1.0730464518993028,
          -1.073042810699652,
          -1.0730515901670403,
          -2.219013859529477,
          -1.073045684301311,
          -1.0798522261597427,
          -1.3548131542782826,
          -1.073106555636711,
          -1.0730527103860428,
          -1.0731607814628772,
          -1.0730601910962592,
          -1.3550766951529225,
          -0.16123485504631152,
          -1.3548171636792017,
          -1.3548211447312148,
          -1.3548468127547513,
          -1.3548072908843365,
          -0.8761976292244219,
          -1.073046755465302,
          -1.3311437246302835,
          -1.0731384250291238,
          -0.16117824137649447,
          -1.3548175209920614,
          -2.3506586589712257,
          -2.318710810968453,
          -1.0730739021947389,
          -1.073757789485308,
          -1.0730828751803017,
          -1.0730437458616842,
          -1.0730749988212072,
          -1.0732959882362687,
          -2.208655084361029,
          -1.9136151898320002,
          -1.5178242969546618,
          -1.0730409755061432,
          -1.0766244791254187,
          -2.2069578576333306,
          -1.0730425957884735,
          -1.354813872354258,
          -1.119391852001899,
          -0.876204460026378,
          -2.247609262318814,
          -1.3548296552845365,
          -0.8762035803427529,
          -1.0731381134340534,
          -1.0731445491908076,
          -2.039863038577958,
          -2.222134694615807,
          -0.8762010601353679,
          -1.35481117698546,
          -1.073081957376161,
          -2.272826489452471,
          -1.0730627436107434,
          -1.358836862844599,
          -0.876226083356692,
          -2.201566853470548,
          -1.0731270933528794,
          -2.152417233811437,
          -1.0730504801809957,
          -0.8762062933905033,
          -1.0730425952188611,
          -0.8762101702913074,
          -1.7095491772476543,
          -2.315856549978164,
          -1.3548101615106505,
          -1.9139245033291825,
          -1.0731063383406316,
          -1.3548097119703564,
          -1.073054081744504,
          -2.207815983705536,
          -2.039862762052829,
          -2.121685715851916,
          -1.0780184653484073,
          -0.8761896843282068,
          -0.8762934969606753,
          -2.3158642532292943,
          -1.0730435644439813,
          -2.3158636222905358,
          -2.247584903445116,
          -0.9264082109070946,
          -2.1989606096988084,
          -1.073043188272353,
          -0.8766922123626707,
          -2.121683287552027,
          -1.0730613278536196,
          -2.2475851808394585,
          -2.1250310990605246,
          -1.07503742866835,
          -0.5882744291034359,
          -1.0730539710958584,
          -1.3556505688851757,
          -1.0730744346167937,
          -2.198901967993924,
          -2.1678646912472606,
          -2.232716725972728,
          -2.2890740345170744,
          -2.316290135387358,
          -0.8762372931452824,
          -1.0730464643498427,
          -1.073078632149487,
          -0.87622001400666,
          -0.876206703954425,
          -2.315876715064321,
          -2.225146383419717,
          -1.122308080526999,
          -1.1499520639922427,
          -0.8767135094345994,
          -1.3548121250028984,
          -1.0783322033324834,
          -1.0278799509374346,
          -1.0730494906831969,
          -1.0730792863314462,
          -1.0730825490445615,
          -1.0730822111956744,
          -2.3158959389920954,
          -2.130610817598315,
          -0.8762512654608856,
          -1.6054122693153494,
          -2.121682056022546,
          -2.2016215539449497,
          -1.0730612815584466,
          -0.8763190053221204,
          -1.6054206399662876,
          -2.039994870496651,
          -1.605414161303082,
          -1.9138161256912263,
          -2.3525874610725492,
          -2.3158588587207434,
          -2.044731312626833,
          -0.8764497348768491,
          -2.1992350579324347,
          -1.0743095454038507,
          -1.231077495369914,
          -0.876206650137402,
          -1.6054080839002127,
          -1.6055572029958785,
          -1.0730603585215608,
          -0.8762069204057358,
          -1.354811019404405,
          -1.1771645461041977,
          -0.28743220884380494,
          -2.8028698744450584,
          -2.1799481404320318,
          -2.315980961620942,
          -1.0749223861790924,
          -2.2015700259802053,
          -1.3314684289049727,
          -1.0730587006783179,
          -1.0777395099425555,
          -0.8763831801130456,
          -2.043054323780085,
          -2.3163325001393273,
          -1.073051773684761,
          -2.221818359297739,
          -2.1216896401752603,
          -2.2079500975729642,
          -0.8762383471559985,
          -2.315858194019987,
          -0.5882572427337026,
          -2.2475920878879334,
          -2.259868395534067,
          -2.2078106760715195,
          -2.3161562347175275,
          -2.2621216598483653,
          -2.395511678876026,
          -2.251025909305428,
          -2.3161809010650427,
          -1.32471118954551,
          -2.234284269351105,
          -0.876207013421237,
          -1.07305316852363,
          -2.199747597156506,
          -2.2141995460629373,
          -0.44858034471614927,
          -2.3235481412377705,
          -1.355202008822068,
          -0.8762090213961575,
          -1.3247499335400434,
          -2.1241682939365685,
          -2.207845605584038,
          -1.3548121259740056,
          -2.3193350395880374,
          -2.183403881022486,
          -2.183359125933108,
          -0.36929962089021295,
          -2.2639906731219943,
          -1.0730917919063299,
          -2.121798036592981,
          -2.121684526398042,
          -1.5178726048833426,
          -1.354822956678136,
          -0.3492509237056546,
          -1.3548651449982818,
          -1.1224474987860673,
          -1.6062073108811241,
          -2.186870628807703,
          -1.0732998810488585,
          -1.3548211284566982,
          -1.088889535654113,
          -1.1576248162721368,
          -1.0730434026882683,
          -1.0731121636886987,
          -1.9136361111513285,
          -2.2892848750966124,
          -2.0398624391609386,
          -2.3162498501936946,
          -2.121685184352434
         ],
         "z": [
          0.1785536587063091,
          0.33044145842049,
          0.0029857947013461287,
          0.39629198447407765,
          0.3304276753539188,
          0.3653821482228204,
          0.29881677746625607,
          0.003010214686219537,
          0.048931346010647116,
          0.00300546668108847,
          0.30342388521512154,
          -0.018401359615032573,
          0.17848977228142385,
          0.0029524799861398825,
          0.0030052287893028657,
          0.014105800631787076,
          0.10354345092718478,
          0.0029985971249721715,
          0.0030096847662443673,
          0.0030110415891365263,
          0.04893370359151284,
          0.2974134419685655,
          0.17053689973713113,
          -0.002316710453286648,
          0.0030046870753934482,
          0.002916874101722918,
          0.0030045896940454047,
          0.00301244776946964,
          0.25789743055805375,
          0.0026115192750615266,
          0.002985614106872109,
          0.002994255146085688,
          -0.03511082781712858,
          0.17855250436261222,
          0.0029434039874089027,
          0.003005321136754984,
          0.003013013093335359,
          0.0029972219765654704,
          0.48497151840090386,
          0.0030108150291360387,
          0.001313247313573513,
          0.17855482349074464,
          0.0028725129911148146,
          0.003011917323445193,
          0.002990709866181195,
          0.0030012932748508087,
          0.1783062076636551,
          -0.0026035725259336796,
          0.17854285934549796,
          0.1785506593431053,
          0.17855608104108447,
          0.1785612868170462,
          0.04893609082447248,
          0.003003757682420144,
          0.1953148668416679,
          0.0029550273584681257,
          -0.0026052016101041128,
          0.17854455624193175,
          0.3432916559040888,
          0.4176932311386277,
          0.0029827349071398688,
          0.002768294998241181,
          0.0029540120543821457,
          0.0030132785509662703,
          0.0029489826382765936,
          0.0026684099369968855,
          0.3955542977153875,
          0.30412794443873675,
          0.28327585633816266,
          0.00300960190798466,
          0.0007728197913728172,
          0.2966320953977001,
          0.0030132308321735787,
          0.17855565352844308,
          -0.0021171820935135654,
          0.048922928805953246,
          0.4431680913918509,
          0.17855299259374724,
          0.04892956937112033,
          0.0029898790057771916,
          0.0029719466736830512,
          0.3304759941682529,
          0.4001830089693407,
          0.04892984680215673,
          0.17855253790030476,
          0.002925120296893765,
          0.2643197415424895,
          0.002983313525815208,
          0.16941920080446535,
          0.04891537964041058,
          0.47264318636688163,
          0.003003870590354335,
          0.3622607555970613,
          0.0030099775042997856,
          0.04893015296528751,
          0.0030132321072443096,
          0.048934634348779,
          0.343939729688918,
          0.4207687288367172,
          0.17855855184748395,
          0.30371974497970233,
          0.0029596838916858734,
          0.17855745644328347,
          0.0030077594466441054,
          0.39771467586346987,
          0.33046974058371725,
          0.36538279417664693,
          0.0023841550208970326,
          0.04860784849150461,
          0.04890141541071867,
          0.4207706138805661,
          0.0030130137861931854,
          0.4207673320970287,
          0.44317553449913677,
          0.043163723446902995,
          0.3962839423353986,
          0.003012166920934718,
          0.04886967154322735,
          0.3653825397279577,
          0.002971467147551718,
          0.4431688358530284,
          0.29926071416183414,
          0.0027670220490153765,
          -0.00619519837397988,
          0.0030041088827362644,
          0.1779409140709113,
          0.003004484790639345,
          0.3962672066598176,
          0.31650879981438357,
          0.41219784051138886,
          0.3995872375186408,
          0.42000006493984243,
          0.048918127370944926,
          0.003005797015040517,
          0.003007422446582272,
          0.04892367877954407,
          0.048934520059794,
          0.4207639608804418,
          0.3670659221245876,
          -0.06766293202460812,
          0.12184818348134183,
          0.04883047749914517,
          0.178553633731721,
          0.00242775205707083,
          -0.0491907353653327,
          0.0030088337249443214,
          0.0030024355718017864,
          0.002995997126408196,
          0.0029956066004439125,
          0.42076391897992405,
          0.36231242537034036,
          0.047849478738010806,
          0.2579893161751738,
          0.3653785637101625,
          0.47262581716940566,
          0.0029714136340792904,
          0.048853050694661906,
          0.2579875058577085,
          0.3304604966010447,
          0.2579884401965439,
          0.30393905257365395,
          0.40899309490491537,
          0.4207698022628644,
          0.3297329396217583,
          0.04887654000683543,
          0.39608144748828966,
          0.0012875305664213398,
          0.06715862404751981,
          0.0489338835460548,
          0.25798830687820146,
          0.25785501826979274,
          0.0029933189028379516,
          0.04893215397884322,
          0.17855288793923324,
          0.0983603811960718,
          0.02375967663633411,
          0.34560573681537293,
          0.3209490413967452,
          0.4207045123677416,
          -0.0011946618688546034,
          0.4726021853165764,
          0.19504187146833663,
          0.003006717386704957,
          -0.0033029345619256466,
          0.04883151395514659,
          0.330027887001068,
          0.4206871525158371,
          0.0030108345725900713,
          0.40578838982883697,
          0.3653560626265001,
          0.39769192114328006,
          0.048919345722009545,
          0.42076526903022043,
          -0.006197674452059985,
          0.44317345058231566,
          0.4637757673951105,
          0.3977154961473429,
          0.420738650567383,
          0.36692960810278835,
          0.39543639807189906,
          0.26645951388622197,
          0.420511916258025,
          0.10288105216969594,
          0.4700952472254886,
          0.04893353773193701,
          0.003011741605910159,
          0.3961949824731031,
          0.41613745242717737,
          0.18387345803140911,
          0.3203158577149296,
          0.17767766189010975,
          0.04893330631898929,
          0.10287611224303436,
          0.3634161620637582,
          0.3977089702108583,
          0.1785536348542421,
          0.41963997420726373,
          0.5131301481104816,
          0.5131293948120452,
          0.058654828792429774,
          0.46378762086859865,
          0.0029939187793524046,
          0.36535833108511273,
          0.36537511083611374,
          0.28326788465793623,
          0.17853871522531903,
          -0.05378886860776716,
          0.17852111730360448,
          -0.0024776176162426677,
          0.25637307962578476,
          0.5127376853460454,
          0.0026729097132243734,
          0.17855064053108136,
          -0.010574461814264417,
          0.10353361006363068,
          0.0030113682559177856,
          0.002977903634824456,
          0.3041503410616981,
          0.4888011108424928,
          0.3304704633740037,
          0.4203362268770878,
          0.3653821798062718
         ]
        },
        {
         "customdata": [
          [
           "Proof-of-BibleHash"
          ],
          [
           "SHA-256 + Hive"
          ],
          [
           "Proof-of-Authority"
          ],
          [
           "ECC 256K1"
          ],
          [
           "SHA3-256"
          ],
          [
           "Leased POS"
          ]
         ],
         "hovertemplate": "<b>%{hovertext}</b><br><br>Class=%{marker.color}<br>PC 1=%{x}<br>PC 2=%{y}<br>PC 3=%{z}<br>Algorithm=%{customdata[0]}<extra></extra>",
         "hovertext": [
          "BiblePay",
          "LitecoinCash",
          "Poa Network",
          "Acute Angle Cloud",
          "Fiii",
          "Waves"
         ],
         "legendgroup": "3",
         "marker": {
          "color": [
           3,
           3,
           3,
           3,
           3,
           3
          ],
          "coloraxis": "coloraxis",
          "symbol": "square"
         },
         "mode": "markers",
         "name": "3",
         "scene": "scene",
         "showlegend": true,
         "type": "scatter3d",
         "x": [
          -0.23830414025074204,
          -0.36134743915094847,
          -0.43159918076130477,
          -0.34506595319809225,
          -0.5306758480213676,
          -0.4353953460203168
         ],
         "y": [
          3.429932301646746,
          2.9489398087883094,
          1.4162322950816022,
          2.49482603127957,
          4.360728961357059,
          2.6142713666326847
         ],
         "z": [
          10.826118153410318,
          14.703555126809126,
          7.841854387562522,
          12.310013132956175,
          18.612019109260086,
          9.314182742837035
         ]
        },
        {
         "customdata": [
          [
           "TRC10"
          ]
         ],
         "hovertemplate": "<b>%{hovertext}</b><br><br>Class=%{marker.color}<br>PC 1=%{x}<br>PC 2=%{y}<br>PC 3=%{z}<br>Algorithm=%{customdata[0]}<extra></extra>",
         "hovertext": [
          "BitTorrent"
         ],
         "legendgroup": "2",
         "marker": {
          "color": [
           2
          ],
          "coloraxis": "coloraxis",
          "symbol": "x"
         },
         "mode": "markers",
         "name": "2",
         "scene": "scene",
         "showlegend": true,
         "type": "scatter3d",
         "x": [
          34.099631691831284
         ],
         "y": [
          1.6658390652257764
         ],
         "z": [
          -0.7486796603746029
         ]
        }
       ],
       "layout": {
        "coloraxis": {
         "colorbar": {
          "title": {
           "text": "Class"
          }
         },
         "colorscale": [
          [
           0,
           "#0d0887"
          ],
          [
           0.1111111111111111,
           "#46039f"
          ],
          [
           0.2222222222222222,
           "#7201a8"
          ],
          [
           0.3333333333333333,
           "#9c179e"
          ],
          [
           0.4444444444444444,
           "#bd3786"
          ],
          [
           0.5555555555555556,
           "#d8576b"
          ],
          [
           0.6666666666666666,
           "#ed7953"
          ],
          [
           0.7777777777777778,
           "#fb9f3a"
          ],
          [
           0.8888888888888888,
           "#fdca26"
          ],
          [
           1,
           "#f0f921"
          ]
         ]
        },
        "legend": {
         "title": {
          "text": "Class"
         },
         "tracegroupgap": 0,
         "x": 0,
         "y": 1
        },
        "margin": {
         "t": 60
        },
        "scene": {
         "domain": {
          "x": [
           0,
           1
          ],
          "y": [
           0,
           1
          ]
         },
         "xaxis": {
          "title": {
           "text": "PC 1"
          }
         },
         "yaxis": {
          "title": {
           "text": "PC 2"
          }
         },
         "zaxis": {
          "title": {
           "text": "PC 3"
          }
         }
        },
        "template": {
         "data": {
          "bar": [
           {
            "error_x": {
             "color": "#2a3f5f"
            },
            "error_y": {
             "color": "#2a3f5f"
            },
            "marker": {
             "line": {
              "color": "#E5ECF6",
              "width": 0.5
             },
             "pattern": {
              "fillmode": "overlay",
              "size": 10,
              "solidity": 0.2
             }
            },
            "type": "bar"
           }
          ],
          "barpolar": [
           {
            "marker": {
             "line": {
              "color": "#E5ECF6",
              "width": 0.5
             },
             "pattern": {
              "fillmode": "overlay",
              "size": 10,
              "solidity": 0.2
             }
            },
            "type": "barpolar"
           }
          ],
          "carpet": [
           {
            "aaxis": {
             "endlinecolor": "#2a3f5f",
             "gridcolor": "white",
             "linecolor": "white",
             "minorgridcolor": "white",
             "startlinecolor": "#2a3f5f"
            },
            "baxis": {
             "endlinecolor": "#2a3f5f",
             "gridcolor": "white",
             "linecolor": "white",
             "minorgridcolor": "white",
             "startlinecolor": "#2a3f5f"
            },
            "type": "carpet"
           }
          ],
          "choropleth": [
           {
            "colorbar": {
             "outlinewidth": 0,
             "ticks": ""
            },
            "type": "choropleth"
           }
          ],
          "contour": [
           {
            "colorbar": {
             "outlinewidth": 0,
             "ticks": ""
            },
            "colorscale": [
             [
              0,
              "#0d0887"
             ],
             [
              0.1111111111111111,
              "#46039f"
             ],
             [
              0.2222222222222222,
              "#7201a8"
             ],
             [
              0.3333333333333333,
              "#9c179e"
             ],
             [
              0.4444444444444444,
              "#bd3786"
             ],
             [
              0.5555555555555556,
              "#d8576b"
             ],
             [
              0.6666666666666666,
              "#ed7953"
             ],
             [
              0.7777777777777778,
              "#fb9f3a"
             ],
             [
              0.8888888888888888,
              "#fdca26"
             ],
             [
              1,
              "#f0f921"
             ]
            ],
            "type": "contour"
           }
          ],
          "contourcarpet": [
           {
            "colorbar": {
             "outlinewidth": 0,
             "ticks": ""
            },
            "type": "contourcarpet"
           }
          ],
          "heatmap": [
           {
            "colorbar": {
             "outlinewidth": 0,
             "ticks": ""
            },
            "colorscale": [
             [
              0,
              "#0d0887"
             ],
             [
              0.1111111111111111,
              "#46039f"
             ],
             [
              0.2222222222222222,
              "#7201a8"
             ],
             [
              0.3333333333333333,
              "#9c179e"
             ],
             [
              0.4444444444444444,
              "#bd3786"
             ],
             [
              0.5555555555555556,
              "#d8576b"
             ],
             [
              0.6666666666666666,
              "#ed7953"
             ],
             [
              0.7777777777777778,
              "#fb9f3a"
             ],
             [
              0.8888888888888888,
              "#fdca26"
             ],
             [
              1,
              "#f0f921"
             ]
            ],
            "type": "heatmap"
           }
          ],
          "heatmapgl": [
           {
            "colorbar": {
             "outlinewidth": 0,
             "ticks": ""
            },
            "colorscale": [
             [
              0,
              "#0d0887"
             ],
             [
              0.1111111111111111,
              "#46039f"
             ],
             [
              0.2222222222222222,
              "#7201a8"
             ],
             [
              0.3333333333333333,
              "#9c179e"
             ],
             [
              0.4444444444444444,
              "#bd3786"
             ],
             [
              0.5555555555555556,
              "#d8576b"
             ],
             [
              0.6666666666666666,
              "#ed7953"
             ],
             [
              0.7777777777777778,
              "#fb9f3a"
             ],
             [
              0.8888888888888888,
              "#fdca26"
             ],
             [
              1,
              "#f0f921"
             ]
            ],
            "type": "heatmapgl"
           }
          ],
          "histogram": [
           {
            "marker": {
             "pattern": {
              "fillmode": "overlay",
              "size": 10,
              "solidity": 0.2
             }
            },
            "type": "histogram"
           }
          ],
          "histogram2d": [
           {
            "colorbar": {
             "outlinewidth": 0,
             "ticks": ""
            },
            "colorscale": [
             [
              0,
              "#0d0887"
             ],
             [
              0.1111111111111111,
              "#46039f"
             ],
             [
              0.2222222222222222,
              "#7201a8"
             ],
             [
              0.3333333333333333,
              "#9c179e"
             ],
             [
              0.4444444444444444,
              "#bd3786"
             ],
             [
              0.5555555555555556,
              "#d8576b"
             ],
             [
              0.6666666666666666,
              "#ed7953"
             ],
             [
              0.7777777777777778,
              "#fb9f3a"
             ],
             [
              0.8888888888888888,
              "#fdca26"
             ],
             [
              1,
              "#f0f921"
             ]
            ],
            "type": "histogram2d"
           }
          ],
          "histogram2dcontour": [
           {
            "colorbar": {
             "outlinewidth": 0,
             "ticks": ""
            },
            "colorscale": [
             [
              0,
              "#0d0887"
             ],
             [
              0.1111111111111111,
              "#46039f"
             ],
             [
              0.2222222222222222,
              "#7201a8"
             ],
             [
              0.3333333333333333,
              "#9c179e"
             ],
             [
              0.4444444444444444,
              "#bd3786"
             ],
             [
              0.5555555555555556,
              "#d8576b"
             ],
             [
              0.6666666666666666,
              "#ed7953"
             ],
             [
              0.7777777777777778,
              "#fb9f3a"
             ],
             [
              0.8888888888888888,
              "#fdca26"
             ],
             [
              1,
              "#f0f921"
             ]
            ],
            "type": "histogram2dcontour"
           }
          ],
          "mesh3d": [
           {
            "colorbar": {
             "outlinewidth": 0,
             "ticks": ""
            },
            "type": "mesh3d"
           }
          ],
          "parcoords": [
           {
            "line": {
             "colorbar": {
              "outlinewidth": 0,
              "ticks": ""
             }
            },
            "type": "parcoords"
           }
          ],
          "pie": [
           {
            "automargin": true,
            "type": "pie"
           }
          ],
          "scatter": [
           {
            "fillpattern": {
             "fillmode": "overlay",
             "size": 10,
             "solidity": 0.2
            },
            "type": "scatter"
           }
          ],
          "scatter3d": [
           {
            "line": {
             "colorbar": {
              "outlinewidth": 0,
              "ticks": ""
             }
            },
            "marker": {
             "colorbar": {
              "outlinewidth": 0,
              "ticks": ""
             }
            },
            "type": "scatter3d"
           }
          ],
          "scattercarpet": [
           {
            "marker": {
             "colorbar": {
              "outlinewidth": 0,
              "ticks": ""
             }
            },
            "type": "scattercarpet"
           }
          ],
          "scattergeo": [
           {
            "marker": {
             "colorbar": {
              "outlinewidth": 0,
              "ticks": ""
             }
            },
            "type": "scattergeo"
           }
          ],
          "scattergl": [
           {
            "marker": {
             "colorbar": {
              "outlinewidth": 0,
              "ticks": ""
             }
            },
            "type": "scattergl"
           }
          ],
          "scattermapbox": [
           {
            "marker": {
             "colorbar": {
              "outlinewidth": 0,
              "ticks": ""
             }
            },
            "type": "scattermapbox"
           }
          ],
          "scatterpolar": [
           {
            "marker": {
             "colorbar": {
              "outlinewidth": 0,
              "ticks": ""
             }
            },
            "type": "scatterpolar"
           }
          ],
          "scatterpolargl": [
           {
            "marker": {
             "colorbar": {
              "outlinewidth": 0,
              "ticks": ""
             }
            },
            "type": "scatterpolargl"
           }
          ],
          "scatterternary": [
           {
            "marker": {
             "colorbar": {
              "outlinewidth": 0,
              "ticks": ""
             }
            },
            "type": "scatterternary"
           }
          ],
          "surface": [
           {
            "colorbar": {
             "outlinewidth": 0,
             "ticks": ""
            },
            "colorscale": [
             [
              0,
              "#0d0887"
             ],
             [
              0.1111111111111111,
              "#46039f"
             ],
             [
              0.2222222222222222,
              "#7201a8"
             ],
             [
              0.3333333333333333,
              "#9c179e"
             ],
             [
              0.4444444444444444,
              "#bd3786"
             ],
             [
              0.5555555555555556,
              "#d8576b"
             ],
             [
              0.6666666666666666,
              "#ed7953"
             ],
             [
              0.7777777777777778,
              "#fb9f3a"
             ],
             [
              0.8888888888888888,
              "#fdca26"
             ],
             [
              1,
              "#f0f921"
             ]
            ],
            "type": "surface"
           }
          ],
          "table": [
           {
            "cells": {
             "fill": {
              "color": "#EBF0F8"
             },
             "line": {
              "color": "white"
             }
            },
            "header": {
             "fill": {
              "color": "#C8D4E3"
             },
             "line": {
              "color": "white"
             }
            },
            "type": "table"
           }
          ]
         },
         "layout": {
          "annotationdefaults": {
           "arrowcolor": "#2a3f5f",
           "arrowhead": 0,
           "arrowwidth": 1
          },
          "autotypenumbers": "strict",
          "coloraxis": {
           "colorbar": {
            "outlinewidth": 0,
            "ticks": ""
           }
          },
          "colorscale": {
           "diverging": [
            [
             0,
             "#8e0152"
            ],
            [
             0.1,
             "#c51b7d"
            ],
            [
             0.2,
             "#de77ae"
            ],
            [
             0.3,
             "#f1b6da"
            ],
            [
             0.4,
             "#fde0ef"
            ],
            [
             0.5,
             "#f7f7f7"
            ],
            [
             0.6,
             "#e6f5d0"
            ],
            [
             0.7,
             "#b8e186"
            ],
            [
             0.8,
             "#7fbc41"
            ],
            [
             0.9,
             "#4d9221"
            ],
            [
             1,
             "#276419"
            ]
           ],
           "sequential": [
            [
             0,
             "#0d0887"
            ],
            [
             0.1111111111111111,
             "#46039f"
            ],
            [
             0.2222222222222222,
             "#7201a8"
            ],
            [
             0.3333333333333333,
             "#9c179e"
            ],
            [
             0.4444444444444444,
             "#bd3786"
            ],
            [
             0.5555555555555556,
             "#d8576b"
            ],
            [
             0.6666666666666666,
             "#ed7953"
            ],
            [
             0.7777777777777778,
             "#fb9f3a"
            ],
            [
             0.8888888888888888,
             "#fdca26"
            ],
            [
             1,
             "#f0f921"
            ]
           ],
           "sequentialminus": [
            [
             0,
             "#0d0887"
            ],
            [
             0.1111111111111111,
             "#46039f"
            ],
            [
             0.2222222222222222,
             "#7201a8"
            ],
            [
             0.3333333333333333,
             "#9c179e"
            ],
            [
             0.4444444444444444,
             "#bd3786"
            ],
            [
             0.5555555555555556,
             "#d8576b"
            ],
            [
             0.6666666666666666,
             "#ed7953"
            ],
            [
             0.7777777777777778,
             "#fb9f3a"
            ],
            [
             0.8888888888888888,
             "#fdca26"
            ],
            [
             1,
             "#f0f921"
            ]
           ]
          },
          "colorway": [
           "#636efa",
           "#EF553B",
           "#00cc96",
           "#ab63fa",
           "#FFA15A",
           "#19d3f3",
           "#FF6692",
           "#B6E880",
           "#FF97FF",
           "#FECB52"
          ],
          "font": {
           "color": "#2a3f5f"
          },
          "geo": {
           "bgcolor": "white",
           "lakecolor": "white",
           "landcolor": "#E5ECF6",
           "showlakes": true,
           "showland": true,
           "subunitcolor": "white"
          },
          "hoverlabel": {
           "align": "left"
          },
          "hovermode": "closest",
          "mapbox": {
           "style": "light"
          },
          "paper_bgcolor": "white",
          "plot_bgcolor": "#E5ECF6",
          "polar": {
           "angularaxis": {
            "gridcolor": "white",
            "linecolor": "white",
            "ticks": ""
           },
           "bgcolor": "#E5ECF6",
           "radialaxis": {
            "gridcolor": "white",
            "linecolor": "white",
            "ticks": ""
           }
          },
          "scene": {
           "xaxis": {
            "backgroundcolor": "#E5ECF6",
            "gridcolor": "white",
            "gridwidth": 2,
            "linecolor": "white",
            "showbackground": true,
            "ticks": "",
            "zerolinecolor": "white"
           },
           "yaxis": {
            "backgroundcolor": "#E5ECF6",
            "gridcolor": "white",
            "gridwidth": 2,
            "linecolor": "white",
            "showbackground": true,
            "ticks": "",
            "zerolinecolor": "white"
           },
           "zaxis": {
            "backgroundcolor": "#E5ECF6",
            "gridcolor": "white",
            "gridwidth": 2,
            "linecolor": "white",
            "showbackground": true,
            "ticks": "",
            "zerolinecolor": "white"
           }
          },
          "shapedefaults": {
           "line": {
            "color": "#2a3f5f"
           }
          },
          "ternary": {
           "aaxis": {
            "gridcolor": "white",
            "linecolor": "white",
            "ticks": ""
           },
           "baxis": {
            "gridcolor": "white",
            "linecolor": "white",
            "ticks": ""
           },
           "bgcolor": "#E5ECF6",
           "caxis": {
            "gridcolor": "white",
            "linecolor": "white",
            "ticks": ""
           }
          },
          "title": {
           "x": 0.05
          },
          "xaxis": {
           "automargin": true,
           "gridcolor": "white",
           "linecolor": "white",
           "ticks": "",
           "title": {
            "standoff": 15
           },
           "zerolinecolor": "white",
           "zerolinewidth": 2
          },
          "yaxis": {
           "automargin": true,
           "gridcolor": "white",
           "linecolor": "white",
           "ticks": "",
           "title": {
            "standoff": 15
           },
           "zerolinecolor": "white",
           "zerolinewidth": 2
          }
         }
        }
       }
      },
      "text/html": [
       "<div>                            <div id=\"18b9212f-066e-44ab-905a-aa5bef706bdf\" class=\"plotly-graph-div\" style=\"height:525px; width:100%;\"></div>            <script type=\"text/javascript\">                require([\"plotly\"], function(Plotly) {                    window.PLOTLYENV=window.PLOTLYENV || {};                                    if (document.getElementById(\"18b9212f-066e-44ab-905a-aa5bef706bdf\")) {                    Plotly.newPlot(                        \"18b9212f-066e-44ab-905a-aa5bef706bdf\",                        [{\"customdata\":[[\"Scrypt\"],[\"Scrypt\"],[\"X13\"],[\"X11\"],[\"SHA-512\"],[\"SHA-256\"],[\"SHA-256\"],[\"X15\"],[\"Scrypt\"],[\"Scrypt\"],[\"Scrypt\"],[\"Scrypt\"],[\"Scrypt\"],[\"Scrypt\"],[\"Groestl\"],[\"PoS\"],[\"Scrypt\"],[\"Scrypt\"],[\"X11\"],[\"X11\"],[\"SHA3\"],[\"Scrypt\"],[\"SHA-256\"],[\"Scrypt\"],[\"X13\"],[\"X13\"],[\"NeoScrypt\"],[\"Scrypt\"],[\"Scrypt\"],[\"Scrypt\"],[\"X11\"],[\"X11\"],[\"PHI1612\"],[\"X11\"],[\"Scrypt\"],[\"Scrypt\"],[\"Scrypt\"],[\"X11\"],[\"X13\"],[\"Scrypt\"],[\"Shabal256\"],[\"Counterparty\"],[\"SHA-256\"],[\"Groestl\"],[\"Scrypt\"],[\"X13\"],[\"Scrypt\"],[\"Scrypt\"],[\"X13\"],[\"X11\"],[\"Scrypt\"],[\"X11\"],[\"SHA3\"],[\"QUAIT\"],[\"X11\"],[\"Scrypt\"],[\"X13\"],[\"SHA-256\"],[\"X15\"],[\"BLAKE256\"],[\"SHA-256\"],[\"X11\"],[\"SHA-256\"],[\"NIST5\"],[\"Scrypt\"],[\"Scrypt\"],[\"X11\"],[\"Scrypt\"],[\"SHA-256\"],[\"Scrypt\"],[\"PoS\"],[\"X11\"],[\"SHA-256\"],[\"SHA-256\"],[\"NIST5\"],[\"X11\"],[\"POS 3.0\"],[\"Scrypt\"],[\"Scrypt\"],[\"Scrypt\"],[\"X13\"],[\"X11\"],[\"X11\"],[\"Scrypt\"],[\"SHA-256\"],[\"X11\"],[\"Scrypt\"],[\"Scrypt\"],[\"Scrypt\"],[\"Scrypt\"],[\"SHA-256D\"],[\"PoS\"],[\"Scrypt\"],[\"X11\"],[\"PoS\"],[\"X13\"],[\"X14\"],[\"PoS\"],[\"SHA-256D\"],[\"DPoS\"],[\"X11\"],[\"X13\"],[\"X11\"],[\"PoS\"],[\"Scrypt\"],[\"Scrypt\"],[\"PoS\"],[\"X11\"],[\"SHA-256\"],[\"Scrypt\"],[\"X11\"],[\"Scrypt\"],[\"Scrypt\"],[\"X11\"],[\"Scrypt\"],[\"Scrypt\"],[\"Scrypt\"],[\"Scrypt\"],[\"Quark\"],[\"QuBit\"],[\"Scrypt\"],[\"SHA-256\"],[\"X11\"],[\"Scrypt\"],[\"Scrypt\"],[\"Scrypt\"],[\"Scrypt\"],[\"X13\"],[\"Scrypt\"],[\"Scrypt\"],[\"X11\"],[\"Blake2S\"],[\"X11\"],[\"PoS\"],[\"X11\"],[\"PoS\"],[\"X11\"],[\"Scrypt\"],[\"Scrypt\"],[\"Scrypt\"],[\"SHA-256\"],[\"X11\"],[\"Scrypt\"],[\"PoS\"],[\"Scrypt\"],[\"X15\"],[\"SHA-256\"],[\"POS 3.0\"],[\"536\"],[\"NIST5\"],[\"NIST5\"],[\"Skein\"],[\"X13\"],[\"Scrypt\"],[\"X13\"],[\"SkunkHash v2 Raptor\"],[\"Skein\"],[\"X11\"],[\"Scrypt\"],[\"VeChainThor Authority\"],[\"PoS\"],[\"Scrypt\"],[\"Scrypt\"],[\"SHA-512\"],[\"Ouroboros\"],[\"X11\"],[\"NeoScrypt\"],[\"Scrypt\"],[\"Lyra2REv2\"],[\"Scrypt\"],[\"SHA-256\"],[\"NIST5\"],[\"PHI1612\"],[\"Scrypt\"],[\"Quark\"],[\"POS 2.0\"],[\"Scrypt\"],[\"SHA-256\"],[\"X11\"],[\"DPoS\"],[\"NIST5\"],[\"X13\"],[\"Scrypt\"],[\"NIST5\"],[\"Quark\"],[\"Scrypt\"],[\"Scrypt\"],[\"X11\"],[\"Quark\"],[\"Scrypt\"],[\"Scrypt\"],[\"X11\"],[\"POS 3.0\"],[\"Scrypt\"],[\"Scrypt\"],[\"X13\"],[\"C11\"],[\"X11\"],[\"XEVAN\"],[\"Scrypt\"],[\"VBFT\"],[\"NIST5\"],[\"Scrypt\"],[\"Scrypt\"],[\"Scrypt\"],[\"Green Protocol\"],[\"PoS\"],[\"Scrypt\"],[\"Semux BFT consensus\"],[\"Quark\"],[\"PoS\"],[\"X16R\"],[\"Scrypt\"],[\"XEVAN\"],[\"Scrypt\"],[\"Scrypt\"],[\"Scrypt\"],[\"SHA-256D\"],[\"Scrypt\"],[\"X15\"],[\"Scrypt\"],[\"Quark\"],[\"SHA-256\"],[\"DPoS\"],[\"X16R\"],[\"Quark\"],[\"Quark\"],[\"Scrypt\"],[\"Lyra2REv2\"],[\"Quark\"],[\"Scrypt\"],[\"X11\"],[\"X11\"],[\"Scrypt\"],[\"PoS\"],[\"Keccak\"],[\"X11\"],[\"Scrypt\"],[\"SHA-512\"],[\"XEVAN\"],[\"XEVAN\"],[\"X11\"],[\"Quark\"],[\"Scrypt\"],[\"Quark\"],[\"Quark\"],[\"Scrypt\"],[\"X11\"],[\"Scrypt\"],[\"XEVAN\"],[\"SHA-256D\"],[\"X11\"],[\"X11\"],[\"DPoS\"],[\"Scrypt\"],[\"X11\"],[\"Scrypt\"],[\"Scrypt\"],[\"SHA-256\"],[\"Scrypt\"],[\"X11\"],[\"Scrypt\"],[\"SHA-256\"],[\"X11\"],[\"Scrypt\"],[\"Scrypt\"],[\"X11\"],[\"Scrypt\"],[\"PoS\"],[\"X11\"],[\"SHA-256\"],[\"DPoS\"],[\"Scrypt\"],[\"Scrypt\"],[\"NeoScrypt\"],[\"X13\"],[\"DPoS\"],[\"DPoS\"],[\"SHA-256\"],[\"PoS\"],[\"PoS\"],[\"SHA-256\"],[\"Scrypt\"],[\"Scrypt\"]],\"hovertemplate\":\"<b>%{hovertext}</b><br><br>Class=%{marker.color}<br>PC 1=%{x}<br>PC 2=%{y}<br>PC 3=%{z}<br>Algorithm=%{customdata[0]}<extra></extra>\",\"hovertext\":[\"42 Coin\",\"404Coin\",\"EliteCoin\",\"Dash\",\"Bitshares\",\"BitcoinDark\",\"PayCoin\",\"KoboCoin\",\"Aurora Coin\",\"BlueCoin\",\"EnergyCoin\",\"BitBar\",\"CryptoBullion\",\"CasinoCoin\",\"Diamond\",\"Exclusive Coin\",\"FlutterCoin\",\"HoboNickels\",\"HyperStake\",\"IOCoin\",\"MaxCoin\",\"MintCoin\",\"MazaCoin\",\"Nautilus Coin\",\"NavCoin\",\"OpalCoin\",\"Orbitcoin\",\"PotCoin\",\"PhoenixCoin\",\"Reddcoin\",\"SuperCoin\",\"SyncCoin\",\"TittieCoin\",\"TorCoin\",\"UnitaryStatus Dollar\",\"UltraCoin\",\"VeriCoin\",\"X11 Coin\",\"StealthCoin\",\"ZCC Coin\",\"BurstCoin\",\"StorjCoin\",\"Neutron\",\"FairCoin\",\"RubyCoin\",\"Kore\",\"Dnotes\",\"8BIT Coin\",\"Sativa Coin\",\"Ucoin\",\"Vtorrent\",\"IslaCoin\",\"Nexus\",\"Droidz\",\"Squall Coin\",\"Diggits\",\"Paycon\",\"Emercoin\",\"EverGreenCoin\",\"Decred\",\"EDRCoin\",\"Hitcoin\",\"DubaiCoin\",\"PWR Coin\",\"BillaryCoin\",\"GPU Coin\",\"EuropeCoin\",\"ZeitCoin\",\"SwingCoin\",\"SafeExchangeCoin\",\"Nebuchadnezzar\",\"Ratecoin\",\"Revenu\",\"Clockcoin\",\"VIP Tokens\",\"BitSend\",\"Let it Ride\",\"PutinCoin\",\"iBankCoin\",\"Frankywillcoin\",\"MudraCoin\",\"Lutetium Coin\",\"GoldBlocks\",\"CarterCoin\",\"BitTokens\",\"MustangCoin\",\"ZoneCoin\",\"RootCoin\",\"BitCurrency\",\"Swiscoin\",\"BuzzCoin\",\"Opair\",\"PesoBit\",\"Halloween Coin\",\"CoffeeCoin\",\"RoyalCoin\",\"GanjaCoin V2\",\"TeamUP\",\"LanaCoin\",\"ARK\",\"InsaneCoin\",\"EmberCoin\",\"XenixCoin\",\"FreeCoin\",\"PLNCoin\",\"AquariusCoin\",\"Creatio\",\"Eternity\",\"Eurocoin\",\"BitcoinFast\",\"Stakenet\",\"BitConnect Coin\",\"MoneyCoin\",\"Enigma\",\"Russiacoin\",\"PandaCoin\",\"GameUnits\",\"GAKHcoin\",\"Allsafe\",\"LiteCreed\",\"Klingon Empire Darsek\",\"Internet of People\",\"KushCoin\",\"Printerium\",\"Impeach\",\"Zilbercoin\",\"FirstCoin\",\"FindCoin\",\"OpenChat\",\"RenosCoin\",\"VirtacoinPlus\",\"TajCoin\",\"Impact\",\"Atmos\",\"HappyCoin\",\"MacronCoin\",\"Condensate\",\"Independent Money System\",\"ArgusCoin\",\"LomoCoin\",\"ProCurrency\",\"GoldReserve\",\"GrowthCoin\",\"Phreak\",\"Degas Coin\",\"HTML5 Coin\",\"Ultimate Secure Cash\",\"QTUM\",\"Espers\",\"Denarius\",\"Virta Unique Coin\",\"Bitcoin Planet\",\"BritCoin\",\"Linda\",\"DeepOnion\",\"Signatum\",\"Cream\",\"Monoeci\",\"Draftcoin\",\"Vechain\",\"Stakecoin\",\"CoinonatX\",\"Ethereum Dark\",\"Obsidian\",\"Cardano\",\"Regalcoin\",\"TrezarCoin\",\"TerraNovaCoin\",\"Rupee\",\"WomenCoin\",\"Theresa May Coin\",\"NamoCoin\",\"LUXCoin\",\"Xios\",\"Bitcloud 2.0\",\"KekCoin\",\"BlackholeCoin\",\"Infinity Economics\",\"Magnet\",\"Lamden Tau\",\"Electra\",\"Bitcoin Diamond\",\"Cash & Back Coin\",\"Bulwark\",\"Kalkulus\",\"GermanCoin\",\"LiteCoin Ultra\",\"PhantomX\",\"Digiwage\",\"Trollcoin\",\"Litecoin Plus\",\"Monkey Project\",\"TokenPay\",\"My Big Coin\",\"Unified Society USDEX\",\"Tokyo Coin\",\"Stipend\",\"Pushi\",\"Ellerium\",\"Velox\",\"Ontology\",\"Bitspace\",\"Briacoin\",\"Ignition\",\"MedicCoin\",\"Bitcoin Green\",\"Deviant Coin\",\"Abjcoin\",\"Semux\",\"Carebit\",\"Zealium\",\"Proton\",\"iDealCash\",\"Bitcoin Incognito\",\"HollyWoodCoin\",\"Swisscoin\",\"Xt3ch\",\"TheVig\",\"EmaratCoin\",\"Dekado\",\"Lynx\",\"Poseidon Quark\",\"BitcoinWSpectrum\",\"Muse\",\"Trivechain\",\"Dystem\",\"Giant\",\"Peony Coin\",\"Absolute Coin\",\"Vitae\",\"TPCash\",\"ARENON\",\"EUNO\",\"MMOCoin\",\"Ketan\",\"XDNA\",\"PAXEX\",\"ThunderStake\",\"Kcash\",\"Bettex coin\",\"BitMoney\",\"Junson Ming Chan Coin\",\"HerbCoin\",\"Oduwa\",\"Galilel\",\"Crypto Sports\",\"Credit\",\"Dash Platinum\",\"Nasdacoin\",\"Beetle Coin\",\"Titan Coin\",\"Award\",\"Insane Coin\",\"ALAX\",\"LiteDoge\",\"TruckCoin\",\"OrangeCoin\",\"BitstarCoin\",\"NeosCoin\",\"HyperCoin\",\"PinkCoin\",\"AudioCoin\",\"IncaKoin\",\"Piggy Coin\",\"Genstake\",\"XiaoMiCoin\",\"CapriCoin\",\" ClubCoin\",\"Radium\",\"Creditbit \",\"OKCash\",\"Lisk\",\"HiCoin\",\"WhiteCoin\",\"FriendshipCoin\",\"Triangles Coin\",\"EOS\",\"Oxycoin\",\"TigerCash\",\"Particl\",\"Nxt\",\"ZEPHYR\",\"Gapcoin\",\"BitcoinPlus\"],\"legendgroup\":\"0\",\"marker\":{\"color\":[0,0,0,0,0,0,0,0,0,0,0,0,0,0,0,0,0,0,0,0,0,0,0,0,0,0,0,0,0,0,0,0,0,0,0,0,0,0,0,0,0,0,0,0,0,0,0,0,0,0,0,0,0,0,0,0,0,0,0,0,0,0,0,0,0,0,0,0,0,0,0,0,0,0,0,0,0,0,0,0,0,0,0,0,0,0,0,0,0,0,0,0,0,0,0,0,0,0,0,0,0,0,0,0,0,0,0,0,0,0,0,0,0,0,0,0,0,0,0,0,0,0,0,0,0,0,0,0,0,0,0,0,0,0,0,0,0,0,0,0,0,0,0,0,0,0,0,0,0,0,0,0,0,0,0,0,0,0,0,0,0,0,0,0,0,0,0,0,0,0,0,0,0,0,0,0,0,0,0,0,0,0,0,0,0,0,0,0,0,0,0,0,0,0,0,0,0,0,0,0,0,0,0,0,0,0,0,0,0,0,0,0,0,0,0,0,0,0,0,0,0,0,0,0,0,0,0,0,0,0,0,0,0,0,0,0,0,0,0,0,0,0,0,0,0,0,0,0,0,0,0,0,0,0,0,0,0,0,0,0,0,0,0,0,0,0,0,0,0,0,0,0,0,0,0,0,0,0,0,0,0,0,0,0],\"coloraxis\":\"coloraxis\",\"symbol\":\"circle\"},\"mode\":\"markers\",\"name\":\"0\",\"scene\":\"scene\",\"showlegend\":true,\"x\":[-0.3382465450461413,-0.3215684663445604,2.309211530144689,-0.3806326190249406,-0.26955157046063133,-0.3043498527727271,-0.2663815177275369,-0.2392549315412617,-0.3379058280547905,-0.3304751295028074,-0.3367414525406446,-0.3382424791719287,-0.33822674531022456,0.6113572862424829,-0.35752218037758005,-0.3605705987979878,-0.3049968645279868,-0.33630376331347933,-0.32246554906224384,-0.3805271986076064,-0.40849348451479395,-0.0399109722324316,-0.2676273478432702,-0.3000291492206507,-0.27604730989880083,-0.2766702073420264,-0.337739959689694,-0.33254456129187915,-0.3366470011372881,0.020291239941507538,-0.3423741614602776,-0.38089907362349584,-0.30842688656368944,-0.38081066463167096,-0.313459075864888,-0.33692296952481277,-0.3145228755228732,-0.3807750792626562,-0.27645082827669176,-0.32934472977094614,-0.11679694007994824,-0.36439805947558546,-0.3035609211562816,-0.35694308173207184,-0.30000930733297065,-0.2767457364583695,-0.29465988288973427,-0.3382285937416811,-0.2766978591763891,-0.34281959645900045,-0.33796277972119326,-0.380880582076779,-0.4083198500351951,-0.40841652324149935,-0.3449451543838021,-0.29840956748030095,-0.27621916371760363,-0.296903149989248,-0.24169748851218584,-0.0823551146256901,-0.30432073454158237,-0.05812227501983905,-0.30438444292387196,-0.22619306173113393,-0.33783863082041377,-0.2982790628303213,-0.3780485396382705,0.8539204826128275,-0.304184429606735,-0.12003428550139462,-0.36025362042567305,-0.37872156064761653,-0.30292748210250664,-0.3005946227648238,-0.3476864193148284,-0.3796150586749022,-0.3568738460417076,-0.31411848744459103,-0.33787678213433325,-0.3363143318987688,-0.23747128755426997,-0.3302996849819585,-0.38035415183059,-0.3370803526483999,-0.30436542551007056,-0.38086977647024395,-0.33806603871022334,-0.3382228204593927,-0.2982675417731381,-0.24928227667629946,0.04264460409689254,-0.35920981142107844,-0.33783655048876093,-0.3670242221189833,-0.35853754054868936,-0.23890250185691594,-0.3960520013423943,-0.3582874878537023,-0.2721677966226152,3.7285124425383414,-0.380462001659684,0.8567171375326624,-0.38082464059252774,-0.35967395623800313,-0.33776421513574884,-0.3379187289948919,-0.36025362042567305,-0.3803993524211023,-0.30422794161747735,-0.33776492449687145,-0.34321867588845134,-0.3379124535621166,-0.3334986754609752,-0.38085367218527677,-0.33712285522770474,0.34379366882725637,-0.3381118761905453,-0.33818247771976273,-0.3588457156959126,-0.35292686151146174,-0.33440751595420914,-0.3043418131138299,-0.3807635455395348,-0.3379601256756379,-0.33808722876512043,-0.2999159851139246,-0.31776178552616835,-0.23867015839397557,-0.3189244062686728,-0.29965672801250265,-0.38002892561026785,-0.39632543272025167,-0.3787659499315806,-0.3584986794019304,-0.3799266978685576,-0.3528938232403733,-0.37586516524044905,-0.338030449011033,-0.33802967452819327,-0.3311485776394432,0.26650181161826975,-0.3804054100656956,-0.2825484839752077,-0.36028800189807886,-0.33724067748149117,0.8934887680806577,-0.2650714052889864,-0.35565117357732395,0.5758646229992392,-0.3492233727022074,-0.34772448644994297,-0.4029880756068324,-0.2763827035692855,0.12696820482617982,-0.27645349944002956,-0.3460477835096631,-0.40249241339811326,-0.380677945259236,-0.2999900839423176,4.405574125407682,-0.36015428417019346,-0.33766537500348887,-0.33816539287139447,-0.3276625999045826,0.6370548537597676,-0.38061879381961045,-0.3327356238451823,-0.3381210158567836,-0.3113818914661655,0.4317230134475776,-0.3026866437265714,-0.333979235950189,-0.38195733765589174,-0.33807132564293824,-0.395191511607336,-0.38093063699748725,-0.3379415509637573,-0.09271761609478878,-0.37941068850834514,3.7333719751351593,0.21074002761780858,-0.273121611165083,-0.3353999764831662,-0.3110819685603548,-0.35873151794181074,0.07641516339933918,-0.33707979619376033,-0.3799920088750628,-0.35789582358898914,-0.32463550054584916,-0.338187547861233,-0.34279149982265483,-0.3571560324647571,-0.2975265555524022,-0.33372899882701046,-0.23046070530523677,-0.35655224116458983,-0.38069528563697624,-0.3176740520779058,-0.29914966307109847,-0.31132235849763124,-0.3488220863637164,-0.3382149279056975,-0.3381966285162849,-0.29352672773588095,-0.3619966022373271,-0.35974842322169404,-0.3379129488905097,3.914789037226245,-0.3938580673669691,-0.35993726144068233,-0.3158020713590865,-0.284749171452147,-0.2818724768667377,-0.2996839978894318,-0.1411607220499136,-0.2999364228176116,-0.33751870707308573,-0.33738666408665885,-0.2031360570523824,2.2290686118525844,-0.3544378036687739,-0.26519878234071,1.017175283549385,-0.35304284045376505,-0.35884518026516127,-0.39687656609352395,-0.18061855742289837,-0.3492150032109283,-0.35756368570990604,-0.3310886027299102,-0.34236860714525424,-0.38016816276960114,-0.297179916659216,-0.3590367005799231,-0.35412025548524817,-0.34223005235881965,-0.19762964841281916,-0.2990932584955225,-0.27976232213817376,0.4979020772840755,-0.13251203260993286,-0.39617065506946375,-0.33791688328002917,-0.39662710645579863,-0.3589622488347069,0.5692313294486243,-0.3428458684663249,-0.33739954027254315,-0.31212569407881235,-0.2922123856111871,-0.377731922932385,-0.3803955527112783,3.7456247580042303,0.09732268984305525,-0.3779323443026249,-0.33678491488473167,-0.3376101125514772,-0.2664142247820736,-0.33812875352227884,-0.37201643872396123,-0.2517874487474551,-0.08376620732035872,-0.3677625370830149,-0.3374063508707022,-0.3304648982894182,-0.3769612462526602,-0.3358445241310293,-0.360529501609519,-0.34839524443284686,-0.3028636824489773,3.7289045190693813,-0.10705473204562399,-0.3330368896819736,-0.3373656787618824,-0.27685300124567386,3.7387841703327296,3.7400296753191187,-0.24729473268445035,-0.3604652957330867,-0.3706852671931942,2.4815055045048484,-0.3362909716165007,-0.3003331201101929],\"y\":[1.1581585017876141,1.1582237162826117,1.732924640635937,1.3549947392213608,1.0977182905281408,0.8763830762231624,0.3976161933422699,1.9397418331578988,1.1581557810134386,1.1583591732046,1.1581973659076532,1.1581582633434957,1.158158326158142,0.13988575804595504,1.0736047524777774,1.0884570273264795,0.40260922508341856,1.1581262371913517,0.8767580091266927,1.3549974613588254,2.0171116361365407,0.6861082255011831,0.8756846260035956,0.6793804099652784,1.8819716165882616,1.8819555322991253,0.625800116487477,1.1580172297656257,1.1581324864755145,1.1674165674303445,0.8762439343273832,1.3550029704942461,1.3074086103792304,1.3549983848368004,1.1576994823477156,1.158123986651043,0.42380389950766134,1.3550023948604035,1.8819611970459558,1.1577014403385464,-0.1612284901430018,1.061530674133407,0.8763718494016409,1.073622714523447,0.6793920367109139,1.8819453389458294,0.6791867072296474,1.158158965350187,1.881947949063526,0.8762186939906054,1.1581520906930203,1.3550034486648814,1.9865083759851445,2.041589338075773,1.1313639832294649,0.6793646525860892,1.8819328329383855,0.8759035535027614,1.9399011200547822,1.035955450898755,0.8763838281062436,1.3450998540394399,0.8763900826456763,1.6461276682706945,1.1581401841540029,0.6792848687569951,1.3548127989491006,0.6411832468866273,0.8763749831440143,0.1470016793644109,1.0884514738213533,1.3550076792010526,0.8762819219268776,0.8761345211195711,1.6429286767273574,1.354940644545416,1.0881936803437675,1.1574076865036782,1.1581375962039353,1.158139702727041,1.4030765151393634,0.8761044106055587,1.354982695917079,1.1581267919640545,0.8763833610298969,1.3550016669191023,1.1581487374456196,1.158159114426319,0.6794370121096365,0.4796151201762476,2.0759272494636596,1.0884413330008083,1.1581690885849225,1.3543308612274283,1.0884820476065558,1.4031752256699705,2.0544424895734315,1.0883092177548481,2.0763806491273247,2.0908496479196135,1.3549936494828296,1.9106376699860088,1.3550022462368005,1.088445834100813,1.158144482444892,1.158138115880627,1.0884514738213533,1.3549746595422492,0.8763875980234908,1.158148269674411,0.8323346770891815,1.1581478948275394,1.1578341476335996,1.3550007089161051,1.1580886006998967,0.6736809395060447,1.158153049216548,1.1581578784580642,1.1947429690729414,0.7133445031073918,1.1579141713153578,0.8763839707428,1.3550000452846864,1.158152159225066,1.1581475491550293,0.6793566657561843,0.4674579564778351,1.4031729651332172,1.1579705111108374,0.6793774926602161,1.3549567477333948,2.002690105889054,1.3549824907320143,1.0884347672486552,1.354959387430464,1.0883804862497735,1.3547894945296184,1.15814951072267,1.1581444558264449,1.1576548618672577,0.3598656182807597,1.3549882415582284,0.6784690618805636,1.0884437168148624,1.1581123482734927,1.9074087001318039,0.39752116704554574,1.0881795715652822,2.042483798492177,1.6429439436724524,1.642907086115844,1.999384483119733,1.8819423484914497,1.135825064041684,1.8819481464959404,1.0992415665692992,1.9993972819750914,1.3550021503467664,0.6793805766070027,1.6060517143471829,1.0884254629348276,1.15814036328407,1.1581577122346325,1.0986282963657905,1.1006649897140022,1.3549916616033513,0.6256571580909985,1.1581509356286952,0.4213038525703666,1.160867403748134,0.8763724432609898,1.64252013677164,1.7868024483859728,1.1581486009278747,1.6734311939543602,1.0517291054029851,1.1581562189027816,0.3959267864374792,1.354942487127817,2.0907175338014556,1.6368023839525516,1.881902909623067,1.1580877515734238,1.1641628343896733,1.194742483247721,1.134519697092627,1.1580855910281627,1.3549920470744306,1.1946953701468555,1.1578917329548148,1.1581572775388318,0.8762187325726,1.088192232637156,0.5100881192458947,1.1581157868277414,1.4028453874510296,1.0540380685350876,1.3549910602958362,1.7826916815561327,0.6793290559163112,1.0775334817561735,1.6429268287099656,1.1581572574604788,1.158156356138874,0.6792159672552411,1.1160699590019085,1.0884178082083293,1.15814650819382,2.1356374539789496,1.6734656257905198,1.0884184274528999,0.42770201677405484,1.1560215168596957,1.5590755497661057,0.679382576798002,1.1562409968118614,0.6793636941584938,2.0797805180311073,1.158123004003478,1.4610992679035846,0.35108015933759806,1.1944205936778154,0.39758644784848596,1.60764807599603,0.9064684208713443,1.1947388613682373,1.6735215289481118,0.670879673328346,0.9000611756376166,1.1947176849560845,1.1576564105231337,0.8762062970535983,1.3549874984762578,0.6792864968179753,1.0883523816651843,1.0828772651954268,0.8761789632993966,1.1494248818969297,1.1358137870850775,1.303923680494404,1.828765955800674,0.8816629374007475,1.6735062013512885,1.1581525888967559,1.6735184325196395,1.19474107966822,1.1302094035091361,0.8762182216784674,1.158122671518092,1.7825327041878012,2.077584489062476,1.3547962453572515,1.3549953653095845,2.0906904609724566,1.1453633917082768,1.3550795772624835,1.1580588592863936,1.1581376658962623,0.3976095099547566,1.1581615433973012,1.3548888753037276,1.1531783469034522,0.8819635245428573,1.3546552575292619,1.1581698932568605,1.1580846686954673,1.3549617729711034,1.158110618671511,1.0884519062312765,0.8527141895997207,0.8763644372063217,2.0908357858054956,0.6774991707050543,1.1580869476042552,0.6257710399562603,1.8819507298138256,2.0912007469115017,2.0912329080040535,0.3974307119180074,1.088453815455223,1.0264796006043617,0.8804697334091278,1.1580372676686428,0.679382988383307],\"z\":[-0.5528829523374261,-0.5532978134190407,-0.6378931328885317,-0.5069644360317174,-0.14847036819299023,-0.3773367671247781,-0.12816411261069086,-0.7189105623939397,-0.5528905076403525,-0.5531149122241599,-0.5529278760873141,-0.5528829957472062,-0.5528833874145282,-0.5366671153149087,-0.4523316713830369,-0.22100994339972677,-0.39438013301131897,-0.5529222311314541,-0.2583966187553491,-0.5069675826022874,-0.6343687165329652,-0.3114802134201455,-0.37805911012767773,-0.3037137280212096,-0.6097088930497966,-0.609690300913591,-0.29790548707751774,-0.5529876625772028,-0.5529154162163143,-0.5635845267461325,-0.25780238990209553,-0.5069599127732342,-0.5035402212001668,-0.5069609926598436,-0.5533733507595638,-0.5529068673419972,-0.2713563256991385,-0.5069627563944293,-0.6096968489023612,-0.5529927436271582,-0.8263265692979456,-0.21122479259879162,-0.3773531432261187,-0.4523496390997865,-0.30371684285921197,-0.6096861756305664,-0.30379855727653526,-0.5528834881514373,-0.6096879164806285,-0.257785976463048,-0.5528883039513051,-0.5069604648616624,-0.4837388568482364,-0.7475620925017626,0.020859491215313126,-0.3037490007628984,-0.6096959681577152,-0.3774065564481543,-0.7188881252892063,-0.4727395096364298,-0.3773376362407538,-0.512454726878525,-0.3773375276324779,-0.5657610830211227,-0.5528885795377919,-0.30373402290003326,-0.506985126286696,-0.3227241927186707,-0.37733889829276224,-0.5207381968113363,-0.22101628634440548,-0.5070132138204249,-0.377347927052306,-0.377370430573897,-0.5621207383195329,-0.5069765666955549,-0.20906861821683095,-0.5532913053258248,-0.5528870770172859,-0.5529250338536225,-0.3605217138357675,-0.2580603548745988,-0.5069683822327627,-0.5529037288832244,-0.37733645822095474,-0.506960319659832,-0.55288506598611,-0.5528836604713786,-0.30376883077934236,-0.28469257437300294,-0.7220187851911364,-0.22103902271378043,-0.552895189791308,-0.5071401842587001,-0.2210643894470831,-0.3605097871205274,-0.9078404741787952,-0.22103116082322477,-0.7145702403011764,0.09881568327011814,-0.5069682813210266,-0.6433869299880022,-0.5069615338268183,-0.2210289108045659,-0.5528913401280714,-0.5528861887811981,-0.22101628634440548,-0.5069654740075321,-0.3773407177252097,-0.5528921826886851,-0.2773171863859772,-0.5528885588092849,-0.5529232224951068,-0.5069604885206221,-0.5528940412104879,-0.3178636094852951,-0.5528849451054445,-0.5528843476546249,-0.29251076076921606,-0.27263369490166767,-0.5529195847395281,-0.37733716299971387,-0.5069624997793754,-0.5528883831688021,-0.552884287994363,-0.30371105335322024,-0.27993496936651,-0.36051484731029587,-0.5533037676584412,-0.30372199921184695,-0.5069702941005575,-0.7172583273784988,-0.507006432096568,-0.22105459053364768,-0.506973345376684,-0.221176715051984,-0.5070322098771379,-0.5528860951898734,-0.5528849664728203,-0.5529389026849111,-0.13237832872391853,-0.506968411371486,-0.3039261933752004,-0.22101370104635912,-0.5528966049064448,-0.7387432986303362,-0.12817397063714336,-0.2090947444149383,-0.7422381557955046,-0.5620873362840173,-0.5621149248409651,-0.6658791198707671,-0.6096942050197226,-0.5589731737940753,-0.6096938227844408,-0.315147575751655,-0.6658939143114848,-0.5069650308656183,-0.3037147029079977,4.065164387245789,-0.22101276552469934,-0.5528927761073348,-0.5528847197441766,-0.14728299163281805,-0.25479048493762385,-0.5069640691412133,-0.2979930799822336,-0.5528842461561999,-0.11139227813502406,-0.5719671574937444,-0.3773742494347223,-0.5623568094632617,-0.7520021401035161,-0.5528849081826478,-0.5417044825986442,-0.17181602079805472,-0.5528897501360824,-0.13194637469022946,-0.5069818871584123,0.09872910248890053,-0.5741253298035733,-0.6097634780038711,-0.5529351754342663,-0.31291560428005627,-0.29251338978134983,-0.5574642752714186,-0.552894390977711,-0.5069791914136774,-0.2925227425858092,-0.5531488947520135,-0.5528840896475489,-0.25778665917806337,-0.20906152078768803,-0.3542467662353216,-0.5529816205005297,-0.3606374193493238,-0.4575356157181734,-0.5069620978436982,-0.37200939063929706,-0.3037231687106645,-0.22080145177876095,-0.5620930774669388,-0.5528834283212453,-0.5528836627011376,-0.30383237949750014,-0.16515545743558227,-0.2210207636009547,-0.5528882322076588,0.1313859358631472,-0.5417442830139615,-0.22101637445873246,-0.2038392782855581,-0.5536811766750078,0.1558084802092239,-0.30372249901682963,-0.5571752687743641,-0.3037121583264615,-0.7137743164217348,-0.5528955216033227,-0.46972176059584975,-0.38452733421438423,-0.2925433254276186,-0.12818573181367277,-0.05549928314451674,-0.4530292763637145,-0.29250984129921387,-0.5416845660107802,-0.30464866077604563,-0.3605660065081058,-0.2925357743518333,-0.5529406928057394,-0.25779398071473597,-0.5069739336024018,-0.30376075779807626,-0.22102298613037344,-0.4329734630875253,-0.25779110038841524,-0.5542737070494028,0.014281593163006187,-0.12283512454000493,0.0022857510291106452,-0.2640663187824626,-0.5416980199441692,-0.5528895179518457,-0.5416898470489214,-0.2925075366390241,-0.568307235144469,-0.2577852390732453,-0.5528951372771317,-0.372106397305801,-0.7143626597298913,-0.506988963899223,-0.5069702646778586,0.0984413378115722,-0.5604269481590753,-0.5070484633578222,-0.5528953971157903,-0.5528934894779032,-0.1281618111532445,-0.5528864681652071,-0.5071470860070585,-0.5538265286097485,-0.383894517355952,-0.5071961014474013,-0.5529056916872118,-0.5530528541738238,-0.507045019542587,-0.5529297020809372,-0.22100976688439852,-0.234662036142056,-0.3773681856703829,0.09880942471494043,-0.3079156546791758,-0.5529916766726855,-0.29790786559615356,-0.6096848262034315,0.09848960592624995,0.09845243030672537,-0.12857985198438188,-0.22101174033111315,-0.20067015797303434,0.02535311857428655,-0.5529023448211365,-0.30370702184231996],\"type\":\"scatter3d\"},{\"customdata\":[[\"SHA-256\"],[\"Ethash\"],[\"Scrypt\"],[\"CryptoNight-V7\"],[\"Ethash\"],[\"Equihash\"],[\"Multiple\"],[\"Scrypt\"],[\"X11\"],[\"Scrypt\"],[\"Multiple\"],[\"Scrypt\"],[\"SHA-256\"],[\"Scrypt\"],[\"Scrypt\"],[\"Quark\"],[\"Groestl\"],[\"Scrypt\"],[\"Scrypt\"],[\"Scrypt\"],[\"X11\"],[\"Multiple\"],[\"SHA-256\"],[\"Scrypt\"],[\"Scrypt\"],[\"Scrypt\"],[\"Scrypt\"],[\"Scrypt\"],[\"NeoScrypt\"],[\"Scrypt\"],[\"Scrypt\"],[\"Scrypt\"],[\"Scrypt\"],[\"SHA-256\"],[\"Scrypt\"],[\"Scrypt\"],[\"Scrypt\"],[\"Scrypt\"],[\"HybridScryptHash256\"],[\"Scrypt\"],[\"Scrypt\"],[\"SHA-256\"],[\"Scrypt\"],[\"Scrypt\"],[\"Scrypt\"],[\"Scrypt\"],[\"SHA-256\"],[\"Multiple\"],[\"SHA-256\"],[\"SHA-256\"],[\"SHA-256\"],[\"SHA-256\"],[\"X11\"],[\"Scrypt\"],[\"Lyra2REv2\"],[\"Scrypt\"],[\"Multiple\"],[\"SHA-256\"],[\"CryptoNight\"],[\"CryptoNight\"],[\"Scrypt\"],[\"Scrypt\"],[\"Scrypt\"],[\"Scrypt\"],[\"Scrypt\"],[\"Scrypt\"],[\"Stanford Folding\"],[\"Multiple\"],[\"QuBit\"],[\"Scrypt\"],[\"Scrypt\"],[\"M7 POW\"],[\"Scrypt\"],[\"SHA-256\"],[\"Scrypt\"],[\"X11\"],[\"Lyra2RE\"],[\"SHA-256\"],[\"X11\"],[\"Scrypt\"],[\"Scrypt\"],[\"Ethash\"],[\"Blake2b\"],[\"X11\"],[\"SHA-256\"],[\"Scrypt\"],[\"1GB AES Pattern Search\"],[\"Scrypt\"],[\"SHA-256\"],[\"X11\"],[\"Dagger\"],[\"Scrypt\"],[\"X11GOST\"],[\"Scrypt\"],[\"X11\"],[\"Scrypt\"],[\"X11\"],[\"Equihash\"],[\"CryptoNight\"],[\"SHA-256\"],[\"Multiple\"],[\"Scrypt\"],[\"SHA-256\"],[\"Scrypt\"],[\"Lyra2Z\"],[\"Ethash\"],[\"Equihash\"],[\"Scrypt\"],[\"X11\"],[\"X11\"],[\"CryptoNight\"],[\"Scrypt\"],[\"CryptoNight\"],[\"Lyra2RE\"],[\"X11\"],[\"CryptoNight-V7\"],[\"Scrypt\"],[\"X11\"],[\"Equihash\"],[\"Scrypt\"],[\"Lyra2RE\"],[\"Dagger-Hashimoto\"],[\"Scrypt\"],[\"NIST5\"],[\"Scrypt\"],[\"SHA-256\"],[\"Scrypt\"],[\"CryptoNight-V7\"],[\"Argon2d\"],[\"Blake2b\"],[\"Cloverhash\"],[\"CryptoNight\"],[\"X11\"],[\"Scrypt\"],[\"Scrypt\"],[\"X11\"],[\"X11\"],[\"CryptoNight\"],[\"Time Travel\"],[\"Scrypt\"],[\"Keccak\"],[\"X11\"],[\"SHA-256\"],[\"Scrypt\"],[\"Scrypt\"],[\"Scrypt\"],[\"Scrypt\"],[\"Scrypt\"],[\"Scrypt\"],[\"CryptoNight\"],[\"Equihash\"],[\"X11\"],[\"NeoScrypt\"],[\"Equihash\"],[\"Dagger\"],[\"Scrypt\"],[\"X11\"],[\"NeoScrypt\"],[\"Ethash\"],[\"NeoScrypt\"],[\"Multiple\"],[\"CryptoNight\"],[\"CryptoNight\"],[\"Ethash\"],[\"X11\"],[\"CryptoNight-V7\"],[\"Scrypt\"],[\"BLAKE256\"],[\"X11\"],[\"NeoScrypt\"],[\"NeoScrypt\"],[\"Scrypt\"],[\"X11\"],[\"SHA-256\"],[\"C11\"],[\"Ethash\"],[\"CryptoNight\"],[\"SkunkHash\"],[\"CryptoNight\"],[\"Scrypt\"],[\"Dagger\"],[\"Lyra2REv2\"],[\"Scrypt\"],[\"Scrypt\"],[\"X11\"],[\"Ethash\"],[\"CryptoNight\"],[\"Scrypt\"],[\"IMesh\"],[\"Equihash\"],[\"Lyra2Z\"],[\"X11\"],[\"CryptoNight\"],[\"NIST5\"],[\"Lyra2RE\"],[\"Tribus\"],[\"Lyra2Z\"],[\"CryptoNight\"],[\"CryptoNight Heavy\"],[\"CryptoNight\"],[\"Jump Consistent Hash\"],[\"CryptoNight\"],[\"X16R\"],[\"HMQ1725\"],[\"X11\"],[\"Scrypt\"],[\"CryptoNight-V7\"],[\"Cryptonight-GPU\"],[\"XEVAN\"],[\"CryptoNight Heavy\"],[\"SHA-256\"],[\"X11\"],[\"X16R\"],[\"Equihash\"],[\"Lyra2Z\"],[\"SHA-256\"],[\"CryptoNight\"],[\"Blake\"],[\"Blake\"],[\"Equihash\"],[\"Exosis\"],[\"Scrypt\"],[\"Equihash\"],[\"Equihash\"],[\"QuBit\"],[\"SHA-256\"],[\"X13\"],[\"SHA-256\"],[\"Scrypt\"],[\"NeoScrypt\"],[\"Blake\"],[\"Scrypt\"],[\"SHA-256\"],[\"Scrypt\"],[\"Groestl\"],[\"Scrypt\"],[\"Scrypt\"],[\"Multiple\"],[\"Equihash+Scrypt\"],[\"Ethash\"],[\"CryptoNight\"],[\"Equihash\"]],\"hovertemplate\":\"<b>%{hovertext}</b><br><br>Class=%{marker.color}<br>PC 1=%{x}<br>PC 2=%{y}<br>PC 3=%{z}<br>Algorithm=%{customdata[0]}<extra></extra>\",\"hovertext\":[\"Bitcoin\",\"Ethereum\",\"Litecoin\",\"Monero\",\"Ethereum Classic\",\"ZCash\",\"DigiByte\",\"ProsperCoin\",\"Spreadcoin\",\"Argentum\",\"MyriadCoin\",\"MoonCoin\",\"ZetaCoin\",\"SexCoin\",\"Quatloo\",\"QuarkCoin\",\"Riecoin\",\"Digitalcoin \",\"Catcoin\",\"CannaCoin\",\"CryptCoin\",\"Verge\",\"DevCoin\",\"EarthCoin\",\"E-Gulden\",\"Einsteinium\",\"Emerald\",\"Franko\",\"FeatherCoin\",\"GrandCoin\",\"GlobalCoin\",\"GoldCoin\",\"Infinite Coin\",\"IXcoin\",\"KrugerCoin\",\"LuckyCoin\",\"Litebar \",\"MegaCoin\",\"MediterraneanCoin\",\"MinCoin\",\"NobleCoin\",\"Namecoin\",\"NyanCoin\",\"RonPaulCoin\",\"StableCoin\",\"SmartCoin\",\"SysCoin\",\"TeslaCoin\",\"TigerCoin\",\"TerraCoin\",\"UnbreakableCoin\",\"Unobtanium\",\"UroCoin\",\"ViaCoin\",\"Vertcoin\",\"WorldCoin\",\"Crypti\",\"JouleCoin\",\"ByteCoin\",\"DigitalNote \",\"MonaCoin\",\"Gulden\",\"PesetaCoin\",\"Wild Beast Coin\",\"Flo\",\"ArtByte\",\"Folding Coin\",\"Unitus\",\"CypherPunkCoin\",\"OmniCron\",\"GreenCoin\",\"Cryptonite\",\"MasterCoin\",\"SoonCoin\",\"1Credit\",\"MarsCoin \",\"Crypto\",\"Anarchists Prime\",\"BowsCoin\",\"Song Coin\",\"BitZeny\",\"Expanse\",\"Siacoin\",\"MindCoin\",\"I0coin\",\"Revolution VR\",\"HOdlcoin\",\"Gamecredits\",\"CarpeDiemCoin\",\"Adzcoin\",\"SoilCoin\",\"YoCoin\",\"SibCoin\",\"Francs\",\"BolivarCoin\",\"Omni\",\"PizzaCoin\",\"Komodo\",\"Karbo\",\"ZayedCoin\",\"Circuits of Value\",\"DopeCoin\",\"DollarCoin\",\"Shilling\",\"ZCoin\",\"Elementrem\",\"ZClassic\",\"KiloCoin\",\"ArtexCoin\",\"Kurrent\",\"Cannabis Industry Coin\",\"OsmiumCoin\",\"Bikercoins\",\"HexxCoin\",\"PacCoin\",\"Citadel\",\"BeaverCoin\",\"VaultCoin\",\"Zero\",\"Canada eCoin\",\"Zoin\",\"DubaiCoin\",\"EB3coin\",\"Coinonat\",\"BenjiRolls\",\"ILCoin\",\"EquiTrader\",\"Quantum Resistant Ledger\",\"Dynamic\",\"Nano\",\"ChanCoin\",\"Dinastycoin\",\"DigitalPrice\",\"Unify\",\"SocialCoin\",\"ArcticCoin\",\"DAS\",\"LeviarCoin\",\"Bitcore\",\"gCn Coin\",\"SmartCash\",\"Onix\",\"Bitcoin Cash\",\"Sojourn Coin\",\"NewYorkCoin\",\"FrazCoin\",\"Kronecoin\",\"AdCoin\",\"Linx\",\"Sumokoin\",\"BitcoinZ\",\"Elements\",\"VIVO Coin\",\"Bitcoin Gold\",\"Pirl\",\"eBoost\",\"Pura\",\"Innova\",\"Ellaism\",\"GoByte\",\"SHIELD\",\"UltraNote\",\"BitCoal\",\"DaxxCoin\",\"AC3\",\"Lethean\",\"PopularCoin\",\"Photon\",\"Sucre\",\"SparksPay\",\"GunCoin\",\"IrishCoin\",\"Pioneer Coin\",\"UnitedBitcoin\",\"Interzone\",\"1717 Masonic Commemorative Token\",\"TurtleCoin\",\"MUNcoin\",\"Niobio Cash\",\"ShareChain\",\"Travelflex\",\"KREDS\",\"BitFlip\",\"LottoCoin\",\"Crypto Improvement Fund\",\"Callisto Network\",\"BitTube\",\"Poseidon\",\"Aidos Kuneen\",\"Bitrolium\",\"Alpenschillling\",\"FuturoCoin\",\"Monero Classic\",\"Jumpcoin\",\"Infinex\",\"KEYCO\",\"GINcoin\",\"PlatinCoin\",\"Loki\",\"Newton Coin\",\"MassGrid\",\"PluraCoin\",\"Motion\",\"PlusOneCoin\",\"Axe\",\"HexCoin\",\"Webchain\",\"Ryo\",\"Urals Coin\",\"Qwertycoin\",\"Project Pai\",\"Azart\",\"Xchange\",\"CrypticCoin\",\"Actinium\",\"Bitcoin SV\",\"FREDEnergy\",\"Universal Molecule\",\"Lithium\",\"PirateCash\",\"Exosis\",\"Block-Logic\",\"Beam\",\"Bithereum\",\"SLICE\",\"BLAST\",\"Bitcoin Rhodium\",\"GlobalToken\",\"SolarCoin\",\"UFO Coin\",\"BlakeCoin\",\"Crypto Escudo\",\"Crown Coin\",\"SmileyCoin\",\"Groestlcoin\",\"Bata\",\"Pakcoin\",\"JoinCoin\",\"Vollar\",\"Reality Clash\",\"Beldex\",\"Horizen\"],\"legendgroup\":\"1\",\"marker\":{\"color\":[1,1,1,1,1,1,1,1,1,1,1,1,1,1,1,1,1,1,1,1,1,1,1,1,1,1,1,1,1,1,1,1,1,1,1,1,1,1,1,1,1,1,1,1,1,1,1,1,1,1,1,1,1,1,1,1,1,1,1,1,1,1,1,1,1,1,1,1,1,1,1,1,1,1,1,1,1,1,1,1,1,1,1,1,1,1,1,1,1,1,1,1,1,1,1,1,1,1,1,1,1,1,1,1,1,1,1,1,1,1,1,1,1,1,1,1,1,1,1,1,1,1,1,1,1,1,1,1,1,1,1,1,1,1,1,1,1,1,1,1,1,1,1,1,1,1,1,1,1,1,1,1,1,1,1,1,1,1,1,1,1,1,1,1,1,1,1,1,1,1,1,1,1,1,1,1,1,1,1,1,1,1,1,1,1,1,1,1,1,1,1,1,1,1,1,1,1,1,1,1,1,1,1,1,1,1,1,1,1,1,1,1,1,1,1,1,1,1,1,1,1,1,1,1,1,1,1,1,1,1,1,1,1,1,1,1,1,1,1,1,1,1],\"coloraxis\":\"coloraxis\",\"symbol\":\"diamond\"},\"mode\":\"markers\",\"name\":\"1\",\"scene\":\"scene\",\"showlegend\":true,\"x\":[-0.1375592310495573,-0.15500675550363768,-0.17028561995103964,-0.1440970742318384,-0.1534480536075543,-0.1581076611230107,0.16956499241734727,-0.17143284661794753,-0.21402667136640613,-0.17104916464430214,-0.08403371095723518,2.5516192582474515,-0.13464160063524797,-0.1683023755714217,-0.17085315037060309,-0.2254651248402562,-0.1897977262338959,-0.17090172009198182,-0.17141509256354656,-0.17150160687288288,-0.21411610494089917,0.19336310148023322,0.24061115632208419,0.07744344123412022,-0.17124765355500335,-0.16684937354734053,-0.17118693303544746,-0.17155866493995717,-0.16627691736719238,-0.15076445708424419,-0.17035269771376135,-0.17063047052599867,1.5788815813475148,-0.13752055675554242,-0.167917750150953,-0.17127412013463458,-0.17162924316853692,-0.1708878558963761,-0.11752915042119741,-0.17151041799700817,-0.036336858661313184,-0.13759825514200918,-0.1651687794281729,-0.17148989054032526,-0.16958320173729557,-0.17097620200095337,-0.12474008161627734,-0.2458639143411712,-0.13706154494304384,-0.13734905015722748,-0.13733220377754948,-0.13792318427872577,-0.21429010712204033,-0.17120606895152973,-0.18193458003105994,-0.16830717114238666,-0.24633167946447027,-0.1371289059398678,3.8637110559264096,0.45969309105363576,-0.1700727876088775,-0.15466204504136705,-0.16879045823657207,-0.17163146130217105,-0.16865531326560151,-0.15486751290101605,-0.11363507329490845,-0.11806889595386157,-0.1871835717097336,-0.17150439894105018,-0.04434800590149346,-0.12356300547270005,-0.17164035397613528,-0.1376260641228791,0.480799238150796,-0.21367676262578372,-0.1415202353611466,-0.13736579394817644,-0.21396192467684028,-0.16976304947662704,-0.1689545733481667,-0.15607550645959709,0.3758037621616564,-0.21399733676388485,-0.13752168037806362,-0.16759467430283448,-0.1326201946143587,-0.17020249244620397,0.2813290713659364,-0.21315744502369371,-0.13415345677323048,-0.1704506168124815,-0.14123189015925575,-0.17143012369475333,-0.21396058320133093,-0.1716404125222182,-0.21411072422267485,-0.30604129782175926,0.3044716041189456,-0.1377820042170832,-0.09812474008920678,-0.16880490238529303,-0.13774059148296383,-0.17130357702246776,-0.15907344677755414,-0.15581741731756973,-0.15812930269143666,-0.09833301243939123,-0.20068119024420866,-0.21193742112328925,0.3044659069029163,-0.1716221401048771,0.304596751188791,-0.14206101528330292,0.5014478792454644,-0.14286129841360107,-0.17159039449228658,-0.20684139593420003,-0.15814167161825174,-0.16972202481878695,-0.14177913077308918,-0.1644819347861827,-0.14250099823627355,-0.1822850804578196,-0.17115243565661062,-0.10408135228520524,-0.17097448051683334,-0.14271847430233064,-0.15125921763882452,-0.024954990125905394,-0.13085458110767034,0.3406190227412846,-0.2131659278296956,-0.17129384121290328,-0.17105723126701103,-0.21356085610696224,-0.21413875819886113,0.3048611779690332,-0.13989018520258398,3.240928851374776,-0.12731134830220936,-0.2050059223382917,-0.13755839431882394,-0.09718193202311891,1.5773602207412232,-0.17139180334102008,-0.17084314360226813,-0.17054385943437947,-0.17053077553578913,0.3050448220579647,0.05432081717209506,-0.16848283809817466,-0.17096943178441384,-0.15798756821146134,-0.13291177516008215,-0.1697202319422236,-0.2096797841356412,-0.1708147581614545,-0.15418203151585336,-0.17091501108258542,-0.10829292441204794,1.142934726766343,0.3044486994474899,-0.07903457793825076,-0.2094220634546892,-0.13182265629966905,-0.08770974117581404,1.0902354918856088,-0.21411273180132467,-0.17096695771752948,-0.1639993213954954,-0.17064217429476802,-0.21403807060335703,-0.13753776418381713,-0.18992393080570874,-0.2849819583633241,8.046073499935348,-0.14492958697486683,0.30832591008233706,0.021569072273431994,-0.13241414598502552,-0.1674813181564647,-0.1712164301245086,0.13611653121038955,-0.2081747156731692,-0.10719834816820938,0.3123758912888298,-0.17145361484119037,-0.13733326678530364,-0.15697775928756888,-0.1568558365903341,-0.21320674657987562,0.3046313959270955,-0.18234447313292915,-0.1419061595109757,-0.15821263104277392,-0.15915786455408706,0.3085611615264537,0.5865924250541477,2.1142497920560057,-0.15749920410344515,0.31824687974009835,-0.1872296673822255,-0.1382441523406139,-0.2140948777586751,-0.17147823014395305,-0.13170615595818383,-0.14226711463905797,-0.1498408300561943,3.11109159455501,-0.09735092131387808,-0.2140662308760633,-0.1866571301517361,-0.05265217644834079,-0.1585553009010863,-0.1375584319269548,0.3844418038781556,-0.12330878955672722,-0.1237008591108108,-0.286126885818037,-0.15704606579671937,-0.17036975904692364,-0.15604667934819513,-0.15782024661961988,-0.1863941495412405,-0.13683396724909513,-0.11023214587511894,-0.13570114067833428,0.5247380398422155,-0.09606745697194942,-0.07414495623449151,-0.1550182701392456,-0.13734841989282778,0.5447609957791358,-0.18935833267745814,-0.17155507014462132,-0.1695093455012901,-0.11880463050748208,-0.116242088593072,-0.15585060492674513,0.32622359120148164,-0.1581087192721121],\"y\":[-1.35481214660874,-2.039823828208449,-1.073064890106663,-2.198865439045164,-2.0399278333958866,-2.1216851570291944,-1.920613342019733,-1.073051237413323,-0.8762045652924998,-1.0730708677161784,-1.9141101859834337,-1.266500846725036,-1.354839019270584,-1.0731277083163915,-1.0730905354713793,-0.5577211945910067,-1.1576217368170105,-1.073056183724006,-1.0730507789729373,-1.0730476137171188,-0.8762055007785637,-1.9169454665478958,-1.359458064474435,-1.0758838394477486,-1.0730464554081907,-1.0731243928134915,-1.0730524436385347,-1.0730477790276278,-1.6055033592967567,-1.0734789661285273,-1.0730570052661097,-1.073065720460619,-1.0900757765906677,-1.3548111479715834,-1.0731283695057143,-1.0730464518993028,-1.073042810699652,-1.0730515901670403,-2.219013859529477,-1.073045684301311,-1.0798522261597427,-1.3548131542782826,-1.073106555636711,-1.0730527103860428,-1.0731607814628772,-1.0730601910962592,-1.3550766951529225,-0.16123485504631152,-1.3548171636792017,-1.3548211447312148,-1.3548468127547513,-1.3548072908843365,-0.8761976292244219,-1.073046755465302,-1.3311437246302835,-1.0731384250291238,-0.16117824137649447,-1.3548175209920614,-2.3506586589712257,-2.318710810968453,-1.0730739021947389,-1.073757789485308,-1.0730828751803017,-1.0730437458616842,-1.0730749988212072,-1.0732959882362687,-2.208655084361029,-1.9136151898320002,-1.5178242969546618,-1.0730409755061432,-1.0766244791254187,-2.2069578576333306,-1.0730425957884735,-1.354813872354258,-1.119391852001899,-0.876204460026378,-2.247609262318814,-1.3548296552845365,-0.8762035803427529,-1.0731381134340534,-1.0731445491908076,-2.039863038577958,-2.222134694615807,-0.8762010601353679,-1.35481117698546,-1.073081957376161,-2.272826489452471,-1.0730627436107434,-1.358836862844599,-0.876226083356692,-2.201566853470548,-1.0731270933528794,-2.152417233811437,-1.0730504801809957,-0.8762062933905033,-1.0730425952188611,-0.8762101702913074,-1.7095491772476543,-2.315856549978164,-1.3548101615106505,-1.9139245033291825,-1.0731063383406316,-1.3548097119703564,-1.073054081744504,-2.207815983705536,-2.039862762052829,-2.121685715851916,-1.0780184653484073,-0.8761896843282068,-0.8762934969606753,-2.3158642532292943,-1.0730435644439813,-2.3158636222905358,-2.247584903445116,-0.9264082109070946,-2.1989606096988084,-1.073043188272353,-0.8766922123626707,-2.121683287552027,-1.0730613278536196,-2.2475851808394585,-2.1250310990605246,-1.07503742866835,-0.5882744291034359,-1.0730539710958584,-1.3556505688851757,-1.0730744346167937,-2.198901967993924,-2.1678646912472606,-2.232716725972728,-2.2890740345170744,-2.316290135387358,-0.8762372931452824,-1.0730464643498427,-1.073078632149487,-0.87622001400666,-0.876206703954425,-2.315876715064321,-2.225146383419717,-1.122308080526999,-1.1499520639922427,-0.8767135094345994,-1.3548121250028984,-1.0783322033324834,-1.0278799509374346,-1.0730494906831969,-1.0730792863314462,-1.0730825490445615,-1.0730822111956744,-2.3158959389920954,-2.130610817598315,-0.8762512654608856,-1.6054122693153494,-2.121682056022546,-2.2016215539449497,-1.0730612815584466,-0.8763190053221204,-1.6054206399662876,-2.039994870496651,-1.605414161303082,-1.9138161256912263,-2.3525874610725492,-2.3158588587207434,-2.044731312626833,-0.8764497348768491,-2.1992350579324347,-1.0743095454038507,-1.231077495369914,-0.876206650137402,-1.6054080839002127,-1.6055572029958785,-1.0730603585215608,-0.8762069204057358,-1.354811019404405,-1.1771645461041977,-0.28743220884380494,-2.8028698744450584,-2.1799481404320318,-2.315980961620942,-1.0749223861790924,-2.2015700259802053,-1.3314684289049727,-1.0730587006783179,-1.0777395099425555,-0.8763831801130456,-2.043054323780085,-2.3163325001393273,-1.073051773684761,-2.221818359297739,-2.1216896401752603,-2.2079500975729642,-0.8762383471559985,-2.315858194019987,-0.5882572427337026,-2.2475920878879334,-2.259868395534067,-2.2078106760715195,-2.3161562347175275,-2.2621216598483653,-2.395511678876026,-2.251025909305428,-2.3161809010650427,-1.32471118954551,-2.234284269351105,-0.876207013421237,-1.07305316852363,-2.199747597156506,-2.2141995460629373,-0.44858034471614927,-2.3235481412377705,-1.355202008822068,-0.8762090213961575,-1.3247499335400434,-2.1241682939365685,-2.207845605584038,-1.3548121259740056,-2.3193350395880374,-2.183403881022486,-2.183359125933108,-0.36929962089021295,-2.2639906731219943,-1.0730917919063299,-2.121798036592981,-2.121684526398042,-1.5178726048833426,-1.354822956678136,-0.3492509237056546,-1.3548651449982818,-1.1224474987860673,-1.6062073108811241,-2.186870628807703,-1.0732998810488585,-1.3548211284566982,-1.088889535654113,-1.1576248162721368,-1.0730434026882683,-1.0731121636886987,-1.9136361111513285,-2.2892848750966124,-2.0398624391609386,-2.3162498501936946,-2.121685184352434],\"z\":[0.1785536587063091,0.33044145842049,0.0029857947013461287,0.39629198447407765,0.3304276753539188,0.3653821482228204,0.29881677746625607,0.003010214686219537,0.048931346010647116,0.00300546668108847,0.30342388521512154,-0.018401359615032573,0.17848977228142385,0.0029524799861398825,0.0030052287893028657,0.014105800631787076,0.10354345092718478,0.0029985971249721715,0.0030096847662443673,0.0030110415891365263,0.04893370359151284,0.2974134419685655,0.17053689973713113,-0.002316710453286648,0.0030046870753934482,0.002916874101722918,0.0030045896940454047,0.00301244776946964,0.25789743055805375,0.0026115192750615266,0.002985614106872109,0.002994255146085688,-0.03511082781712858,0.17855250436261222,0.0029434039874089027,0.003005321136754984,0.003013013093335359,0.0029972219765654704,0.48497151840090386,0.0030108150291360387,0.001313247313573513,0.17855482349074464,0.0028725129911148146,0.003011917323445193,0.002990709866181195,0.0030012932748508087,0.1783062076636551,-0.0026035725259336796,0.17854285934549796,0.1785506593431053,0.17855608104108447,0.1785612868170462,0.04893609082447248,0.003003757682420144,0.1953148668416679,0.0029550273584681257,-0.0026052016101041128,0.17854455624193175,0.3432916559040888,0.4176932311386277,0.0029827349071398688,0.002768294998241181,0.0029540120543821457,0.0030132785509662703,0.0029489826382765936,0.0026684099369968855,0.3955542977153875,0.30412794443873675,0.28327585633816266,0.00300960190798466,0.0007728197913728172,0.2966320953977001,0.0030132308321735787,0.17855565352844308,-0.0021171820935135654,0.048922928805953246,0.4431680913918509,0.17855299259374724,0.04892956937112033,0.0029898790057771916,0.0029719466736830512,0.3304759941682529,0.4001830089693407,0.04892984680215673,0.17855253790030476,0.002925120296893765,0.2643197415424895,0.002983313525815208,0.16941920080446535,0.04891537964041058,0.47264318636688163,0.003003870590354335,0.3622607555970613,0.0030099775042997856,0.04893015296528751,0.0030132321072443096,0.048934634348779,0.343939729688918,0.4207687288367172,0.17855855184748395,0.30371974497970233,0.0029596838916858734,0.17855745644328347,0.0030077594466441054,0.39771467586346987,0.33046974058371725,0.36538279417664693,0.0023841550208970326,0.04860784849150461,0.04890141541071867,0.4207706138805661,0.0030130137861931854,0.4207673320970287,0.44317553449913677,0.043163723446902995,0.3962839423353986,0.003012166920934718,0.04886967154322735,0.3653825397279577,0.002971467147551718,0.4431688358530284,0.29926071416183414,0.0027670220490153765,-0.00619519837397988,0.0030041088827362644,0.1779409140709113,0.003004484790639345,0.3962672066598176,0.31650879981438357,0.41219784051138886,0.3995872375186408,0.42000006493984243,0.048918127370944926,0.003005797015040517,0.003007422446582272,0.04892367877954407,0.048934520059794,0.4207639608804418,0.3670659221245876,-0.06766293202460812,0.12184818348134183,0.04883047749914517,0.178553633731721,0.00242775205707083,-0.0491907353653327,0.0030088337249443214,0.0030024355718017864,0.002995997126408196,0.0029956066004439125,0.42076391897992405,0.36231242537034036,0.047849478738010806,0.2579893161751738,0.3653785637101625,0.47262581716940566,0.0029714136340792904,0.048853050694661906,0.2579875058577085,0.3304604966010447,0.2579884401965439,0.30393905257365395,0.40899309490491537,0.4207698022628644,0.3297329396217583,0.04887654000683543,0.39608144748828966,0.0012875305664213398,0.06715862404751981,0.0489338835460548,0.25798830687820146,0.25785501826979274,0.0029933189028379516,0.04893215397884322,0.17855288793923324,0.0983603811960718,0.02375967663633411,0.34560573681537293,0.3209490413967452,0.4207045123677416,-0.0011946618688546034,0.4726021853165764,0.19504187146833663,0.003006717386704957,-0.0033029345619256466,0.04883151395514659,0.330027887001068,0.4206871525158371,0.0030108345725900713,0.40578838982883697,0.3653560626265001,0.39769192114328006,0.048919345722009545,0.42076526903022043,-0.006197674452059985,0.44317345058231566,0.4637757673951105,0.3977154961473429,0.420738650567383,0.36692960810278835,0.39543639807189906,0.26645951388622197,0.420511916258025,0.10288105216969594,0.4700952472254886,0.04893353773193701,0.003011741605910159,0.3961949824731031,0.41613745242717737,0.18387345803140911,0.3203158577149296,0.17767766189010975,0.04893330631898929,0.10287611224303436,0.3634161620637582,0.3977089702108583,0.1785536348542421,0.41963997420726373,0.5131301481104816,0.5131293948120452,0.058654828792429774,0.46378762086859865,0.0029939187793524046,0.36535833108511273,0.36537511083611374,0.28326788465793623,0.17853871522531903,-0.05378886860776716,0.17852111730360448,-0.0024776176162426677,0.25637307962578476,0.5127376853460454,0.0026729097132243734,0.17855064053108136,-0.010574461814264417,0.10353361006363068,0.0030113682559177856,0.002977903634824456,0.3041503410616981,0.4888011108424928,0.3304704633740037,0.4203362268770878,0.3653821798062718],\"type\":\"scatter3d\"},{\"customdata\":[[\"Proof-of-BibleHash\"],[\"SHA-256 + Hive\"],[\"Proof-of-Authority\"],[\"ECC 256K1\"],[\"SHA3-256\"],[\"Leased POS\"]],\"hovertemplate\":\"<b>%{hovertext}</b><br><br>Class=%{marker.color}<br>PC 1=%{x}<br>PC 2=%{y}<br>PC 3=%{z}<br>Algorithm=%{customdata[0]}<extra></extra>\",\"hovertext\":[\"BiblePay\",\"LitecoinCash\",\"Poa Network\",\"Acute Angle Cloud\",\"Fiii\",\"Waves\"],\"legendgroup\":\"3\",\"marker\":{\"color\":[3,3,3,3,3,3],\"coloraxis\":\"coloraxis\",\"symbol\":\"square\"},\"mode\":\"markers\",\"name\":\"3\",\"scene\":\"scene\",\"showlegend\":true,\"x\":[-0.23830414025074204,-0.36134743915094847,-0.43159918076130477,-0.34506595319809225,-0.5306758480213676,-0.4353953460203168],\"y\":[3.429932301646746,2.9489398087883094,1.4162322950816022,2.49482603127957,4.360728961357059,2.6142713666326847],\"z\":[10.826118153410318,14.703555126809126,7.841854387562522,12.310013132956175,18.612019109260086,9.314182742837035],\"type\":\"scatter3d\"},{\"customdata\":[[\"TRC10\"]],\"hovertemplate\":\"<b>%{hovertext}</b><br><br>Class=%{marker.color}<br>PC 1=%{x}<br>PC 2=%{y}<br>PC 3=%{z}<br>Algorithm=%{customdata[0]}<extra></extra>\",\"hovertext\":[\"BitTorrent\"],\"legendgroup\":\"2\",\"marker\":{\"color\":[2],\"coloraxis\":\"coloraxis\",\"symbol\":\"x\"},\"mode\":\"markers\",\"name\":\"2\",\"scene\":\"scene\",\"showlegend\":true,\"x\":[34.099631691831284],\"y\":[1.6658390652257764],\"z\":[-0.7486796603746029],\"type\":\"scatter3d\"}],                        {\"template\":{\"data\":{\"histogram2dcontour\":[{\"type\":\"histogram2dcontour\",\"colorbar\":{\"outlinewidth\":0,\"ticks\":\"\"},\"colorscale\":[[0.0,\"#0d0887\"],[0.1111111111111111,\"#46039f\"],[0.2222222222222222,\"#7201a8\"],[0.3333333333333333,\"#9c179e\"],[0.4444444444444444,\"#bd3786\"],[0.5555555555555556,\"#d8576b\"],[0.6666666666666666,\"#ed7953\"],[0.7777777777777778,\"#fb9f3a\"],[0.8888888888888888,\"#fdca26\"],[1.0,\"#f0f921\"]]}],\"choropleth\":[{\"type\":\"choropleth\",\"colorbar\":{\"outlinewidth\":0,\"ticks\":\"\"}}],\"histogram2d\":[{\"type\":\"histogram2d\",\"colorbar\":{\"outlinewidth\":0,\"ticks\":\"\"},\"colorscale\":[[0.0,\"#0d0887\"],[0.1111111111111111,\"#46039f\"],[0.2222222222222222,\"#7201a8\"],[0.3333333333333333,\"#9c179e\"],[0.4444444444444444,\"#bd3786\"],[0.5555555555555556,\"#d8576b\"],[0.6666666666666666,\"#ed7953\"],[0.7777777777777778,\"#fb9f3a\"],[0.8888888888888888,\"#fdca26\"],[1.0,\"#f0f921\"]]}],\"heatmap\":[{\"type\":\"heatmap\",\"colorbar\":{\"outlinewidth\":0,\"ticks\":\"\"},\"colorscale\":[[0.0,\"#0d0887\"],[0.1111111111111111,\"#46039f\"],[0.2222222222222222,\"#7201a8\"],[0.3333333333333333,\"#9c179e\"],[0.4444444444444444,\"#bd3786\"],[0.5555555555555556,\"#d8576b\"],[0.6666666666666666,\"#ed7953\"],[0.7777777777777778,\"#fb9f3a\"],[0.8888888888888888,\"#fdca26\"],[1.0,\"#f0f921\"]]}],\"heatmapgl\":[{\"type\":\"heatmapgl\",\"colorbar\":{\"outlinewidth\":0,\"ticks\":\"\"},\"colorscale\":[[0.0,\"#0d0887\"],[0.1111111111111111,\"#46039f\"],[0.2222222222222222,\"#7201a8\"],[0.3333333333333333,\"#9c179e\"],[0.4444444444444444,\"#bd3786\"],[0.5555555555555556,\"#d8576b\"],[0.6666666666666666,\"#ed7953\"],[0.7777777777777778,\"#fb9f3a\"],[0.8888888888888888,\"#fdca26\"],[1.0,\"#f0f921\"]]}],\"contourcarpet\":[{\"type\":\"contourcarpet\",\"colorbar\":{\"outlinewidth\":0,\"ticks\":\"\"}}],\"contour\":[{\"type\":\"contour\",\"colorbar\":{\"outlinewidth\":0,\"ticks\":\"\"},\"colorscale\":[[0.0,\"#0d0887\"],[0.1111111111111111,\"#46039f\"],[0.2222222222222222,\"#7201a8\"],[0.3333333333333333,\"#9c179e\"],[0.4444444444444444,\"#bd3786\"],[0.5555555555555556,\"#d8576b\"],[0.6666666666666666,\"#ed7953\"],[0.7777777777777778,\"#fb9f3a\"],[0.8888888888888888,\"#fdca26\"],[1.0,\"#f0f921\"]]}],\"surface\":[{\"type\":\"surface\",\"colorbar\":{\"outlinewidth\":0,\"ticks\":\"\"},\"colorscale\":[[0.0,\"#0d0887\"],[0.1111111111111111,\"#46039f\"],[0.2222222222222222,\"#7201a8\"],[0.3333333333333333,\"#9c179e\"],[0.4444444444444444,\"#bd3786\"],[0.5555555555555556,\"#d8576b\"],[0.6666666666666666,\"#ed7953\"],[0.7777777777777778,\"#fb9f3a\"],[0.8888888888888888,\"#fdca26\"],[1.0,\"#f0f921\"]]}],\"mesh3d\":[{\"type\":\"mesh3d\",\"colorbar\":{\"outlinewidth\":0,\"ticks\":\"\"}}],\"scatter\":[{\"fillpattern\":{\"fillmode\":\"overlay\",\"size\":10,\"solidity\":0.2},\"type\":\"scatter\"}],\"parcoords\":[{\"type\":\"parcoords\",\"line\":{\"colorbar\":{\"outlinewidth\":0,\"ticks\":\"\"}}}],\"scatterpolargl\":[{\"type\":\"scatterpolargl\",\"marker\":{\"colorbar\":{\"outlinewidth\":0,\"ticks\":\"\"}}}],\"bar\":[{\"error_x\":{\"color\":\"#2a3f5f\"},\"error_y\":{\"color\":\"#2a3f5f\"},\"marker\":{\"line\":{\"color\":\"#E5ECF6\",\"width\":0.5},\"pattern\":{\"fillmode\":\"overlay\",\"size\":10,\"solidity\":0.2}},\"type\":\"bar\"}],\"scattergeo\":[{\"type\":\"scattergeo\",\"marker\":{\"colorbar\":{\"outlinewidth\":0,\"ticks\":\"\"}}}],\"scatterpolar\":[{\"type\":\"scatterpolar\",\"marker\":{\"colorbar\":{\"outlinewidth\":0,\"ticks\":\"\"}}}],\"histogram\":[{\"marker\":{\"pattern\":{\"fillmode\":\"overlay\",\"size\":10,\"solidity\":0.2}},\"type\":\"histogram\"}],\"scattergl\":[{\"type\":\"scattergl\",\"marker\":{\"colorbar\":{\"outlinewidth\":0,\"ticks\":\"\"}}}],\"scatter3d\":[{\"type\":\"scatter3d\",\"line\":{\"colorbar\":{\"outlinewidth\":0,\"ticks\":\"\"}},\"marker\":{\"colorbar\":{\"outlinewidth\":0,\"ticks\":\"\"}}}],\"scattermapbox\":[{\"type\":\"scattermapbox\",\"marker\":{\"colorbar\":{\"outlinewidth\":0,\"ticks\":\"\"}}}],\"scatterternary\":[{\"type\":\"scatterternary\",\"marker\":{\"colorbar\":{\"outlinewidth\":0,\"ticks\":\"\"}}}],\"scattercarpet\":[{\"type\":\"scattercarpet\",\"marker\":{\"colorbar\":{\"outlinewidth\":0,\"ticks\":\"\"}}}],\"carpet\":[{\"aaxis\":{\"endlinecolor\":\"#2a3f5f\",\"gridcolor\":\"white\",\"linecolor\":\"white\",\"minorgridcolor\":\"white\",\"startlinecolor\":\"#2a3f5f\"},\"baxis\":{\"endlinecolor\":\"#2a3f5f\",\"gridcolor\":\"white\",\"linecolor\":\"white\",\"minorgridcolor\":\"white\",\"startlinecolor\":\"#2a3f5f\"},\"type\":\"carpet\"}],\"table\":[{\"cells\":{\"fill\":{\"color\":\"#EBF0F8\"},\"line\":{\"color\":\"white\"}},\"header\":{\"fill\":{\"color\":\"#C8D4E3\"},\"line\":{\"color\":\"white\"}},\"type\":\"table\"}],\"barpolar\":[{\"marker\":{\"line\":{\"color\":\"#E5ECF6\",\"width\":0.5},\"pattern\":{\"fillmode\":\"overlay\",\"size\":10,\"solidity\":0.2}},\"type\":\"barpolar\"}],\"pie\":[{\"automargin\":true,\"type\":\"pie\"}]},\"layout\":{\"autotypenumbers\":\"strict\",\"colorway\":[\"#636efa\",\"#EF553B\",\"#00cc96\",\"#ab63fa\",\"#FFA15A\",\"#19d3f3\",\"#FF6692\",\"#B6E880\",\"#FF97FF\",\"#FECB52\"],\"font\":{\"color\":\"#2a3f5f\"},\"hovermode\":\"closest\",\"hoverlabel\":{\"align\":\"left\"},\"paper_bgcolor\":\"white\",\"plot_bgcolor\":\"#E5ECF6\",\"polar\":{\"bgcolor\":\"#E5ECF6\",\"angularaxis\":{\"gridcolor\":\"white\",\"linecolor\":\"white\",\"ticks\":\"\"},\"radialaxis\":{\"gridcolor\":\"white\",\"linecolor\":\"white\",\"ticks\":\"\"}},\"ternary\":{\"bgcolor\":\"#E5ECF6\",\"aaxis\":{\"gridcolor\":\"white\",\"linecolor\":\"white\",\"ticks\":\"\"},\"baxis\":{\"gridcolor\":\"white\",\"linecolor\":\"white\",\"ticks\":\"\"},\"caxis\":{\"gridcolor\":\"white\",\"linecolor\":\"white\",\"ticks\":\"\"}},\"coloraxis\":{\"colorbar\":{\"outlinewidth\":0,\"ticks\":\"\"}},\"colorscale\":{\"sequential\":[[0.0,\"#0d0887\"],[0.1111111111111111,\"#46039f\"],[0.2222222222222222,\"#7201a8\"],[0.3333333333333333,\"#9c179e\"],[0.4444444444444444,\"#bd3786\"],[0.5555555555555556,\"#d8576b\"],[0.6666666666666666,\"#ed7953\"],[0.7777777777777778,\"#fb9f3a\"],[0.8888888888888888,\"#fdca26\"],[1.0,\"#f0f921\"]],\"sequentialminus\":[[0.0,\"#0d0887\"],[0.1111111111111111,\"#46039f\"],[0.2222222222222222,\"#7201a8\"],[0.3333333333333333,\"#9c179e\"],[0.4444444444444444,\"#bd3786\"],[0.5555555555555556,\"#d8576b\"],[0.6666666666666666,\"#ed7953\"],[0.7777777777777778,\"#fb9f3a\"],[0.8888888888888888,\"#fdca26\"],[1.0,\"#f0f921\"]],\"diverging\":[[0,\"#8e0152\"],[0.1,\"#c51b7d\"],[0.2,\"#de77ae\"],[0.3,\"#f1b6da\"],[0.4,\"#fde0ef\"],[0.5,\"#f7f7f7\"],[0.6,\"#e6f5d0\"],[0.7,\"#b8e186\"],[0.8,\"#7fbc41\"],[0.9,\"#4d9221\"],[1,\"#276419\"]]},\"xaxis\":{\"gridcolor\":\"white\",\"linecolor\":\"white\",\"ticks\":\"\",\"title\":{\"standoff\":15},\"zerolinecolor\":\"white\",\"automargin\":true,\"zerolinewidth\":2},\"yaxis\":{\"gridcolor\":\"white\",\"linecolor\":\"white\",\"ticks\":\"\",\"title\":{\"standoff\":15},\"zerolinecolor\":\"white\",\"automargin\":true,\"zerolinewidth\":2},\"scene\":{\"xaxis\":{\"backgroundcolor\":\"#E5ECF6\",\"gridcolor\":\"white\",\"linecolor\":\"white\",\"showbackground\":true,\"ticks\":\"\",\"zerolinecolor\":\"white\",\"gridwidth\":2},\"yaxis\":{\"backgroundcolor\":\"#E5ECF6\",\"gridcolor\":\"white\",\"linecolor\":\"white\",\"showbackground\":true,\"ticks\":\"\",\"zerolinecolor\":\"white\",\"gridwidth\":2},\"zaxis\":{\"backgroundcolor\":\"#E5ECF6\",\"gridcolor\":\"white\",\"linecolor\":\"white\",\"showbackground\":true,\"ticks\":\"\",\"zerolinecolor\":\"white\",\"gridwidth\":2}},\"shapedefaults\":{\"line\":{\"color\":\"#2a3f5f\"}},\"annotationdefaults\":{\"arrowcolor\":\"#2a3f5f\",\"arrowhead\":0,\"arrowwidth\":1},\"geo\":{\"bgcolor\":\"white\",\"landcolor\":\"#E5ECF6\",\"subunitcolor\":\"white\",\"showland\":true,\"showlakes\":true,\"lakecolor\":\"white\"},\"title\":{\"x\":0.05},\"mapbox\":{\"style\":\"light\"}}},\"scene\":{\"domain\":{\"x\":[0.0,1.0],\"y\":[0.0,1.0]},\"xaxis\":{\"title\":{\"text\":\"PC 1\"}},\"yaxis\":{\"title\":{\"text\":\"PC 2\"}},\"zaxis\":{\"title\":{\"text\":\"PC 3\"}}},\"coloraxis\":{\"colorbar\":{\"title\":{\"text\":\"Class\"}},\"colorscale\":[[0.0,\"#0d0887\"],[0.1111111111111111,\"#46039f\"],[0.2222222222222222,\"#7201a8\"],[0.3333333333333333,\"#9c179e\"],[0.4444444444444444,\"#bd3786\"],[0.5555555555555556,\"#d8576b\"],[0.6666666666666666,\"#ed7953\"],[0.7777777777777778,\"#fb9f3a\"],[0.8888888888888888,\"#fdca26\"],[1.0,\"#f0f921\"]]},\"legend\":{\"title\":{\"text\":\"Class\"},\"tracegroupgap\":0,\"x\":0,\"y\":1},\"margin\":{\"t\":60}},                        {\"responsive\": true}                    ).then(function(){\n",
       "                            \n",
       "var gd = document.getElementById('18b9212f-066e-44ab-905a-aa5bef706bdf');\n",
       "var x = new MutationObserver(function (mutations, observer) {{\n",
       "        var display = window.getComputedStyle(gd).display;\n",
       "        if (!display || display === 'none') {{\n",
       "            console.log([gd, 'removed!']);\n",
       "            Plotly.purge(gd);\n",
       "            observer.disconnect();\n",
       "        }}\n",
       "}});\n",
       "\n",
       "// Listen for the removal of the full notebook cells\n",
       "var notebookContainer = gd.closest('#notebook-container');\n",
       "if (notebookContainer) {{\n",
       "    x.observe(notebookContainer, {childList: true});\n",
       "}}\n",
       "\n",
       "// Listen for the clearing of the current output cell\n",
       "var outputEl = gd.closest('.output');\n",
       "if (outputEl) {{\n",
       "    x.observe(outputEl, {childList: true});\n",
       "}}\n",
       "\n",
       "                        })                };                });            </script>        </div>"
      ]
     },
     "metadata": {},
     "output_type": "display_data"
    }
   ],
   "source": [
    "# Creating a 3D-Scatter with the PCA data and the clusters\n",
    "figure = px.scatter_3d(\n",
    "    clustered_df,\n",
    "    hover_name=\"CoinName\",\n",
    "    hover_data=[\"Algorithm\"],\n",
    "    x=\"PC 1\",\n",
    "    y=\"PC 2\",\n",
    "    z=\"PC 3\",\n",
    "    color=\"Class\",\n",
    "    symbol=\"Class\"\n",
    ")\n",
    "figure.update_layout(legend=dict(x=0,y=1))\n",
    "figure.show()\n"
   ]
  },
  {
   "cell_type": "code",
   "execution_count": 66,
   "id": "ab477dce",
   "metadata": {},
   "outputs": [
    {
     "data": {},
     "metadata": {},
     "output_type": "display_data"
    },
    {
     "data": {
      "application/vnd.holoviews_exec.v0+json": "",
      "text/html": [
       "<div id='1352'>\n",
       "  <div class=\"bk-root\" id=\"3d62bb36-46fa-43a5-8eaf-638f13fb0136\" data-root-id=\"1352\"></div>\n",
       "</div>\n",
       "<script type=\"application/javascript\">(function(root) {\n",
       "  function embed_document(root) {\n",
       "    var docs_json = {\"3f543e93-820e-413b-8bc6-0d67762b986b\":{\"defs\":[{\"extends\":null,\"module\":null,\"name\":\"ReactiveHTML1\",\"overrides\":[],\"properties\":[]},{\"extends\":null,\"module\":null,\"name\":\"FlexBox1\",\"overrides\":[],\"properties\":[{\"default\":\"flex-start\",\"kind\":null,\"name\":\"align_content\"},{\"default\":\"flex-start\",\"kind\":null,\"name\":\"align_items\"},{\"default\":\"row\",\"kind\":null,\"name\":\"flex_direction\"},{\"default\":\"wrap\",\"kind\":null,\"name\":\"flex_wrap\"},{\"default\":\"flex-start\",\"kind\":null,\"name\":\"justify_content\"}]},{\"extends\":null,\"module\":null,\"name\":\"GridStack1\",\"overrides\":[],\"properties\":[{\"default\":\"warn\",\"kind\":null,\"name\":\"mode\"},{\"default\":null,\"kind\":null,\"name\":\"ncols\"},{\"default\":null,\"kind\":null,\"name\":\"nrows\"},{\"default\":true,\"kind\":null,\"name\":\"allow_resize\"},{\"default\":true,\"kind\":null,\"name\":\"allow_drag\"},{\"default\":[],\"kind\":null,\"name\":\"state\"}]},{\"extends\":null,\"module\":null,\"name\":\"click1\",\"overrides\":[],\"properties\":[{\"default\":\"\",\"kind\":null,\"name\":\"terminal_output\"},{\"default\":\"\",\"kind\":null,\"name\":\"debug_name\"},{\"default\":0,\"kind\":null,\"name\":\"clears\"}]},{\"extends\":null,\"module\":null,\"name\":\"NotificationAreaBase1\",\"overrides\":[],\"properties\":[{\"default\":\"bottom-right\",\"kind\":null,\"name\":\"position\"},{\"default\":0,\"kind\":null,\"name\":\"_clear\"}]},{\"extends\":null,\"module\":null,\"name\":\"NotificationArea1\",\"overrides\":[],\"properties\":[{\"default\":[],\"kind\":null,\"name\":\"notifications\"},{\"default\":\"bottom-right\",\"kind\":null,\"name\":\"position\"},{\"default\":0,\"kind\":null,\"name\":\"_clear\"},{\"default\":[{\"background\":\"#ffc107\",\"icon\":{\"className\":\"fas fa-exclamation-triangle\",\"color\":\"white\",\"tagName\":\"i\"},\"type\":\"warning\"},{\"background\":\"#007bff\",\"icon\":{\"className\":\"fas fa-info-circle\",\"color\":\"white\",\"tagName\":\"i\"},\"type\":\"info\"}],\"kind\":null,\"name\":\"types\"}]},{\"extends\":null,\"module\":null,\"name\":\"Notification\",\"overrides\":[],\"properties\":[{\"default\":null,\"kind\":null,\"name\":\"background\"},{\"default\":3000,\"kind\":null,\"name\":\"duration\"},{\"default\":null,\"kind\":null,\"name\":\"icon\"},{\"default\":\"\",\"kind\":null,\"name\":\"message\"},{\"default\":null,\"kind\":null,\"name\":\"notification_type\"},{\"default\":false,\"kind\":null,\"name\":\"_destroyed\"}]},{\"extends\":null,\"module\":null,\"name\":\"TemplateActions1\",\"overrides\":[],\"properties\":[{\"default\":0,\"kind\":null,\"name\":\"open_modal\"},{\"default\":0,\"kind\":null,\"name\":\"close_modal\"}]},{\"extends\":null,\"module\":null,\"name\":\"MaterialTemplateActions1\",\"overrides\":[],\"properties\":[{\"default\":0,\"kind\":null,\"name\":\"open_modal\"},{\"default\":0,\"kind\":null,\"name\":\"close_modal\"}]}],\"roots\":{\"references\":[{\"attributes\":{},\"id\":\"1377\",\"type\":\"StringEditor\"},{\"attributes\":{\"editor\":{\"id\":\"1377\"},\"field\":\"TotalCoinSupply\",\"formatter\":{\"id\":\"1376\"},\"title\":\"TotalCoinSupply\"},\"id\":\"1378\",\"type\":\"TableColumn\"},{\"attributes\":{\"columns\":[{\"id\":\"1358\"},{\"id\":\"1363\"},{\"id\":\"1368\"},{\"id\":\"1373\"},{\"id\":\"1378\"},{\"id\":\"1383\"},{\"id\":\"1388\"},{\"id\":\"1393\"},{\"id\":\"1398\"}],\"height\":300,\"reorderable\":false,\"source\":{\"id\":\"1354\"},\"view\":{\"id\":\"1403\"},\"width\":700},\"id\":\"1401\",\"type\":\"DataTable\"},{\"attributes\":{\"margin\":[5,5,5,5],\"name\":\"HSpacer01209\",\"sizing_mode\":\"stretch_width\"},\"id\":\"1406\",\"type\":\"Spacer\"},{\"attributes\":{},\"id\":\"1357\",\"type\":\"StringEditor\"},{\"attributes\":{},\"id\":\"1356\",\"type\":\"StringFormatter\"},{\"attributes\":{\"format\":\"0,0.0[00000]\"},\"id\":\"1386\",\"type\":\"NumberFormatter\"},{\"attributes\":{},\"id\":\"1355\",\"type\":\"Selection\"},{\"attributes\":{\"format\":\"0,0.0[00000]\"},\"id\":\"1381\",\"type\":\"NumberFormatter\"},{\"attributes\":{\"editor\":{\"id\":\"1357\"},\"field\":\"CoinName\",\"formatter\":{\"id\":\"1356\"},\"title\":\"CoinName\"},\"id\":\"1358\",\"type\":\"TableColumn\"},{\"attributes\":{},\"id\":\"1382\",\"type\":\"NumberEditor\"},{\"attributes\":{\"editor\":{\"id\":\"1382\"},\"field\":\"PC_1\",\"formatter\":{\"id\":\"1381\"},\"title\":\"PC 1\"},\"id\":\"1383\",\"type\":\"TableColumn\"},{\"attributes\":{},\"id\":\"1361\",\"type\":\"StringFormatter\"},{\"attributes\":{},\"id\":\"1387\",\"type\":\"NumberEditor\"},{\"attributes\":{},\"id\":\"1362\",\"type\":\"StringEditor\"},{\"attributes\":{\"editor\":{\"id\":\"1362\"},\"field\":\"Algorithm\",\"formatter\":{\"id\":\"1361\"},\"title\":\"Algorithm\"},\"id\":\"1363\",\"type\":\"TableColumn\"},{\"attributes\":{},\"id\":\"1404\",\"type\":\"UnionRenderers\"},{\"attributes\":{\"data\":{\"Algorithm\":[\"Scrypt\",\"Scrypt\",\"X13\",\"SHA-256\",\"Ethash\",\"Scrypt\",\"X11\",\"CryptoNight-V7\",\"Ethash\",\"Equihash\",\"SHA-512\",\"Multiple\",\"SHA-256\",\"SHA-256\",\"Scrypt\",\"X15\",\"X11\",\"Scrypt\",\"Scrypt\",\"Scrypt\",\"Multiple\",\"Scrypt\",\"SHA-256\",\"Scrypt\",\"Scrypt\",\"Scrypt\",\"Quark\",\"Groestl\",\"Scrypt\",\"Scrypt\",\"Scrypt\",\"Scrypt\",\"Scrypt\",\"X11\",\"Scrypt\",\"Groestl\",\"Multiple\",\"SHA-256\",\"Scrypt\",\"Scrypt\",\"Scrypt\",\"Scrypt\",\"PoS\",\"Scrypt\",\"Scrypt\",\"NeoScrypt\",\"Scrypt\",\"Scrypt\",\"Scrypt\",\"Scrypt\",\"X11\",\"Scrypt\",\"X11\",\"SHA-256\",\"Scrypt\",\"Scrypt\",\"Scrypt\",\"SHA3\",\"Scrypt\",\"HybridScryptHash256\",\"Scrypt\",\"Scrypt\",\"SHA-256\",\"Scrypt\",\"X13\",\"Scrypt\",\"SHA-256\",\"Scrypt\",\"X13\",\"NeoScrypt\",\"Scrypt\",\"Scrypt\",\"Scrypt\",\"Scrypt\",\"Scrypt\",\"Scrypt\",\"X11\",\"X11\",\"SHA-256\",\"Multiple\",\"SHA-256\",\"PHI1612\",\"X11\",\"SHA-256\",\"SHA-256\",\"SHA-256\",\"X11\",\"Scrypt\",\"Scrypt\",\"Scrypt\",\"Scrypt\",\"Lyra2REv2\",\"Scrypt\",\"X11\",\"Multiple\",\"SHA-256\",\"X13\",\"Scrypt\",\"CryptoNight\",\"CryptoNight\",\"Shabal256\",\"Counterparty\",\"Scrypt\",\"SHA-256\",\"Groestl\",\"Scrypt\",\"Scrypt\",\"Scrypt\",\"X13\",\"Scrypt\",\"Scrypt\",\"Scrypt\",\"Scrypt\",\"X13\",\"Scrypt\",\"Stanford Folding\",\"X11\",\"Multiple\",\"QuBit\",\"Scrypt\",\"Scrypt\",\"Scrypt\",\"M7 POW\",\"Scrypt\",\"SHA-256\",\"Scrypt\",\"X11\",\"SHA3\",\"X11\",\"Lyra2RE\",\"SHA-256\",\"QUAIT\",\"X11\",\"X11\",\"Scrypt\",\"Scrypt\",\"Scrypt\",\"Ethash\",\"X13\",\"Blake2b\",\"SHA-256\",\"X15\",\"X11\",\"SHA-256\",\"BLAKE256\",\"Scrypt\",\"1GB AES Pattern Search\",\"SHA-256\",\"X11\",\"Scrypt\",\"SHA-256\",\"SHA-256\",\"NIST5\",\"Scrypt\",\"Scrypt\",\"X11\",\"Dagger\",\"Scrypt\",\"X11GOST\",\"X11\",\"Scrypt\",\"SHA-256\",\"Scrypt\",\"PoS\",\"Scrypt\",\"X11\",\"X11\",\"SHA-256\",\"SHA-256\",\"NIST5\",\"X11\",\"Scrypt\",\"POS 3.0\",\"Scrypt\",\"Scrypt\",\"Scrypt\",\"X13\",\"X11\",\"X11\",\"Equihash\",\"X11\",\"Scrypt\",\"CryptoNight\",\"SHA-256\",\"SHA-256\",\"X11\",\"Scrypt\",\"Multiple\",\"Scrypt\",\"Scrypt\",\"Scrypt\",\"SHA-256\",\"Scrypt\",\"Scrypt\",\"SHA-256D\",\"PoS\",\"Scrypt\",\"X11\",\"Lyra2Z\",\"PoS\",\"X13\",\"X14\",\"PoS\",\"SHA-256D\",\"Ethash\",\"Equihash\",\"DPoS\",\"X11\",\"Scrypt\",\"X11\",\"X13\",\"X11\",\"PoS\",\"Scrypt\",\"Scrypt\",\"X11\",\"PoS\",\"X11\",\"SHA-256\",\"Scrypt\",\"X11\",\"Scrypt\",\"Scrypt\",\"X11\",\"CryptoNight\",\"Scrypt\",\"Scrypt\",\"Scrypt\",\"Scrypt\",\"Quark\",\"QuBit\",\"Scrypt\",\"CryptoNight\",\"Lyra2RE\",\"Scrypt\",\"SHA-256\",\"X11\",\"Scrypt\",\"X11\",\"Scrypt\",\"CryptoNight-V7\",\"Scrypt\",\"Scrypt\",\"Scrypt\",\"X13\",\"X11\",\"Equihash\",\"Scrypt\",\"Scrypt\",\"Lyra2RE\",\"Scrypt\",\"Dagger-Hashimoto\",\"X11\",\"Blake2S\",\"X11\",\"Scrypt\",\"PoS\",\"X11\",\"NIST5\",\"PoS\",\"X11\",\"Scrypt\",\"Scrypt\",\"Scrypt\",\"SHA-256\",\"X11\",\"Scrypt\",\"Scrypt\",\"SHA-256\",\"PoS\",\"Scrypt\",\"X15\",\"SHA-256\",\"Scrypt\",\"POS 3.0\",\"CryptoNight-V7\",\"536\",\"Argon2d\",\"Blake2b\",\"Cloverhash\",\"CryptoNight\",\"NIST5\",\"X11\",\"NIST5\",\"Skein\",\"Scrypt\",\"X13\",\"Scrypt\",\"X11\",\"X11\",\"Scrypt\",\"CryptoNight\",\"X13\",\"Time Travel\",\"Scrypt\",\"Keccak\",\"SkunkHash v2 Raptor\",\"X11\",\"Skein\",\"SHA-256\",\"X11\",\"Scrypt\",\"VeChainThor Authority\",\"Scrypt\",\"PoS\",\"Scrypt\",\"Scrypt\",\"Scrypt\",\"Scrypt\",\"Scrypt\",\"Scrypt\",\"Scrypt\",\"CryptoNight\",\"SHA-512\",\"Ouroboros\",\"X11\",\"Equihash\",\"NeoScrypt\",\"X11\",\"Scrypt\",\"NeoScrypt\",\"Lyra2REv2\",\"Equihash\",\"Scrypt\",\"SHA-256\",\"NIST5\",\"PHI1612\",\"Dagger\",\"Scrypt\",\"Quark\",\"Scrypt\",\"POS 2.0\",\"Scrypt\",\"SHA-256\",\"X11\",\"NeoScrypt\",\"Ethash\",\"NeoScrypt\",\"X11\",\"DPoS\",\"NIST5\",\"X13\",\"Multiple\",\"Scrypt\",\"CryptoNight\",\"CryptoNight\",\"Ethash\",\"NIST5\",\"Quark\",\"X11\",\"CryptoNight-V7\",\"Scrypt\",\"Scrypt\",\"Scrypt\",\"X11\",\"BLAKE256\",\"X11\",\"NeoScrypt\",\"Quark\",\"NeoScrypt\",\"Scrypt\",\"Scrypt\",\"Scrypt\",\"X11\",\"X11\",\"SHA-256\",\"C11\",\"POS 3.0\",\"Ethash\",\"Scrypt\",\"CryptoNight\",\"SkunkHash\",\"Scrypt\",\"CryptoNight\",\"Scrypt\",\"Dagger\",\"Lyra2REv2\",\"X13\",\"Proof-of-BibleHash\",\"SHA-256 + Hive\",\"Scrypt\",\"Scrypt\",\"X11\",\"C11\",\"Proof-of-Authority\",\"X11\",\"XEVAN\",\"Scrypt\",\"VBFT\",\"Ethash\",\"CryptoNight\",\"Scrypt\",\"IMesh\",\"NIST5\",\"Scrypt\",\"Scrypt\",\"Equihash\",\"Scrypt\",\"Lyra2Z\",\"Green Protocol\",\"PoS\",\"Scrypt\",\"Semux BFT consensus\",\"X11\",\"Quark\",\"PoS\",\"CryptoNight\",\"X16R\",\"Scrypt\",\"NIST5\",\"Lyra2RE\",\"XEVAN\",\"Tribus\",\"Scrypt\",\"Lyra2Z\",\"CryptoNight\",\"CryptoNight Heavy\",\"CryptoNight\",\"Scrypt\",\"Scrypt\",\"Jump Consistent Hash\",\"SHA-256D\",\"CryptoNight\",\"Scrypt\",\"X15\",\"Scrypt\",\"Quark\",\"SHA-256\",\"DPoS\",\"X16R\",\"HMQ1725\",\"X11\",\"X16R\",\"Quark\",\"Quark\",\"Scrypt\",\"Lyra2REv2\",\"Quark\",\"Scrypt\",\"Scrypt\",\"CryptoNight-V7\",\"Cryptonight-GPU\",\"XEVAN\",\"CryptoNight Heavy\",\"X11\",\"X11\",\"Scrypt\",\"PoS\",\"SHA-256\",\"Keccak\",\"X11\",\"X11\",\"Scrypt\",\"SHA-512\",\"X16R\",\"ECC 256K1\",\"Equihash\",\"XEVAN\",\"Lyra2Z\",\"SHA-256\",\"XEVAN\",\"X11\",\"CryptoNight\",\"Quark\",\"Blake\",\"Blake\",\"Equihash\",\"Exosis\",\"Scrypt\",\"Scrypt\",\"Equihash\",\"Quark\",\"Equihash\",\"Quark\",\"Scrypt\",\"QuBit\",\"X11\",\"Scrypt\",\"XEVAN\",\"SHA-256D\",\"X11\",\"SHA-256\",\"X13\",\"SHA-256\",\"X11\",\"DPoS\",\"Scrypt\",\"Scrypt\",\"X11\",\"NeoScrypt\",\"Scrypt\",\"Blake\",\"Scrypt\",\"SHA-256\",\"Scrypt\",\"X11\",\"Scrypt\",\"Scrypt\",\"SHA-256\",\"X11\",\"SHA-256\",\"Scrypt\",\"Scrypt\",\"Scrypt\",\"Groestl\",\"X11\",\"Scrypt\",\"PoS\",\"Scrypt\",\"Scrypt\",\"X11\",\"SHA-256\",\"DPoS\",\"Scrypt\",\"Scrypt\",\"NeoScrypt\",\"SHA3-256\",\"Multiple\",\"X13\",\"Equihash+Scrypt\",\"DPoS\",\"Ethash\",\"DPoS\",\"SHA-256\",\"Leased POS\",\"PoS\",\"TRC10\",\"PoS\",\"SHA-256\",\"Scrypt\",\"CryptoNight\",\"Equihash\",\"Scrypt\"],\"Class\":{\"__ndarray__\":\"AAAAAAAAAAAAAAAAAQAAAAEAAAABAAAAAAAAAAEAAAABAAAAAQAAAAAAAAABAAAAAAAAAAAAAAABAAAAAAAAAAEAAAABAAAAAAAAAAAAAAABAAAAAQAAAAEAAAABAAAAAQAAAAAAAAABAAAAAQAAAAEAAAAAAAAAAQAAAAAAAAABAAAAAQAAAAAAAAAAAAAAAQAAAAEAAAABAAAAAQAAAAEAAAABAAAAAAAAAAAAAAABAAAAAQAAAAEAAAABAAAAAQAAAAAAAAAAAAAAAQAAAAAAAAABAAAAAQAAAAEAAAABAAAAAAAAAAEAAAABAAAAAAAAAAEAAAAAAAAAAAAAAAAAAAABAAAAAQAAAAEAAAAAAAAAAAAAAAAAAAAAAAAAAAAAAAEAAAABAAAAAQAAAAAAAAAAAAAAAQAAAAEAAAABAAAAAAAAAAAAAAABAAAAAQAAAAEAAAABAAAAAAAAAAAAAAABAAAAAAAAAAEAAAABAAAAAAAAAAEAAAABAAAAAAAAAAAAAAABAAAAAQAAAAAAAAAAAAAAAQAAAAAAAAAAAAAAAQAAAAAAAAABAAAAAAAAAAEAAAAAAAAAAQAAAAAAAAAAAAAAAQAAAAEAAAAAAAAAAQAAAAEAAAABAAAAAAAAAAEAAAABAAAAAQAAAAEAAAABAAAAAAAAAAAAAAABAAAAAQAAAAEAAAAAAAAAAQAAAAAAAAABAAAAAQAAAAAAAAABAAAAAAAAAAEAAAAAAAAAAAAAAAEAAAABAAAAAAAAAAEAAAABAAAAAAAAAAAAAAABAAAAAAAAAAEAAAAAAAAAAAAAAAAAAAABAAAAAQAAAAEAAAABAAAAAAAAAAAAAAAAAAAAAAAAAAAAAAABAAAAAQAAAAAAAAAAAAAAAAAAAAAAAAAAAAAAAQAAAAAAAAAAAAAAAAAAAAAAAAAAAAAAAQAAAAAAAAABAAAAAAAAAAAAAAABAAAAAAAAAAEAAAAAAAAAAAAAAAEAAAAAAAAAAQAAAAAAAAABAAAAAAAAAAEAAAAAAAAAAAAAAAAAAAAAAAAAAQAAAAAAAAAAAAAAAAAAAAAAAAAAAAAAAQAAAAEAAAAAAAAAAAAAAAEAAAABAAAAAAAAAAAAAAAAAAAAAAAAAAAAAAABAAAAAAAAAAAAAAAAAAAAAAAAAAAAAAAAAAAAAAAAAAAAAAABAAAAAAAAAAAAAAAAAAAAAAAAAAAAAAAAAAAAAQAAAAEAAAABAAAAAAAAAAAAAAAAAAAAAAAAAAEAAAAAAAAAAQAAAAAAAAAAAAAAAQAAAAAAAAABAAAAAQAAAAAAAAABAAAAAQAAAAAAAAABAAAAAAAAAAAAAAAAAAAAAQAAAAAAAAAAAAAAAQAAAAAAAAAAAAAAAAAAAAAAAAAAAAAAAAAAAAAAAAABAAAAAAAAAAEAAAAAAAAAAAAAAAAAAAAAAAAAAQAAAAAAAAABAAAAAAAAAAEAAAABAAAAAQAAAAEAAAAAAAAAAQAAAAAAAAAAAAAAAQAAAAAAAAABAAAAAQAAAAEAAAAAAAAAAQAAAAAAAAABAAAAAQAAAAEAAAAAAAAAAQAAAAAAAAABAAAAAAAAAAAAAAAAAAAAAQAAAAAAAAABAAAAAQAAAAEAAAABAAAAAQAAAAAAAAAAAAAAAQAAAAAAAAAAAAAAAAAAAAEAAAAAAAAAAQAAAAAAAAABAAAAAAAAAAEAAAAAAAAAAAAAAAAAAAAAAAAAAQAAAAAAAAAAAAAAAQAAAAAAAAAAAAAAAAAAAAEAAAABAAAAAQAAAAEAAAAAAAAAAAAAAAAAAAAAAAAAAQAAAAAAAAABAAAAAQAAAAEAAAAAAAAAAAAAAAEAAAABAAAAAAAAAAAAAAABAAAAAAAAAAEAAAABAAAAAQAAAAAAAAABAAAAAQAAAAAAAAAAAAAAAAAAAAEAAAABAAAAAQAAAAAAAAABAAAAAAAAAAEAAAABAAAAAAAAAAEAAAABAAAAAQAAAAEAAAAAAAAAAwAAAAMAAAABAAAAAQAAAAEAAAAAAAAAAwAAAAAAAAAAAAAAAAAAAAAAAAABAAAAAQAAAAEAAAABAAAAAAAAAAAAAAAAAAAAAQAAAAAAAAABAAAAAAAAAAAAAAAAAAAAAAAAAAEAAAAAAAAAAAAAAAEAAAAAAAAAAAAAAAEAAAABAAAAAAAAAAEAAAAAAAAAAQAAAAEAAAABAAAAAQAAAAAAAAAAAAAAAQAAAAAAAAABAAAAAAAAAAAAAAAAAAAAAAAAAAAAAAAAAAAAAQAAAAEAAAABAAAAAAAAAAAAAAAAAAAAAAAAAAAAAAAAAAAAAQAAAAAAAAABAAAAAQAAAAEAAAABAAAAAAAAAAAAAAAAAAAAAAAAAAEAAAAAAAAAAAAAAAEAAAAAAAAAAAAAAAEAAAADAAAAAQAAAAAAAAABAAAAAQAAAAAAAAAAAAAAAQAAAAAAAAABAAAAAQAAAAEAAAABAAAAAQAAAAAAAAABAAAAAAAAAAEAAAAAAAAAAAAAAAEAAAAAAAAAAAAAAAAAAAAAAAAAAAAAAAEAAAABAAAAAQAAAAAAAAAAAAAAAAAAAAEAAAAAAAAAAQAAAAAAAAABAAAAAAAAAAAAAAAAAAAAAAAAAAEAAAAAAAAAAAAAAAAAAAABAAAAAAAAAAEAAAAAAAAAAQAAAAAAAAAAAAAAAAAAAAEAAAABAAAAAAAAAAAAAAAAAAAAAAAAAAAAAAAAAAAAAwAAAAEAAAAAAAAAAQAAAAAAAAABAAAAAAAAAAAAAAADAAAAAAAAAAIAAAAAAAAAAAAAAAAAAAABAAAAAQAAAAAAAAA=\",\"dtype\":\"int32\",\"order\":\"little\",\"shape\":[533]},\"CoinName\":[\"42 Coin\",\"404Coin\",\"EliteCoin\",\"Bitcoin\",\"Ethereum\",\"Litecoin\",\"Dash\",\"Monero\",\"Ethereum Classic\",\"ZCash\",\"Bitshares\",\"DigiByte\",\"BitcoinDark\",\"PayCoin\",\"ProsperCoin\",\"KoboCoin\",\"Spreadcoin\",\"Argentum\",\"Aurora Coin\",\"BlueCoin\",\"MyriadCoin\",\"MoonCoin\",\"ZetaCoin\",\"SexCoin\",\"Quatloo\",\"EnergyCoin\",\"QuarkCoin\",\"Riecoin\",\"Digitalcoin \",\"BitBar\",\"Catcoin\",\"CryptoBullion\",\"CannaCoin\",\"CryptCoin\",\"CasinoCoin\",\"Diamond\",\"Verge\",\"DevCoin\",\"EarthCoin\",\"E-Gulden\",\"Einsteinium\",\"Emerald\",\"Exclusive Coin\",\"FlutterCoin\",\"Franko\",\"FeatherCoin\",\"GrandCoin\",\"GlobalCoin\",\"GoldCoin\",\"HoboNickels\",\"HyperStake\",\"Infinite Coin\",\"IOCoin\",\"IXcoin\",\"KrugerCoin\",\"LuckyCoin\",\"Litebar \",\"MaxCoin\",\"MegaCoin\",\"MediterraneanCoin\",\"MintCoin\",\"MinCoin\",\"MazaCoin\",\"Nautilus Coin\",\"NavCoin\",\"NobleCoin\",\"Namecoin\",\"NyanCoin\",\"OpalCoin\",\"Orbitcoin\",\"PotCoin\",\"PhoenixCoin\",\"Reddcoin\",\"RonPaulCoin\",\"StableCoin\",\"SmartCoin\",\"SuperCoin\",\"SyncCoin\",\"SysCoin\",\"TeslaCoin\",\"TigerCoin\",\"TittieCoin\",\"TorCoin\",\"TerraCoin\",\"UnbreakableCoin\",\"Unobtanium\",\"UroCoin\",\"UnitaryStatus Dollar\",\"UltraCoin\",\"ViaCoin\",\"VeriCoin\",\"Vertcoin\",\"WorldCoin\",\"X11 Coin\",\"Crypti\",\"JouleCoin\",\"StealthCoin\",\"ZCC Coin\",\"ByteCoin\",\"DigitalNote \",\"BurstCoin\",\"StorjCoin\",\"MonaCoin\",\"Neutron\",\"FairCoin\",\"Gulden\",\"RubyCoin\",\"PesetaCoin\",\"Kore\",\"Wild Beast Coin\",\"Dnotes\",\"Flo\",\"8BIT Coin\",\"Sativa Coin\",\"ArtByte\",\"Folding Coin\",\"Ucoin\",\"Unitus\",\"CypherPunkCoin\",\"OmniCron\",\"Vtorrent\",\"GreenCoin\",\"Cryptonite\",\"MasterCoin\",\"SoonCoin\",\"1Credit\",\"IslaCoin\",\"Nexus\",\"MarsCoin \",\"Crypto\",\"Anarchists Prime\",\"Droidz\",\"BowsCoin\",\"Squall Coin\",\"Song Coin\",\"BitZeny\",\"Diggits\",\"Expanse\",\"Paycon\",\"Siacoin\",\"Emercoin\",\"EverGreenCoin\",\"MindCoin\",\"I0coin\",\"Decred\",\"Revolution VR\",\"HOdlcoin\",\"EDRCoin\",\"Hitcoin\",\"Gamecredits\",\"DubaiCoin\",\"CarpeDiemCoin\",\"PWR Coin\",\"BillaryCoin\",\"GPU Coin\",\"Adzcoin\",\"SoilCoin\",\"YoCoin\",\"SibCoin\",\"EuropeCoin\",\"ZeitCoin\",\"SwingCoin\",\"SafeExchangeCoin\",\"Nebuchadnezzar\",\"Francs\",\"BolivarCoin\",\"Ratecoin\",\"Revenu\",\"Clockcoin\",\"VIP Tokens\",\"BitSend\",\"Omni\",\"Let it Ride\",\"PutinCoin\",\"iBankCoin\",\"Frankywillcoin\",\"MudraCoin\",\"PizzaCoin\",\"Lutetium Coin\",\"Komodo\",\"GoldBlocks\",\"CarterCoin\",\"Karbo\",\"BitTokens\",\"ZayedCoin\",\"MustangCoin\",\"ZoneCoin\",\"Circuits of Value\",\"RootCoin\",\"DopeCoin\",\"BitCurrency\",\"DollarCoin\",\"Swiscoin\",\"Shilling\",\"BuzzCoin\",\"Opair\",\"PesoBit\",\"Halloween Coin\",\"ZCoin\",\"CoffeeCoin\",\"RoyalCoin\",\"GanjaCoin V2\",\"TeamUP\",\"LanaCoin\",\"Elementrem\",\"ZClassic\",\"ARK\",\"InsaneCoin\",\"KiloCoin\",\"ArtexCoin\",\"EmberCoin\",\"XenixCoin\",\"FreeCoin\",\"PLNCoin\",\"AquariusCoin\",\"Kurrent\",\"Creatio\",\"Eternity\",\"Eurocoin\",\"BitcoinFast\",\"Stakenet\",\"BitConnect Coin\",\"MoneyCoin\",\"Enigma\",\"Cannabis Industry Coin\",\"Russiacoin\",\"PandaCoin\",\"GameUnits\",\"GAKHcoin\",\"Allsafe\",\"LiteCreed\",\"OsmiumCoin\",\"Bikercoins\",\"HexxCoin\",\"Klingon Empire Darsek\",\"Internet of People\",\"KushCoin\",\"Printerium\",\"PacCoin\",\"Impeach\",\"Citadel\",\"Zilbercoin\",\"FirstCoin\",\"BeaverCoin\",\"FindCoin\",\"VaultCoin\",\"Zero\",\"OpenChat\",\"Canada eCoin\",\"Zoin\",\"RenosCoin\",\"DubaiCoin\",\"VirtacoinPlus\",\"TajCoin\",\"Impact\",\"EB3coin\",\"Atmos\",\"HappyCoin\",\"Coinonat\",\"MacronCoin\",\"Condensate\",\"Independent Money System\",\"ArgusCoin\",\"LomoCoin\",\"ProCurrency\",\"GoldReserve\",\"BenjiRolls\",\"GrowthCoin\",\"ILCoin\",\"Phreak\",\"Degas Coin\",\"HTML5 Coin\",\"Ultimate Secure Cash\",\"EquiTrader\",\"QTUM\",\"Quantum Resistant Ledger\",\"Espers\",\"Dynamic\",\"Nano\",\"ChanCoin\",\"Dinastycoin\",\"Denarius\",\"DigitalPrice\",\"Virta Unique Coin\",\"Bitcoin Planet\",\"Unify\",\"BritCoin\",\"SocialCoin\",\"ArcticCoin\",\"DAS\",\"Linda\",\"LeviarCoin\",\"DeepOnion\",\"Bitcore\",\"gCn Coin\",\"SmartCash\",\"Signatum\",\"Onix\",\"Cream\",\"Bitcoin Cash\",\"Monoeci\",\"Draftcoin\",\"Vechain\",\"Sojourn Coin\",\"Stakecoin\",\"NewYorkCoin\",\"FrazCoin\",\"Kronecoin\",\"AdCoin\",\"Linx\",\"CoinonatX\",\"Ethereum Dark\",\"Sumokoin\",\"Obsidian\",\"Cardano\",\"Regalcoin\",\"BitcoinZ\",\"TrezarCoin\",\"Elements\",\"TerraNovaCoin\",\"VIVO Coin\",\"Rupee\",\"Bitcoin Gold\",\"WomenCoin\",\"Theresa May Coin\",\"NamoCoin\",\"LUXCoin\",\"Pirl\",\"Xios\",\"Bitcloud 2.0\",\"eBoost\",\"KekCoin\",\"BlackholeCoin\",\"Infinity Economics\",\"Pura\",\"Innova\",\"Ellaism\",\"GoByte\",\"Magnet\",\"Lamden Tau\",\"Electra\",\"Bitcoin Diamond\",\"SHIELD\",\"Cash & Back Coin\",\"UltraNote\",\"BitCoal\",\"DaxxCoin\",\"Bulwark\",\"Kalkulus\",\"AC3\",\"Lethean\",\"GermanCoin\",\"LiteCoin Ultra\",\"PopularCoin\",\"PhantomX\",\"Photon\",\"Sucre\",\"SparksPay\",\"Digiwage\",\"GunCoin\",\"IrishCoin\",\"Trollcoin\",\"Litecoin Plus\",\"Monkey Project\",\"Pioneer Coin\",\"UnitedBitcoin\",\"Interzone\",\"TokenPay\",\"1717 Masonic Commemorative Token\",\"My Big Coin\",\"TurtleCoin\",\"MUNcoin\",\"Unified Society USDEX\",\"Niobio Cash\",\"ShareChain\",\"Travelflex\",\"KREDS\",\"Tokyo Coin\",\"BiblePay\",\"LitecoinCash\",\"BitFlip\",\"LottoCoin\",\"Crypto Improvement Fund\",\"Stipend\",\"Poa Network\",\"Pushi\",\"Ellerium\",\"Velox\",\"Ontology\",\"Callisto Network\",\"BitTube\",\"Poseidon\",\"Aidos Kuneen\",\"Bitspace\",\"Briacoin\",\"Ignition\",\"Bitrolium\",\"MedicCoin\",\"Alpenschillling\",\"Bitcoin Green\",\"Deviant Coin\",\"Abjcoin\",\"Semux\",\"FuturoCoin\",\"Carebit\",\"Zealium\",\"Monero Classic\",\"Proton\",\"iDealCash\",\"Jumpcoin\",\"Infinex\",\"Bitcoin Incognito\",\"KEYCO\",\"HollyWoodCoin\",\"GINcoin\",\"PlatinCoin\",\"Loki\",\"Newton Coin\",\"Swisscoin\",\"Xt3ch\",\"MassGrid\",\"TheVig\",\"PluraCoin\",\"EmaratCoin\",\"Dekado\",\"Lynx\",\"Poseidon Quark\",\"BitcoinWSpectrum\",\"Muse\",\"Motion\",\"PlusOneCoin\",\"Axe\",\"Trivechain\",\"Dystem\",\"Giant\",\"Peony Coin\",\"Absolute Coin\",\"Vitae\",\"HexCoin\",\"TPCash\",\"Webchain\",\"Ryo\",\"Urals Coin\",\"Qwertycoin\",\"ARENON\",\"EUNO\",\"MMOCoin\",\"Ketan\",\"Project Pai\",\"XDNA\",\"PAXEX\",\"Azart\",\"ThunderStake\",\"Kcash\",\"Xchange\",\"Acute Angle Cloud\",\"CrypticCoin\",\"Bettex coin\",\"Actinium\",\"Bitcoin SV\",\"BitMoney\",\"Junson Ming Chan Coin\",\"FREDEnergy\",\"HerbCoin\",\"Universal Molecule\",\"Lithium\",\"PirateCash\",\"Exosis\",\"Block-Logic\",\"Oduwa\",\"Beam\",\"Galilel\",\"Bithereum\",\"Crypto Sports\",\"Credit\",\"SLICE\",\"Dash Platinum\",\"Nasdacoin\",\"Beetle Coin\",\"Titan Coin\",\"Award\",\"BLAST\",\"Bitcoin Rhodium\",\"GlobalToken\",\"Insane Coin\",\"ALAX\",\"LiteDoge\",\"SolarCoin\",\"TruckCoin\",\"UFO Coin\",\"OrangeCoin\",\"BlakeCoin\",\"BitstarCoin\",\"NeosCoin\",\"HyperCoin\",\"PinkCoin\",\"Crypto Escudo\",\"AudioCoin\",\"IncaKoin\",\"Piggy Coin\",\"Crown Coin\",\"Genstake\",\"SmileyCoin\",\"XiaoMiCoin\",\"Groestlcoin\",\"CapriCoin\",\" ClubCoin\",\"Radium\",\"Bata\",\"Pakcoin\",\"Creditbit \",\"OKCash\",\"Lisk\",\"HiCoin\",\"WhiteCoin\",\"FriendshipCoin\",\"Fiii\",\"JoinCoin\",\"Triangles Coin\",\"Vollar\",\"EOS\",\"Reality Clash\",\"Oxycoin\",\"TigerCash\",\"Waves\",\"Particl\",\"BitTorrent\",\"Nxt\",\"ZEPHYR\",\"Gapcoin\",\"Beldex\",\"Horizen\",\"BitcoinPlus\"],\"PC_1\":{\"__ndarray__\":\"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\",\"dtype\":\"float64\",\"order\":\"little\",\"shape\":[533]},\"PC_2\":{\"__ndarray__\":\"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\",\"dtype\":\"float64\",\"order\":\"little\",\"shape\":[533]},\"PC_3\":{\"__ndarray__\":\"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\",\"dtype\":\"float64\",\"order\":\"little\",\"shape\":[533]},\"ProofType\":[\"PoW/PoS\",\"PoW/PoS\",\"PoW/PoS\",\"PoW\",\"PoW\",\"PoW\",\"PoW/PoS\",\"PoW\",\"PoW\",\"PoW\",\"PoS\",\"PoW\",\"PoW/PoS\",\"PoS\",\"PoW\",\"PoW/PoS\",\"PoW\",\"PoW\",\"PoW/PoS\",\"PoW/PoS\",\"PoW\",\"PoW\",\"PoW\",\"PoW\",\"PoW\",\"PoW/PoS\",\"PoW\",\"PoW\",\"PoW\",\"PoW/PoS\",\"PoW\",\"PoW/PoS\",\"PoW\",\"PoW\",\"PoC\",\"PoW/PoS\",\"PoW\",\"PoW\",\"PoW\",\"PoW\",\"PoW\",\"PoW\",\"PoS\",\"PoS/PoW/PoT\",\"PoW\",\"PoW\",\"PoW\",\"PoW\",\"PoW\",\"PoW/PoS\",\"PoS\",\"PoW\",\"PoW/PoS\",\"PoW\",\"PoW\",\"PoW\",\"PoW\",\"PoW/PoS\",\"PoW\",\"PoW\",\"PoS\",\"PoW\",\"PoW/PoS\",\"PoS\",\"PoW/PoS\",\"PoW\",\"PoW\",\"PoW\",\"PoW/PoS\",\"PoW/PoS\",\"PoW/PoS\",\"PoW/PoS\",\"PoW/PoS\",\"PoW\",\"PoW\",\"PoW\",\"PoS\",\"PoW/PoS\",\"PoW\",\"PoS\",\"PoW\",\"PoS\",\"PoW/PoS\",\"PoW\",\"PoW\",\"PoW\",\"PoW\",\"PoW/PoS\",\"PoW/PoS\",\"PoW\",\"PoST\",\"PoW\",\"PoW\",\"PoW/PoS\",\"PoS\",\"PoW\",\"PoW/PoS\",\"PoW/PoS\",\"PoW\",\"PoW\",\"PoC\",\"PoS\",\"PoW\",\"PoW/PoS\",\"PoW/PoS\",\"PoW\",\"PoS\",\"PoW\",\"PoW/PoS\",\"PoW\",\"PoS\",\"PoW\",\"PoW/PoS\",\"PoW/PoS\",\"PoW\",\"PoW\",\"PoS\",\"PoW\",\"PoW\",\"PoW\",\"PoW/PoS\",\"PoW\",\"PoW\",\"PoW\",\"PoW\",\"PoW\",\"PoW/PoS\",\"PoW/nPoS\",\"PoW\",\"PoW\",\"PoW\",\"PoW/PoS\",\"PoW\",\"PoS/PoW\",\"PoW\",\"PoW\",\"PoS\",\"PoW\",\"PoW/PoS\",\"PoW\",\"PoW/PoS\",\"PoW/PoS\",\"PoW\",\"PoW\",\"PoW/PoS\",\"PoW\",\"PoW\",\"PoW/PoS\",\"PoW/PoS\",\"PoW\",\"PoW/PoS\",\"PoW\",\"PoW/PoS\",\"PoW/PoS\",\"PoS\",\"PoW\",\"PoW\",\"PoW\",\"PoW\",\"PoW/PoS\",\"PoS\",\"PoW/PoS\",\"PoC\",\"PoS\",\"PoW\",\"PoW\",\"PoW/PoS\",\"PoW/PoS\",\"PoW/PoS\",\"PoW/PoS\",\"PoW/PoS\",\"PoW\",\"PoS\",\"PoW/PoS\",\"PoW/PoS\",\"PoW/PoS\",\"PoS\",\"PoW\",\"PoS\",\"dPoW/PoW\",\"PoW/PoS\",\"PoW/PoS\",\"PoW\",\"PoW/PoS\",\"PoW\",\"PoW/PoS\",\"PoW/PoS\",\"PoW\",\"PoW/PoS\",\"PoW\",\"PoS\",\"PoW\",\"PoW/PoW\",\"PoW\",\"PoW/PoS\",\"PoS\",\"PoW/PoS\",\"PoW/PoS\",\"PoW\",\"PoS\",\"PoS\",\"PoW/PoS\",\"PoS\",\"PoW/PoS\",\"PoW\",\"PoW\",\"DPoS\",\"PoW/PoS\",\"PoW\",\"PoW\",\"PoW/PoS\",\"PoW/PoS\",\"PoS\",\"PoW/PoS\",\"PoW/PoS\",\"PoW\",\"PoS\",\"PoW/PoS\",\"PoW/PoS\",\"PoW/PoS\",\"TPoS\",\"PoW/PoS\",\"PoW/PoS\",\"PoW/PoS\",\"PoW\",\"PoW/PoS\",\"PoS\",\"PoW/PoS\",\"PoW/PoS\",\"PoS\",\"PoW/PoS\",\"PoW\",\"PoW\",\"PoW\",\"PoW/PoS\",\"PoW/PoS\",\"PoW/PoS\",\"PoW/PoS\",\"PoW\",\"PoW/PoS\",\"PoW\",\"PoS\",\"PoW/PoS \",\"PoW\",\"PoS\",\"PoW\",\"PoW\",\"PoW/PoS\",\"PoW\",\"PoW\",\"PoS\",\"PoW\",\"PoW/PoS\",\"PoW/PoS\",\"PoW/PoS\",\"PoW\",\"PoS\",\"PoW/PoS\",\"PoW\",\"PoS\",\"PoW/PoS\",\"PoW/PoS\",\"PoW/PoS\",\"PoW/PoS\",\"PoS\",\"PoW/PoS\",\"PoW\",\"PoS\",\"PoW\",\"PoS\",\"PoW/PoS\",\"PoW/PoS\",\"PoS\",\"PoW\",\"PoS\",\"PoW\",\"PoW/PoS\",\"PoW\",\"PoW\",\"PoW\",\"PoW\",\"PoW/PoS\",\"PoW\",\"PoW/PoS\",\"PoW/PoS\",\"PoW\",\"PoW/PoS\",\"PoW\",\"PoW\",\"PoW\",\"PoW/PoS\",\"PoW\",\"PoW/PoS\",\"PoW\",\"PoW\",\"PoW\",\"PoS\",\"PoW\",\"PoW/PoS\",\"PoW\",\"PoW/PoS\",\"PoS\",\"Proof of Authority\",\"PoW\",\"PoS\",\"PoW\",\"PoW\",\"PoW\",\"PoW\",\"PoW\",\"PoW/PoS\",\"PoW/PoS\",\"PoW\",\"PoS\",\"PoS\",\"PoW/PoS\",\"PoW\",\"PoW/PoS\",\"PoW\",\"PoW/PoS\",\"PoW\",\"PoS\",\"PoW\",\"PoW/PoS\",\"PoW/PoS\",\"PoW/PoS\",\"PoW/PoS\",\"PoW\",\"PoW/PoS\",\"PoW/PoS\",\"PoW\",\"PoS\",\"PoW/PoS\",\"PoS\",\"PoW\",\"PoW\",\"PoW\",\"PoW\",\"PoW/PoS\",\"DPoS\",\"PoW/PoS\",\"PoW/PoS\",\"PoW\",\"PoW/PoS\",\"PoW\",\"PoW\",\"PoW\",\"PoS\",\"PoS\",\"PoW\",\"PoW\",\"PoW/PoS\",\"PoW/PoS\",\"PoW\",\"PoW/PoS\",\"PoW\",\"PoW\",\"PoW\",\"PoS\",\"PoW\",\"PoW\",\"PoW/PoS\",\"PoW/PoS\",\"PoS\",\"PoW\",\"PoW\",\"PoW\",\"PoS\",\"PoS\",\"PoW and PoS\",\"PoW\",\"PoW\",\"PoW/PoS\",\"PoW\",\"PoW\",\"PoW\",\"PoW\",\"PoS\",\"POBh\",\"PoW + Hive\",\"PoW\",\"PoW\",\"PoW\",\"PoW/PoS\",\"PoA\",\"PoW/PoS\",\"PoW/PoS\",\"PoS\",\"PoS\",\"PoW\",\"PoW\",\"PoW\",\"PoW\",\"PoW/PoS\",\"PoW/PoS\",\"PoW/PoS\",\"PoW\",\"PoS\",\"PoW\",\"PoS\",\"PoS\",\"PoW/PoS\",\"DPoS\",\"PoW\",\"PoW/PoS\",\"PoS\",\"PoW\",\"PoS\",\"PoW/PoS\",\"PoW\",\"PoW\",\"PoS/PoW\",\"PoW\",\"PoS\",\"PoW\",\"PoW\",\"PoW\",\"PoW\",\"PoW/PoS\",\"PoS\",\"PoW\",\"PoW/PoS\",\"PoW\",\"PoW/PoS\",\"PoS\",\"HPoW\",\"PoS\",\"PoS\",\"PoS\",\"PoW\",\"PoW\",\"PoW\",\"PoW/PoS\",\"PoS\",\"PoW/PoS\",\"PoS\",\"PoW/PoS\",\"PoS\",\"PoW\",\"PoW/PoS\",\"PoW\",\"PoW\",\"PoW\",\"PoW\",\"PoS\",\"PoW/PoS\",\"PoS\",\"PoS\",\"PoW\",\"PoW/PoS\",\"PoS\",\"PoW\",\"PoW/PoS\",\"Zero-Knowledge Proof\",\"PoW\",\"DPOS\",\"PoW\",\"PoS\",\"PoW\",\"PoW\",\"Pos\",\"PoS\",\"PoW\",\"PoW/PoS\",\"PoW\",\"PoW\",\"PoS\",\"PoW\",\"PoW\",\"PoW/PoS\",\"PoW\",\"PoW/PoS\",\"PoW\",\"PoS\",\"PoW/PoS\",\"PoW\",\"PoS\",\"PoW/PoS\",\"PoW/PoS\",\"PoW/PoS\",\"PoW/PoS\",\"PoW\",\"PoW\",\"PoW\",\"PoW/PoS\",\"DPoS\",\"PoW/PoS\",\"PoW\",\"PoW/PoS\",\"PoW\",\"PoW/PoS\",\"PoW\",\"PoW/PoS\",\"PoS\",\"PoW/PoS\",\"PoW/PoS\",\"PoW\",\"PoW/PoS\",\"PoW/PoS\",\"PoW/PoS\",\"PoW\",\"PoW/PoS\",\"PoW\",\"PoW/PoS\",\"PoW\",\"PoW/PoS\",\"PoW/PoS\",\"PoS\",\"PoW\",\"PoW\",\"Proof of Trust\",\"PoW/PoS\",\"DPoS\",\"PoS\",\"PoW/PoS\",\"PoW/PoS\",\"DPoC\",\"PoW\",\"PoW/PoS\",\"PoW\",\"DPoS\",\"PoW\",\"DPoS\",\"PoS\",\"LPoS\",\"PoS\",\"DPoS\",\"PoS/LPoS\",\"DPoS\",\"PoW/PoS\",\"PoW\",\"PoW\",\"PoS\"],\"TotalCoinSupply\":[\"42\",\"532000000\",\"314159265359\",\"21000000\",\"0\",\"84000000\",\"22000000\",\"0\",\"210000000\",\"21000000\",\"3600570502\",\"21000000000\",\"22000000\",\"12500000\",\"21000000\",\"350000000\",\"20000000\",\"64000000\",\"16768584\",\"0\",\"2000000000\",\"384000000000\",\"169795588\",\"250000000\",\"100000000\",\"0\",\"247000000\",\"84000000\",\"48166000\",\"500000\",\"21000000 \",\"1000000\",\"13140000\",\"18000000\",\"40000000000\",\"4380000\",\"16555000000\",\"21000000000\",\"13500000000\",\"21000000 \",\"299792458\",\"32000000\",\"0\",\"0\",\"11235813\",\"336000000\",\"1420609614\",\"70000000\",\"72245700\",\"120000000\",\"0\",\"90600000000\",\"22000000\",\"21000000\",\"265420800\",\"20000000\",\"1350000\",\"100000000\",\"42000000\",\"200000000\",\"0\",\"10000000\",\"2419200000\",\"16180000\",\"0\",\"15000000000\",\"21000000\",\"337000000\",\"0\",\"3770000\",\"420000000\",\"98000000\",\"0\",\"21000000\",\"250000000\",\"51200000\",\"0\",\"1000\",\"888000000\",\"100000000\",\"47011968\",\"2300000000\",\"10000000\",\"42000000\",\"80000000\",\"250000\",\"0\",\"1600000000\",\"100000000\",\"23000000\",\"0\",\"84000000\",\"265420800\",\"5500000\",\"0\",\"45000000\",\"0\",\"1000000000\",\"184467440735\",\"10000000000\",\"2158812800\",\"500000000\",\"105120000\",\"68000000\",\"0\",\"1680000000\",\"0\",\"166386000\",\"12000000\",\"2628000\",\"500000000\",\"160000000\",\"0\",\"10000000\",\"1000000000\",\"1000000000\",\"20000000\",\"0\",\"0\",\"3371337\",\"20000000\",\"10000000000\",\"1840000000\",\"619478\",\"21000000\",\"92000000000\",\"0\",\"78000000\",\"33000000\",\"65789100\",\"53760000\",\"5060000\",\"21000000\",\"0\",\"210240000\",\"250000000\",\"100000000\",\"16906397\",\"50000000\",\"0\",\"1000000000\",\"26298000\",\"16000000\",\"21000000\",\"21000000\",\"210000000\",\"81962100\",\"22000000\",\"26550000000\",\"84000000\",\"10500000\",\"21626280000 \",\"0\",\"42000000\",\"221052632\",\"84000000\",\"30000000\",\"168351300\",\"24000000\",\"384000000\",\" 99000000000\",\"40000000\",\"2147483647\",\"20000000\",\"20000000\",\"25000000\",\"75000000\",\"222725000\",\"525000000\",\"90000000\",\"139000000\",\"616448\",\"33500000\",\"2000000000\",\"44333333\",\"100000000\",\"200000000\",\"25000000\",\"657000000\",\"200000000\",\"50000000\",\"90000000\",\"10000000\",\"21000000\",\"9736000\",\"3000000\",\"21000000\",\"1200000000\",\"0\",\"200000000\",\"0\",\"10638298\",\"3100000000\",\"30000000\",\"20000000000\",\"74000000\",\"0\",\"1500000000\",\"21400000\",\"39999898\",\"2500124\",\"100000000\",\"301000000\",\"7506000000\",\"26205539\",\"21000000\",\"125000000\",\"30000000\",\"10000000000\",\"500000000\",\"850000000\",\"3853326.77707314\",\"50000000\",\"38540000 \",\"42000000\",\"228000000\",\"20000000\",\"60000000\",\"20000000\",\"33000000\",\"76500000\",\"28000000\",\"650659833\",\"5000000\",\"21000000\",\"144000000\",\"32514916898\",\"13000000\",\"3315789\",\"15000000\",\"78835200\",\"2714286\",\"25000000\",\"9999999\",\"500000000\",\"21000000\",\"9354000\",\"20000000\",\"100000000000\",\"21933333\",\"185000000\",\"55000000\",\"110000000\",\"3360000\",\"14524851.4827\",\"1000000000\",\"17000000\",\"1000000000\",\"100000000 \",\"21000000\",\"34426423\",\"2232901\",\"100000000\",\"36900000\",\"110000000\",\"4000000000\",\"110290030\",\"100000000\",\"48252000\",\"400000000\",\"500000000\",\"21212121\",\"28600000\",\"1000000000\",\"75000000000\",\"40000000\",\"35520400\",\"2000000000\",\"2500000000\",\"30000000\",\"105000000\",\"90000000000\",\"200084200\",\"72000000\",\"100000000\",\"105000000\",\"50000000000\",\"0\",\"340282367\",\"30000000\",\"2000000000\",\"10000000\",\"100000000\",\"120000000\",\"100000000\",\"19276800\",\"30000000\",\" 75000000\",\"60000000\",\"18900000\",\"50000000000\",\"54000000\",\"18898187.6216583\",\"21000000\",\"200000000000\",\"5000000000\",\"137500000\",\"1100000000\",\"100000000\",\"21000000\",\"9507271\",\"17405891.19707116\",\"86712634466\",\"10500000000\",\"61599965\",\"0\",\"20000000\",\"84000000\",\"100000000\",\"100000000\",\"48252000\",\"4200000\",\"88888888\",\"91388946\",\"45000000000\",\"27000000\",\"21000000000\",\"400000000\",\"1800000000\",\"15733333\",\"27000000\",\"24000000\",\"21000000\",\"25000000000\",\"100000000\",\"1200000000\",\"60000000\",\"156306732.71\",\"21000000\",\"200000000\",\"100000000\",\"21000000\",\"14788275.991\",\"9000000000\",\"350000000\",\"45000000\",\"280000000\",\"31800000\",\"144000000\",\"500000000\",\"30000000000\",\"210000000\",\"660000000\",\"210000000\",\"85000000000\",\"12500000\",\"10000000000\",\"27716121\",\"20000000\",\"550000000\",\"999481516\",\"50000000000\",\"150000000\",\"4999999999\",\"50000000\",\" 90000000000\",\"19800000\",\"21000000\",\"120000000\",\"500000000\",\"64000000\",\"900000000\",\"4000000\",\"21000000\",\"23000000\",\"20166000\",\"23000000\",\"25000000\",\"1618033\",\"30000000\",\"1000000000000\",\"16600000\",\"232000000\",\"336000000\",\"10000000000\",\"100000000\",\"1100000000\",\"800000000\",\"5200000000\",\"840000000\",\"40000000\",\"18406979840\",\"500000000\",\"19340594\",\"252460800\",\"25000000\",\"60000000\",\"124000000\",\"1000000000\",\"6500000000\",\"1000000000\",\"21000000\",\"25000000\",\"50000000\",\"3000000\",\"5000000\",\"70000000\",\"500000000\",\"300000000\",\"21000000\",\"88000000\",\"30000000\",\"100000000\",\"100000000\",\"200000000\",\"80000000\",\"18400000\",\"45000000\",\"5121951220\",\"21000000\",\"26280000\",\"21000000\",\"18000000\",\"26000000\",\"10500000\",\"600000518\",\"150000000\",\"184000000000\",\"10200000000\",\"44000000\",\"168000000\",\"100000000\",\"1000000000\",\"84000000\",\"90000000\",\"92000000000\",\"650000000 \",\"100262205\",\"18081806 \",\"22075700\",\"21000000\",\"21000000\",\"82546564\",\"21000000\",\"5151000\",\"16880000000\",\"52500000\",\"100000000\",\"22105263\",\"1000000000\",\"1750000000\",\"88188888\",\"210000000\",\"184470000000\",\"55000000\",\"50000000\",\"260000000\",\"210000000\",\"2100000000\",\"366000000\",\"100000000\",\"25000000\",\"18000000000\",\"1000000000\",\"100000000\",\"1000000000\",\"7600000000\",\"50000000\",\"84000000\",\"21000000\",\"70000000000\",\"0\",\"8080000000\",\"54000000\",\"105120001.44\",\"25228800\",\"105000000\",\"21000000\",\"120000000\",\"21000000\",\"262800000\",\"19035999\",\"30886000\",\"13370000\",\"74800000000\",\"100000000\",\"19700000\",\"84000000\",\"500000000\",\"5000000000\",\"420000000\",\"64000000\",\"2100000\",\"168000000\",\"30000000\",\"1000000000\",\"35000000000\",\"98100000000\",\"0\",\"4000000000\",\"200000000\",\"7000000000\",\"54256119\",\"21000000\",\"0\",\"500000000\",\"1000000000\",\"10500000000\",\"190000000\",\"1000000000\",\"42000000\",\"15000000\",\"50000000000\",\"400000000\",\"105000000\",\"208000000\",\"160000000\",\"9000000\",\"5000000\",\"182000000\",\"16504333\",\"105000000\",\"159918400\",\"10008835635\",\"300000000\",\"60168145\",\"5000000000\",\"2800000\",\"120000\",\"2100000000\",\"0\",\"24487944\",\"0\",\"1000000000\",\"100000000\",\"8634140\",\"990000000000\",\"1000000000\",\"2000000000\",\"250000000\",\"1400222610\",\"21000000\",\"1000000\"],\"TotalCoinsMined\":{\"__ndarray__\":\"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\",\"dtype\":\"float64\",\"order\":\"little\",\"shape\":[533]}},\"selected\":{\"id\":\"1355\"},\"selection_policy\":{\"id\":\"1404\"}},\"id\":\"1354\",\"type\":\"ColumnDataSource\"},{\"attributes\":{\"children\":[{\"id\":\"1353\"},{\"id\":\"1401\"},{\"id\":\"1406\"}],\"margin\":[0,0,0,0],\"name\":\"Row01204\",\"tags\":[\"embedded\"]},\"id\":\"1352\",\"type\":\"Row\"},{\"attributes\":{},\"id\":\"1366\",\"type\":\"StringFormatter\"},{\"attributes\":{\"format\":\"0,0.0[00000]\"},\"id\":\"1391\",\"type\":\"NumberFormatter\"},{\"attributes\":{\"editor\":{\"id\":\"1387\"},\"field\":\"PC_2\",\"formatter\":{\"id\":\"1386\"},\"title\":\"PC 2\"},\"id\":\"1388\",\"type\":\"TableColumn\"},{\"attributes\":{},\"id\":\"1392\",\"type\":\"NumberEditor\"},{\"attributes\":{},\"id\":\"1367\",\"type\":\"StringEditor\"},{\"attributes\":{},\"id\":\"1396\",\"type\":\"NumberFormatter\"},{\"attributes\":{\"editor\":{\"id\":\"1367\"},\"field\":\"ProofType\",\"formatter\":{\"id\":\"1366\"},\"title\":\"ProofType\"},\"id\":\"1368\",\"type\":\"TableColumn\"},{\"attributes\":{\"editor\":{\"id\":\"1392\"},\"field\":\"PC_3\",\"formatter\":{\"id\":\"1391\"},\"title\":\"PC 3\"},\"id\":\"1393\",\"type\":\"TableColumn\"},{\"attributes\":{\"format\":\"0,0.0[00000]\"},\"id\":\"1371\",\"type\":\"NumberFormatter\"},{\"attributes\":{},\"id\":\"1372\",\"type\":\"NumberEditor\"},{\"attributes\":{},\"id\":\"1397\",\"type\":\"IntEditor\"},{\"attributes\":{\"margin\":[5,5,5,5],\"name\":\"HSpacer01208\",\"sizing_mode\":\"stretch_width\"},\"id\":\"1353\",\"type\":\"Spacer\"},{\"attributes\":{\"editor\":{\"id\":\"1397\"},\"field\":\"Class\",\"formatter\":{\"id\":\"1396\"},\"title\":\"Class\"},\"id\":\"1398\",\"type\":\"TableColumn\"},{\"attributes\":{\"source\":{\"id\":\"1354\"}},\"id\":\"1403\",\"type\":\"CDSView\"},{\"attributes\":{},\"id\":\"1376\",\"type\":\"StringFormatter\"},{\"attributes\":{\"editor\":{\"id\":\"1372\"},\"field\":\"TotalCoinsMined\",\"formatter\":{\"id\":\"1371\"},\"title\":\"TotalCoinsMined\"},\"id\":\"1373\",\"type\":\"TableColumn\"}],\"root_ids\":[\"1352\"]},\"title\":\"Bokeh Application\",\"version\":\"2.4.3\"}};\n",
       "    var render_items = [{\"docid\":\"3f543e93-820e-413b-8bc6-0d67762b986b\",\"root_ids\":[\"1352\"],\"roots\":{\"1352\":\"3d62bb36-46fa-43a5-8eaf-638f13fb0136\"}}];\n",
       "    root.Bokeh.embed.embed_items_notebook(docs_json, render_items);\n",
       "  }\n",
       "  if (root.Bokeh !== undefined && root.Bokeh.Panel !== undefined) {\n",
       "    embed_document(root);\n",
       "  } else {\n",
       "    var attempts = 0;\n",
       "    var timer = setInterval(function(root) {\n",
       "      if (root.Bokeh !== undefined && root.Bokeh.Panel !== undefined) {\n",
       "        clearInterval(timer);\n",
       "        embed_document(root);\n",
       "      } else if (document.readyState == \"complete\") {\n",
       "        attempts++;\n",
       "        if (attempts > 200) {\n",
       "          clearInterval(timer);\n",
       "          console.log(\"Bokeh: ERROR: Unable to run BokehJS code because BokehJS library is missing\");\n",
       "        }\n",
       "      }\n",
       "    }, 25, root)\n",
       "  }\n",
       "})(window);</script>"
      ],
      "text/plain": [
       ":Table   [CoinName,Algorithm,ProofType,TotalCoinsMined,TotalCoinSupply,PC 1,PC 2,PC 3,Class]"
      ]
     },
     "execution_count": 66,
     "metadata": {
      "application/vnd.holoviews_exec.v0+json": {
       "id": "1352"
      }
     },
     "output_type": "execute_result"
    }
   ],
   "source": [
    "# Create a table with tradable cryptocurrencies.\n",
    "clustered_df.hvplot.table(sortable=True)"
   ]
  },
  {
   "cell_type": "code",
   "execution_count": 69,
   "id": "a6bfbc31",
   "metadata": {},
   "outputs": [
    {
     "name": "stdout",
     "output_type": "stream",
     "text": [
      "533\n"
     ]
    }
   ],
   "source": [
    "# Print the total number of tradable cryptocurrencies.\n",
    "print(len(clustered_df))"
   ]
  },
  {
   "cell_type": "code",
   "execution_count": 70,
   "id": "8173c25d",
   "metadata": {},
   "outputs": [
    {
     "name": "stdout",
     "output_type": "stream",
     "text": [
      "[[4.20000000e-11 5.94230127e-03]\n",
      " [5.32000000e-04 7.00182308e-03]\n",
      " [3.14159265e-01 3.53420682e-02]\n",
      " ...\n",
      " [1.40022261e-03 6.92655266e-03]\n",
      " [2.10000000e-05 5.94962775e-03]\n",
      " [1.00000000e-06 5.94243008e-03]]\n"
     ]
    }
   ],
   "source": [
    "# Scaling data to create the scatter plot with tradable cryptocurrencies.\n",
    "scaled = MinMaxScaler().fit_transform(clustered_df[[\"TotalCoinSupply\", \"TotalCoinsMined\"]])\n",
    "print(scaled)"
   ]
  },
  {
   "cell_type": "code",
   "execution_count": 75,
   "id": "ca8edf4a",
   "metadata": {},
   "outputs": [
    {
     "data": {
      "text/html": [
       "<div>\n",
       "<style scoped>\n",
       "    .dataframe tbody tr th:only-of-type {\n",
       "        vertical-align: middle;\n",
       "    }\n",
       "\n",
       "    .dataframe tbody tr th {\n",
       "        vertical-align: top;\n",
       "    }\n",
       "\n",
       "    .dataframe thead th {\n",
       "        text-align: right;\n",
       "    }\n",
       "</style>\n",
       "<table border=\"1\" class=\"dataframe\">\n",
       "  <thead>\n",
       "    <tr style=\"text-align: right;\">\n",
       "      <th></th>\n",
       "      <th>TotalCoinSupply</th>\n",
       "      <th>TotalCoinsMined</th>\n",
       "      <th>CoinName</th>\n",
       "      <th>Class</th>\n",
       "    </tr>\n",
       "    <tr>\n",
       "      <th>Index</th>\n",
       "      <th></th>\n",
       "      <th></th>\n",
       "      <th></th>\n",
       "      <th></th>\n",
       "    </tr>\n",
       "  </thead>\n",
       "  <tbody>\n",
       "    <tr>\n",
       "      <th>42</th>\n",
       "      <td>4.200000e-11</td>\n",
       "      <td>0.005942</td>\n",
       "      <td>42 Coin</td>\n",
       "      <td>0</td>\n",
       "    </tr>\n",
       "    <tr>\n",
       "      <th>404</th>\n",
       "      <td>5.320000e-04</td>\n",
       "      <td>0.007002</td>\n",
       "      <td>404Coin</td>\n",
       "      <td>0</td>\n",
       "    </tr>\n",
       "    <tr>\n",
       "      <th>1337</th>\n",
       "      <td>3.141593e-01</td>\n",
       "      <td>0.035342</td>\n",
       "      <td>EliteCoin</td>\n",
       "      <td>0</td>\n",
       "    </tr>\n",
       "    <tr>\n",
       "      <th>BTC</th>\n",
       "      <td>2.100000e-05</td>\n",
       "      <td>0.005960</td>\n",
       "      <td>Bitcoin</td>\n",
       "      <td>1</td>\n",
       "    </tr>\n",
       "    <tr>\n",
       "      <th>ETH</th>\n",
       "      <td>0.000000e+00</td>\n",
       "      <td>0.006050</td>\n",
       "      <td>Ethereum</td>\n",
       "      <td>1</td>\n",
       "    </tr>\n",
       "    <tr>\n",
       "      <th>LTC</th>\n",
       "      <td>8.400000e-05</td>\n",
       "      <td>0.006006</td>\n",
       "      <td>Litecoin</td>\n",
       "      <td>1</td>\n",
       "    </tr>\n",
       "    <tr>\n",
       "      <th>DASH</th>\n",
       "      <td>2.200000e-05</td>\n",
       "      <td>0.005951</td>\n",
       "      <td>Dash</td>\n",
       "      <td>0</td>\n",
       "    </tr>\n",
       "    <tr>\n",
       "      <th>XMR</th>\n",
       "      <td>0.000000e+00</td>\n",
       "      <td>0.005960</td>\n",
       "      <td>Monero</td>\n",
       "      <td>1</td>\n",
       "    </tr>\n",
       "    <tr>\n",
       "      <th>ETC</th>\n",
       "      <td>2.100000e-04</td>\n",
       "      <td>0.006056</td>\n",
       "      <td>Ethereum Classic</td>\n",
       "      <td>1</td>\n",
       "    </tr>\n",
       "    <tr>\n",
       "      <th>ZEC</th>\n",
       "      <td>2.100000e-05</td>\n",
       "      <td>0.005950</td>\n",
       "      <td>ZCash</td>\n",
       "      <td>1</td>\n",
       "    </tr>\n",
       "  </tbody>\n",
       "</table>\n",
       "</div>"
      ],
      "text/plain": [
       "       TotalCoinSupply  TotalCoinsMined          CoinName  Class\n",
       "Index                                                           \n",
       "42        4.200000e-11         0.005942           42 Coin      0\n",
       "404       5.320000e-04         0.007002           404Coin      0\n",
       "1337      3.141593e-01         0.035342         EliteCoin      0\n",
       "BTC       2.100000e-05         0.005960           Bitcoin      1\n",
       "ETH       0.000000e+00         0.006050          Ethereum      1\n",
       "LTC       8.400000e-05         0.006006          Litecoin      1\n",
       "DASH      2.200000e-05         0.005951              Dash      0\n",
       "XMR       0.000000e+00         0.005960            Monero      1\n",
       "ETC       2.100000e-04         0.006056  Ethereum Classic      1\n",
       "ZEC       2.100000e-05         0.005950             ZCash      1"
      ]
     },
     "execution_count": 75,
     "metadata": {},
     "output_type": "execute_result"
    }
   ],
   "source": [
    "# Create a new DataFrame that has the scaled data with the clustered_df DataFrame index.\n",
    "scaled_clustered_df = pd.DataFrame(scaled, columns = [\"TotalCoinSupply\", \"TotalCoinsMined\"], index = clustered_df.index)\n",
    "# Add the \"CoinName\" column from the clustered_df DataFrame to the new DataFrame.\n",
    "scaled_clustered_df = pd.concat([scaled_clustered_df,clustered_df[\"CoinName\"]],axis =1)\n",
    "# Add the \"Class\" column from the clustered_df DataFrame to the new DataFrame. \n",
    "scaled_clustered_df = pd.concat([scaled_clustered_df,clustered_df[\"Class\"]], axis=1)\n",
    "scaled_clustered_df.head(10)"
   ]
  },
  {
   "cell_type": "code",
   "execution_count": 76,
   "id": "9c4ca9eb",
   "metadata": {},
   "outputs": [
    {
     "data": {},
     "metadata": {},
     "output_type": "display_data"
    },
    {
     "data": {
      "application/vnd.holoviews_exec.v0+json": "",
      "text/html": [
       "<div id='1418'>\n",
       "  <div class=\"bk-root\" id=\"04efc22f-5529-41b1-94e5-ed87d621f184\" data-root-id=\"1418\"></div>\n",
       "</div>\n",
       "<script type=\"application/javascript\">(function(root) {\n",
       "  function embed_document(root) {\n",
       "    var docs_json = {\"8aea19d4-0fed-42fa-80ee-8219e3695c7a\":{\"defs\":[{\"extends\":null,\"module\":null,\"name\":\"ReactiveHTML1\",\"overrides\":[],\"properties\":[]},{\"extends\":null,\"module\":null,\"name\":\"FlexBox1\",\"overrides\":[],\"properties\":[{\"default\":\"flex-start\",\"kind\":null,\"name\":\"align_content\"},{\"default\":\"flex-start\",\"kind\":null,\"name\":\"align_items\"},{\"default\":\"row\",\"kind\":null,\"name\":\"flex_direction\"},{\"default\":\"wrap\",\"kind\":null,\"name\":\"flex_wrap\"},{\"default\":\"flex-start\",\"kind\":null,\"name\":\"justify_content\"}]},{\"extends\":null,\"module\":null,\"name\":\"GridStack1\",\"overrides\":[],\"properties\":[{\"default\":\"warn\",\"kind\":null,\"name\":\"mode\"},{\"default\":null,\"kind\":null,\"name\":\"ncols\"},{\"default\":null,\"kind\":null,\"name\":\"nrows\"},{\"default\":true,\"kind\":null,\"name\":\"allow_resize\"},{\"default\":true,\"kind\":null,\"name\":\"allow_drag\"},{\"default\":[],\"kind\":null,\"name\":\"state\"}]},{\"extends\":null,\"module\":null,\"name\":\"click1\",\"overrides\":[],\"properties\":[{\"default\":\"\",\"kind\":null,\"name\":\"terminal_output\"},{\"default\":\"\",\"kind\":null,\"name\":\"debug_name\"},{\"default\":0,\"kind\":null,\"name\":\"clears\"}]},{\"extends\":null,\"module\":null,\"name\":\"NotificationAreaBase1\",\"overrides\":[],\"properties\":[{\"default\":\"bottom-right\",\"kind\":null,\"name\":\"position\"},{\"default\":0,\"kind\":null,\"name\":\"_clear\"}]},{\"extends\":null,\"module\":null,\"name\":\"NotificationArea1\",\"overrides\":[],\"properties\":[{\"default\":[],\"kind\":null,\"name\":\"notifications\"},{\"default\":\"bottom-right\",\"kind\":null,\"name\":\"position\"},{\"default\":0,\"kind\":null,\"name\":\"_clear\"},{\"default\":[{\"background\":\"#ffc107\",\"icon\":{\"className\":\"fas fa-exclamation-triangle\",\"color\":\"white\",\"tagName\":\"i\"},\"type\":\"warning\"},{\"background\":\"#007bff\",\"icon\":{\"className\":\"fas fa-info-circle\",\"color\":\"white\",\"tagName\":\"i\"},\"type\":\"info\"}],\"kind\":null,\"name\":\"types\"}]},{\"extends\":null,\"module\":null,\"name\":\"Notification\",\"overrides\":[],\"properties\":[{\"default\":null,\"kind\":null,\"name\":\"background\"},{\"default\":3000,\"kind\":null,\"name\":\"duration\"},{\"default\":null,\"kind\":null,\"name\":\"icon\"},{\"default\":\"\",\"kind\":null,\"name\":\"message\"},{\"default\":null,\"kind\":null,\"name\":\"notification_type\"},{\"default\":false,\"kind\":null,\"name\":\"_destroyed\"}]},{\"extends\":null,\"module\":null,\"name\":\"TemplateActions1\",\"overrides\":[],\"properties\":[{\"default\":0,\"kind\":null,\"name\":\"open_modal\"},{\"default\":0,\"kind\":null,\"name\":\"close_modal\"}]},{\"extends\":null,\"module\":null,\"name\":\"MaterialTemplateActions1\",\"overrides\":[],\"properties\":[{\"default\":0,\"kind\":null,\"name\":\"open_modal\"},{\"default\":0,\"kind\":null,\"name\":\"close_modal\"}]}],\"roots\":{\"references\":[{\"attributes\":{\"fill_alpha\":{\"value\":0.2},\"fill_color\":{\"value\":\"#6d904f\"},\"hatch_alpha\":{\"value\":0.2},\"hatch_color\":{\"value\":\"#6d904f\"},\"line_alpha\":{\"value\":0.2},\"line_color\":{\"value\":\"#6d904f\"},\"size\":{\"value\":5.477225575051661},\"x\":{\"field\":\"TotalCoinsMined\"},\"y\":{\"field\":\"TotalCoinSupply\"}},\"id\":\"1534\",\"type\":\"Scatter\"},{\"attributes\":{},\"id\":\"1477\",\"type\":\"UnionRenderers\"},{\"attributes\":{\"children\":[{\"id\":\"1419\"},{\"id\":\"1426\"},{\"id\":\"1571\"}],\"margin\":[0,0,0,0],\"name\":\"Row01379\",\"tags\":[\"embedded\"]},\"id\":\"1418\",\"type\":\"Row\"},{\"attributes\":{\"coordinates\":null,\"data_source\":{\"id\":\"1529\"},\"glyph\":{\"id\":\"1532\"},\"group\":null,\"hover_glyph\":null,\"muted_glyph\":{\"id\":\"1534\"},\"nonselection_glyph\":{\"id\":\"1533\"},\"selection_glyph\":{\"id\":\"1554\"},\"view\":{\"id\":\"1536\"}},\"id\":\"1535\",\"type\":\"GlyphRenderer\"},{\"attributes\":{\"source\":{\"id\":\"1483\"}},\"id\":\"1490\",\"type\":\"CDSView\"},{\"attributes\":{\"angle\":{\"value\":0.0},\"fill_alpha\":{\"value\":1.0},\"fill_color\":{\"value\":\"#30a2da\"},\"hatch_alpha\":{\"value\":1.0},\"hatch_color\":{\"value\":\"#30a2da\"},\"hatch_scale\":{\"value\":12.0},\"hatch_weight\":{\"value\":1.0},\"line_alpha\":{\"value\":1.0},\"line_cap\":{\"value\":\"butt\"},\"line_color\":{\"value\":\"#30a2da\"},\"line_dash\":{\"value\":[]},\"line_dash_offset\":{\"value\":0},\"line_join\":{\"value\":\"bevel\"},\"line_width\":{\"value\":1},\"marker\":{\"value\":\"circle\"},\"size\":{\"value\":5.477225575051661},\"x\":{\"field\":\"TotalCoinsMined\"},\"y\":{\"field\":\"TotalCoinSupply\"}},\"id\":\"1482\",\"type\":\"Scatter\"},{\"attributes\":{},\"id\":\"1460\",\"type\":\"BasicTickFormatter\"},{\"attributes\":{\"margin\":[5,5,5,5],\"name\":\"HSpacer01383\",\"sizing_mode\":\"stretch_width\"},\"id\":\"1419\",\"type\":\"Spacer\"},{\"attributes\":{\"source\":{\"id\":\"1529\"}},\"id\":\"1536\",\"type\":\"CDSView\"},{\"attributes\":{},\"id\":\"1484\",\"type\":\"Selection\"},{\"attributes\":{\"fill_alpha\":{\"value\":0.1},\"fill_color\":{\"value\":\"#6d904f\"},\"hatch_alpha\":{\"value\":0.1},\"hatch_color\":{\"value\":\"#6d904f\"},\"line_alpha\":{\"value\":0.1},\"line_color\":{\"value\":\"#6d904f\"},\"size\":{\"value\":5.477225575051661},\"x\":{\"field\":\"TotalCoinsMined\"},\"y\":{\"field\":\"TotalCoinSupply\"}},\"id\":\"1533\",\"type\":\"Scatter\"},{\"attributes\":{\"below\":[{\"id\":\"1435\"}],\"center\":[{\"id\":\"1438\"},{\"id\":\"1442\"}],\"height\":300,\"left\":[{\"id\":\"1439\"}],\"margin\":[5,5,5,5],\"min_border_bottom\":10,\"min_border_left\":10,\"min_border_right\":10,\"min_border_top\":10,\"renderers\":[{\"id\":\"1468\"},{\"id\":\"1489\"},{\"id\":\"1511\"},{\"id\":\"1535\"}],\"right\":[{\"id\":\"1480\"}],\"sizing_mode\":\"fixed\",\"title\":{\"id\":\"1427\"},\"toolbar\":{\"id\":\"1449\"},\"width\":700,\"x_range\":{\"id\":\"1420\"},\"x_scale\":{\"id\":\"1431\"},\"y_range\":{\"id\":\"1421\"},\"y_scale\":{\"id\":\"1433\"}},\"id\":\"1426\",\"subtype\":\"Figure\",\"type\":\"Plot\"},{\"attributes\":{\"coordinates\":null,\"data_source\":{\"id\":\"1483\"},\"glyph\":{\"id\":\"1486\"},\"group\":null,\"hover_glyph\":null,\"muted_glyph\":{\"id\":\"1488\"},\"nonselection_glyph\":{\"id\":\"1487\"},\"selection_glyph\":{\"id\":\"1504\"},\"view\":{\"id\":\"1490\"}},\"id\":\"1489\",\"type\":\"GlyphRenderer\"},{\"attributes\":{\"angle\":{\"value\":0.0},\"fill_alpha\":{\"value\":1.0},\"fill_color\":{\"value\":\"#6d904f\"},\"hatch_alpha\":{\"value\":1.0},\"hatch_color\":{\"value\":\"#6d904f\"},\"hatch_scale\":{\"value\":12.0},\"hatch_weight\":{\"value\":1.0},\"line_alpha\":{\"value\":1.0},\"line_cap\":{\"value\":\"butt\"},\"line_color\":{\"value\":\"#6d904f\"},\"line_dash\":{\"value\":[]},\"line_dash_offset\":{\"value\":0},\"line_join\":{\"value\":\"bevel\"},\"line_width\":{\"value\":1},\"marker\":{\"value\":\"circle\"},\"size\":{\"value\":5.477225575051661},\"x\":{\"field\":\"TotalCoinsMined\"},\"y\":{\"field\":\"TotalCoinSupply\"}},\"id\":\"1554\",\"type\":\"Scatter\"},{\"attributes\":{\"coordinates\":null,\"group\":null,\"text_color\":\"black\",\"text_font_size\":\"12pt\"},\"id\":\"1427\",\"type\":\"Title\"},{\"attributes\":{\"label\":{\"value\":\"2\"},\"renderers\":[{\"id\":\"1511\"}]},\"id\":\"1527\",\"type\":\"LegendItem\"},{\"attributes\":{\"label\":{\"value\":\"1\"},\"renderers\":[{\"id\":\"1489\"}]},\"id\":\"1503\",\"type\":\"LegendItem\"},{\"attributes\":{\"axis_label\":\"TotalCoinsMined\",\"coordinates\":null,\"formatter\":{\"id\":\"1457\"},\"group\":null,\"major_label_policy\":{\"id\":\"1458\"},\"ticker\":{\"id\":\"1436\"}},\"id\":\"1435\",\"type\":\"LinearAxis\"},{\"attributes\":{},\"id\":\"1433\",\"type\":\"LinearScale\"},{\"attributes\":{\"axis\":{\"id\":\"1439\"},\"coordinates\":null,\"dimension\":1,\"grid_line_color\":null,\"group\":null,\"ticker\":null},\"id\":\"1442\",\"type\":\"Grid\"},{\"attributes\":{},\"id\":\"1436\",\"type\":\"BasicTicker\"},{\"attributes\":{\"axis\":{\"id\":\"1435\"},\"coordinates\":null,\"grid_line_color\":null,\"group\":null,\"ticker\":null},\"id\":\"1438\",\"type\":\"Grid\"},{\"attributes\":{\"fill_alpha\":{\"value\":0.2},\"fill_color\":{\"value\":\"#fc4f30\"},\"hatch_alpha\":{\"value\":0.2},\"hatch_color\":{\"value\":\"#fc4f30\"},\"line_alpha\":{\"value\":0.2},\"line_color\":{\"value\":\"#fc4f30\"},\"size\":{\"value\":5.477225575051661},\"x\":{\"field\":\"TotalCoinsMined\"},\"y\":{\"field\":\"TotalCoinSupply\"}},\"id\":\"1488\",\"type\":\"Scatter\"},{\"attributes\":{\"fill_alpha\":{\"value\":0.1},\"fill_color\":{\"value\":\"#fc4f30\"},\"hatch_alpha\":{\"value\":0.1},\"hatch_color\":{\"value\":\"#fc4f30\"},\"line_alpha\":{\"value\":0.1},\"line_color\":{\"value\":\"#fc4f30\"},\"size\":{\"value\":5.477225575051661},\"x\":{\"field\":\"TotalCoinsMined\"},\"y\":{\"field\":\"TotalCoinSupply\"}},\"id\":\"1487\",\"type\":\"Scatter\"},{\"attributes\":{},\"id\":\"1440\",\"type\":\"BasicTicker\"},{\"attributes\":{\"axis_label\":\"TotalCoinSupply\",\"coordinates\":null,\"formatter\":{\"id\":\"1460\"},\"group\":null,\"major_label_policy\":{\"id\":\"1461\"},\"ticker\":{\"id\":\"1440\"}},\"id\":\"1439\",\"type\":\"LinearAxis\"},{\"attributes\":{},\"id\":\"1500\",\"type\":\"UnionRenderers\"},{\"attributes\":{\"label\":{\"value\":\"0\"},\"renderers\":[{\"id\":\"1468\"}]},\"id\":\"1481\",\"type\":\"LegendItem\"},{\"attributes\":{\"margin\":[5,5,5,5],\"name\":\"HSpacer01384\",\"sizing_mode\":\"stretch_width\"},\"id\":\"1571\",\"type\":\"Spacer\"},{\"attributes\":{\"angle\":{\"value\":0.0},\"fill_alpha\":{\"value\":1.0},\"fill_color\":{\"value\":\"#fc4f30\"},\"hatch_alpha\":{\"value\":1.0},\"hatch_color\":{\"value\":\"#fc4f30\"},\"hatch_scale\":{\"value\":12.0},\"hatch_weight\":{\"value\":1.0},\"line_alpha\":{\"value\":1.0},\"line_cap\":{\"value\":\"butt\"},\"line_color\":{\"value\":\"#fc4f30\"},\"line_dash\":{\"value\":[]},\"line_dash_offset\":{\"value\":0},\"line_join\":{\"value\":\"bevel\"},\"line_width\":{\"value\":1},\"marker\":{\"value\":\"circle\"},\"size\":{\"value\":5.477225575051661},\"x\":{\"field\":\"TotalCoinsMined\"},\"y\":{\"field\":\"TotalCoinSupply\"}},\"id\":\"1504\",\"type\":\"Scatter\"},{\"attributes\":{},\"id\":\"1463\",\"type\":\"Selection\"},{\"attributes\":{\"label\":{\"value\":\"3\"},\"renderers\":[{\"id\":\"1535\"}]},\"id\":\"1553\",\"type\":\"LegendItem\"},{\"attributes\":{},\"id\":\"1461\",\"type\":\"AllLabels\"},{\"attributes\":{\"fill_alpha\":{\"value\":0.1},\"fill_color\":{\"value\":\"#30a2da\"},\"hatch_alpha\":{\"value\":0.1},\"hatch_color\":{\"value\":\"#30a2da\"},\"line_alpha\":{\"value\":0.1},\"line_color\":{\"value\":\"#30a2da\"},\"size\":{\"value\":5.477225575051661},\"x\":{\"field\":\"TotalCoinsMined\"},\"y\":{\"field\":\"TotalCoinSupply\"}},\"id\":\"1466\",\"type\":\"Scatter\"},{\"attributes\":{},\"id\":\"1506\",\"type\":\"Selection\"},{\"attributes\":{\"source\":{\"id\":\"1505\"}},\"id\":\"1512\",\"type\":\"CDSView\"},{\"attributes\":{\"data\":{\"Class\":[3,3,3,3,3,3],\"CoinName\":[\"BiblePay\",\"LitecoinCash\",\"Poa Network\",\"Acute Angle Cloud\",\"Fiii\",\"Waves\"],\"TotalCoinSupply\":{\"__ndarray__\":\"lPYGX5hMdT+8eapDboZLP4RaKOGWizA//Knx0k1iUD97FK5H4Xp0PyxDHOviNho/\",\"dtype\":\"float64\",\"order\":\"little\",\"shape\":[6]},\"TotalCoinsMined\":{\"__ndarray__\":\"eHs1s8Ogfz9wjSUfGfd6P+HRjF0/Lnk//+KWGddzfD8AAAAAAAAAALkL9DY+wHg/\",\"dtype\":\"float64\",\"order\":\"little\",\"shape\":[6]}},\"selected\":{\"id\":\"1530\"},\"selection_policy\":{\"id\":\"1550\"}},\"id\":\"1529\",\"type\":\"ColumnDataSource\"},{\"attributes\":{},\"id\":\"1443\",\"type\":\"SaveTool\"},{\"attributes\":{},\"id\":\"1458\",\"type\":\"AllLabels\"},{\"attributes\":{\"data\":{\"Class\":[2],\"CoinName\":[\"BitTorrent\"],\"TotalCoinSupply\":{\"__ndarray__\":\"rkfhehSu7z8=\",\"dtype\":\"float64\",\"order\":\"little\",\"shape\":[1]},\"TotalCoinsMined\":{\"__ndarray__\":\"AAAAAAAA8D8=\",\"dtype\":\"float64\",\"order\":\"little\",\"shape\":[1]}},\"selected\":{\"id\":\"1506\"},\"selection_policy\":{\"id\":\"1524\"}},\"id\":\"1505\",\"type\":\"ColumnDataSource\"},{\"attributes\":{},\"id\":\"1444\",\"type\":\"PanTool\"},{\"attributes\":{\"coordinates\":null,\"data_source\":{\"id\":\"1505\"},\"glyph\":{\"id\":\"1508\"},\"group\":null,\"hover_glyph\":null,\"muted_glyph\":{\"id\":\"1510\"},\"nonselection_glyph\":{\"id\":\"1509\"},\"selection_glyph\":{\"id\":\"1528\"},\"view\":{\"id\":\"1512\"}},\"id\":\"1511\",\"type\":\"GlyphRenderer\"},{\"attributes\":{\"data\":{\"Class\":[1,1,1,1,1,1,1,1,1,1,1,1,1,1,1,1,1,1,1,1,1,1,1,1,1,1,1,1,1,1,1,1,1,1,1,1,1,1,1,1,1,1,1,1,1,1,1,1,1,1,1,1,1,1,1,1,1,1,1,1,1,1,1,1,1,1,1,1,1,1,1,1,1,1,1,1,1,1,1,1,1,1,1,1,1,1,1,1,1,1,1,1,1,1,1,1,1,1,1,1,1,1,1,1,1,1,1,1,1,1,1,1,1,1,1,1,1,1,1,1,1,1,1,1,1,1,1,1,1,1,1,1,1,1,1,1,1,1,1,1,1,1,1,1,1,1,1,1,1,1,1,1,1,1,1,1,1,1,1,1,1,1,1,1,1,1,1,1,1,1,1,1,1,1,1,1,1,1,1,1,1,1,1,1,1,1,1,1,1,1,1,1,1,1,1,1,1,1,1,1,1,1,1,1,1,1,1,1,1,1,1,1,1,1,1,1,1,1,1,1,1,1,1,1,1,1,1,1,1,1,1,1,1,1,1,1,1,1,1,1,1,1],\"CoinName\":[\"Bitcoin\",\"Ethereum\",\"Litecoin\",\"Monero\",\"Ethereum Classic\",\"ZCash\",\"DigiByte\",\"ProsperCoin\",\"Spreadcoin\",\"Argentum\",\"MyriadCoin\",\"MoonCoin\",\"ZetaCoin\",\"SexCoin\",\"Quatloo\",\"QuarkCoin\",\"Riecoin\",\"Digitalcoin \",\"Catcoin\",\"CannaCoin\",\"CryptCoin\",\"Verge\",\"DevCoin\",\"EarthCoin\",\"E-Gulden\",\"Einsteinium\",\"Emerald\",\"Franko\",\"FeatherCoin\",\"GrandCoin\",\"GlobalCoin\",\"GoldCoin\",\"Infinite Coin\",\"IXcoin\",\"KrugerCoin\",\"LuckyCoin\",\"Litebar \",\"MegaCoin\",\"MediterraneanCoin\",\"MinCoin\",\"NobleCoin\",\"Namecoin\",\"NyanCoin\",\"RonPaulCoin\",\"StableCoin\",\"SmartCoin\",\"SysCoin\",\"TeslaCoin\",\"TigerCoin\",\"TerraCoin\",\"UnbreakableCoin\",\"Unobtanium\",\"UroCoin\",\"ViaCoin\",\"Vertcoin\",\"WorldCoin\",\"Crypti\",\"JouleCoin\",\"ByteCoin\",\"DigitalNote \",\"MonaCoin\",\"Gulden\",\"PesetaCoin\",\"Wild Beast Coin\",\"Flo\",\"ArtByte\",\"Folding Coin\",\"Unitus\",\"CypherPunkCoin\",\"OmniCron\",\"GreenCoin\",\"Cryptonite\",\"MasterCoin\",\"SoonCoin\",\"1Credit\",\"MarsCoin \",\"Crypto\",\"Anarchists Prime\",\"BowsCoin\",\"Song Coin\",\"BitZeny\",\"Expanse\",\"Siacoin\",\"MindCoin\",\"I0coin\",\"Revolution VR\",\"HOdlcoin\",\"Gamecredits\",\"CarpeDiemCoin\",\"Adzcoin\",\"SoilCoin\",\"YoCoin\",\"SibCoin\",\"Francs\",\"BolivarCoin\",\"Omni\",\"PizzaCoin\",\"Komodo\",\"Karbo\",\"ZayedCoin\",\"Circuits of Value\",\"DopeCoin\",\"DollarCoin\",\"Shilling\",\"ZCoin\",\"Elementrem\",\"ZClassic\",\"KiloCoin\",\"ArtexCoin\",\"Kurrent\",\"Cannabis Industry Coin\",\"OsmiumCoin\",\"Bikercoins\",\"HexxCoin\",\"PacCoin\",\"Citadel\",\"BeaverCoin\",\"VaultCoin\",\"Zero\",\"Canada eCoin\",\"Zoin\",\"DubaiCoin\",\"EB3coin\",\"Coinonat\",\"BenjiRolls\",\"ILCoin\",\"EquiTrader\",\"Quantum Resistant Ledger\",\"Dynamic\",\"Nano\",\"ChanCoin\",\"Dinastycoin\",\"DigitalPrice\",\"Unify\",\"SocialCoin\",\"ArcticCoin\",\"DAS\",\"LeviarCoin\",\"Bitcore\",\"gCn Coin\",\"SmartCash\",\"Onix\",\"Bitcoin Cash\",\"Sojourn Coin\",\"NewYorkCoin\",\"FrazCoin\",\"Kronecoin\",\"AdCoin\",\"Linx\",\"Sumokoin\",\"BitcoinZ\",\"Elements\",\"VIVO Coin\",\"Bitcoin Gold\",\"Pirl\",\"eBoost\",\"Pura\",\"Innova\",\"Ellaism\",\"GoByte\",\"SHIELD\",\"UltraNote\",\"BitCoal\",\"DaxxCoin\",\"AC3\",\"Lethean\",\"PopularCoin\",\"Photon\",\"Sucre\",\"SparksPay\",\"GunCoin\",\"IrishCoin\",\"Pioneer Coin\",\"UnitedBitcoin\",\"Interzone\",\"1717 Masonic Commemorative Token\",\"TurtleCoin\",\"MUNcoin\",\"Niobio Cash\",\"ShareChain\",\"Travelflex\",\"KREDS\",\"BitFlip\",\"LottoCoin\",\"Crypto Improvement Fund\",\"Callisto Network\",\"BitTube\",\"Poseidon\",\"Aidos Kuneen\",\"Bitrolium\",\"Alpenschillling\",\"FuturoCoin\",\"Monero Classic\",\"Jumpcoin\",\"Infinex\",\"KEYCO\",\"GINcoin\",\"PlatinCoin\",\"Loki\",\"Newton Coin\",\"MassGrid\",\"PluraCoin\",\"Motion\",\"PlusOneCoin\",\"Axe\",\"HexCoin\",\"Webchain\",\"Ryo\",\"Urals Coin\",\"Qwertycoin\",\"Project Pai\",\"Azart\",\"Xchange\",\"CrypticCoin\",\"Actinium\",\"Bitcoin SV\",\"FREDEnergy\",\"Universal Molecule\",\"Lithium\",\"PirateCash\",\"Exosis\",\"Block-Logic\",\"Beam\",\"Bithereum\",\"SLICE\",\"BLAST\",\"Bitcoin Rhodium\",\"GlobalToken\",\"SolarCoin\",\"UFO Coin\",\"BlakeCoin\",\"Crypto Escudo\",\"Crown Coin\",\"SmileyCoin\",\"Groestlcoin\",\"Bata\",\"Pakcoin\",\"JoinCoin\",\"Vollar\",\"Reality Clash\",\"Beldex\",\"Horizen\"],\"TotalCoinSupply\":{\"__ndarray__\":\"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\",\"dtype\":\"float64\",\"order\":\"little\",\"shape\":[242]},\"TotalCoinsMined\":{\"__ndarray__\":\"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\",\"dtype\":\"float64\",\"order\":\"little\",\"shape\":[242]}},\"selected\":{\"id\":\"1484\"},\"selection_policy\":{\"id\":\"1500\"}},\"id\":\"1483\",\"type\":\"ColumnDataSource\"},{\"attributes\":{\"callback\":null,\"renderers\":[{\"id\":\"1468\"},{\"id\":\"1489\"},{\"id\":\"1511\"},{\"id\":\"1535\"}],\"tags\":[\"hv_created\"],\"tooltips\":[[\"Class\",\"@{Class}\"],[\"TotalCoinsMined\",\"@{TotalCoinsMined}\"],[\"TotalCoinSupply\",\"@{TotalCoinSupply}\"],[\"CoinName\",\"@{CoinName}\"]]},\"id\":\"1422\",\"type\":\"HoverTool\"},{\"attributes\":{\"data\":{\"Class\":[0,0,0,0,0,0,0,0,0,0,0,0,0,0,0,0,0,0,0,0,0,0,0,0,0,0,0,0,0,0,0,0,0,0,0,0,0,0,0,0,0,0,0,0,0,0,0,0,0,0,0,0,0,0,0,0,0,0,0,0,0,0,0,0,0,0,0,0,0,0,0,0,0,0,0,0,0,0,0,0,0,0,0,0,0,0,0,0,0,0,0,0,0,0,0,0,0,0,0,0,0,0,0,0,0,0,0,0,0,0,0,0,0,0,0,0,0,0,0,0,0,0,0,0,0,0,0,0,0,0,0,0,0,0,0,0,0,0,0,0,0,0,0,0,0,0,0,0,0,0,0,0,0,0,0,0,0,0,0,0,0,0,0,0,0,0,0,0,0,0,0,0,0,0,0,0,0,0,0,0,0,0,0,0,0,0,0,0,0,0,0,0,0,0,0,0,0,0,0,0,0,0,0,0,0,0,0,0,0,0,0,0,0,0,0,0,0,0,0,0,0,0,0,0,0,0,0,0,0,0,0,0,0,0,0,0,0,0,0,0,0,0,0,0,0,0,0,0,0,0,0,0,0,0,0,0,0,0,0,0,0,0,0,0,0,0,0,0,0,0,0,0,0,0,0,0,0,0,0,0,0,0,0,0],\"CoinName\":[\"42 Coin\",\"404Coin\",\"EliteCoin\",\"Dash\",\"Bitshares\",\"BitcoinDark\",\"PayCoin\",\"KoboCoin\",\"Aurora Coin\",\"BlueCoin\",\"EnergyCoin\",\"BitBar\",\"CryptoBullion\",\"CasinoCoin\",\"Diamond\",\"Exclusive Coin\",\"FlutterCoin\",\"HoboNickels\",\"HyperStake\",\"IOCoin\",\"MaxCoin\",\"MintCoin\",\"MazaCoin\",\"Nautilus Coin\",\"NavCoin\",\"OpalCoin\",\"Orbitcoin\",\"PotCoin\",\"PhoenixCoin\",\"Reddcoin\",\"SuperCoin\",\"SyncCoin\",\"TittieCoin\",\"TorCoin\",\"UnitaryStatus Dollar\",\"UltraCoin\",\"VeriCoin\",\"X11 Coin\",\"StealthCoin\",\"ZCC Coin\",\"BurstCoin\",\"StorjCoin\",\"Neutron\",\"FairCoin\",\"RubyCoin\",\"Kore\",\"Dnotes\",\"8BIT Coin\",\"Sativa Coin\",\"Ucoin\",\"Vtorrent\",\"IslaCoin\",\"Nexus\",\"Droidz\",\"Squall Coin\",\"Diggits\",\"Paycon\",\"Emercoin\",\"EverGreenCoin\",\"Decred\",\"EDRCoin\",\"Hitcoin\",\"DubaiCoin\",\"PWR Coin\",\"BillaryCoin\",\"GPU Coin\",\"EuropeCoin\",\"ZeitCoin\",\"SwingCoin\",\"SafeExchangeCoin\",\"Nebuchadnezzar\",\"Ratecoin\",\"Revenu\",\"Clockcoin\",\"VIP Tokens\",\"BitSend\",\"Let it Ride\",\"PutinCoin\",\"iBankCoin\",\"Frankywillcoin\",\"MudraCoin\",\"Lutetium Coin\",\"GoldBlocks\",\"CarterCoin\",\"BitTokens\",\"MustangCoin\",\"ZoneCoin\",\"RootCoin\",\"BitCurrency\",\"Swiscoin\",\"BuzzCoin\",\"Opair\",\"PesoBit\",\"Halloween Coin\",\"CoffeeCoin\",\"RoyalCoin\",\"GanjaCoin V2\",\"TeamUP\",\"LanaCoin\",\"ARK\",\"InsaneCoin\",\"EmberCoin\",\"XenixCoin\",\"FreeCoin\",\"PLNCoin\",\"AquariusCoin\",\"Creatio\",\"Eternity\",\"Eurocoin\",\"BitcoinFast\",\"Stakenet\",\"BitConnect Coin\",\"MoneyCoin\",\"Enigma\",\"Russiacoin\",\"PandaCoin\",\"GameUnits\",\"GAKHcoin\",\"Allsafe\",\"LiteCreed\",\"Klingon Empire Darsek\",\"Internet of People\",\"KushCoin\",\"Printerium\",\"Impeach\",\"Zilbercoin\",\"FirstCoin\",\"FindCoin\",\"OpenChat\",\"RenosCoin\",\"VirtacoinPlus\",\"TajCoin\",\"Impact\",\"Atmos\",\"HappyCoin\",\"MacronCoin\",\"Condensate\",\"Independent Money System\",\"ArgusCoin\",\"LomoCoin\",\"ProCurrency\",\"GoldReserve\",\"GrowthCoin\",\"Phreak\",\"Degas Coin\",\"HTML5 Coin\",\"Ultimate Secure Cash\",\"QTUM\",\"Espers\",\"Denarius\",\"Virta Unique Coin\",\"Bitcoin Planet\",\"BritCoin\",\"Linda\",\"DeepOnion\",\"Signatum\",\"Cream\",\"Monoeci\",\"Draftcoin\",\"Vechain\",\"Stakecoin\",\"CoinonatX\",\"Ethereum Dark\",\"Obsidian\",\"Cardano\",\"Regalcoin\",\"TrezarCoin\",\"TerraNovaCoin\",\"Rupee\",\"WomenCoin\",\"Theresa May Coin\",\"NamoCoin\",\"LUXCoin\",\"Xios\",\"Bitcloud 2.0\",\"KekCoin\",\"BlackholeCoin\",\"Infinity Economics\",\"Magnet\",\"Lamden Tau\",\"Electra\",\"Bitcoin Diamond\",\"Cash & Back Coin\",\"Bulwark\",\"Kalkulus\",\"GermanCoin\",\"LiteCoin Ultra\",\"PhantomX\",\"Digiwage\",\"Trollcoin\",\"Litecoin Plus\",\"Monkey Project\",\"TokenPay\",\"My Big Coin\",\"Unified Society USDEX\",\"Tokyo Coin\",\"Stipend\",\"Pushi\",\"Ellerium\",\"Velox\",\"Ontology\",\"Bitspace\",\"Briacoin\",\"Ignition\",\"MedicCoin\",\"Bitcoin Green\",\"Deviant Coin\",\"Abjcoin\",\"Semux\",\"Carebit\",\"Zealium\",\"Proton\",\"iDealCash\",\"Bitcoin Incognito\",\"HollyWoodCoin\",\"Swisscoin\",\"Xt3ch\",\"TheVig\",\"EmaratCoin\",\"Dekado\",\"Lynx\",\"Poseidon Quark\",\"BitcoinWSpectrum\",\"Muse\",\"Trivechain\",\"Dystem\",\"Giant\",\"Peony Coin\",\"Absolute Coin\",\"Vitae\",\"TPCash\",\"ARENON\",\"EUNO\",\"MMOCoin\",\"Ketan\",\"XDNA\",\"PAXEX\",\"ThunderStake\",\"Kcash\",\"Bettex coin\",\"BitMoney\",\"Junson Ming Chan Coin\",\"HerbCoin\",\"Oduwa\",\"Galilel\",\"Crypto Sports\",\"Credit\",\"Dash Platinum\",\"Nasdacoin\",\"Beetle Coin\",\"Titan Coin\",\"Award\",\"Insane Coin\",\"ALAX\",\"LiteDoge\",\"TruckCoin\",\"OrangeCoin\",\"BitstarCoin\",\"NeosCoin\",\"HyperCoin\",\"PinkCoin\",\"AudioCoin\",\"IncaKoin\",\"Piggy Coin\",\"Genstake\",\"XiaoMiCoin\",\"CapriCoin\",\" ClubCoin\",\"Radium\",\"Creditbit \",\"OKCash\",\"Lisk\",\"HiCoin\",\"WhiteCoin\",\"FriendshipCoin\",\"Triangles Coin\",\"EOS\",\"Oxycoin\",\"TigerCash\",\"Particl\",\"Nxt\",\"ZEPHYR\",\"Gapcoin\",\"BitcoinPlus\"],\"TotalCoinSupply\":{\"__ndarray__\":\"NkOMefkWxz3VCP1MvW5BP1XynHYvG9Q/oib6fJQR9z7McLKR8X5tP6Im+nyUEfc+LEMc6+I26j7HuriNBvA2P03ubVFIlfE+AAAAAAAAAAAAAAAAAAAAAI3ttaD3xqA+je21oPfGsD57FK5H4XqkP/WHfzv9XtI+AAAAAAAAAAAAAAAAAAAAAGkdVU0QdR8/AAAAAAAAAACiJvp8lBH3PixDHOviNho/AAAAAAAAAABoTT0cbtFjP8naMiJJ9/A+AAAAAAAAAAAAAAAAAAAAAIF+GWsDoM8+vHmqQ26GOz/AkxYuq7AZPwAAAAAAAAAAAAAAAAAAAACV1iboCy4RPkhQ/Bhz12I/8GjjiLX45D4sQxzr4jZaPyxDHOviNho/AAAAAAAAAACiJvp8lBHXPgAAAAAAAAAA/Knx0k1iUD9QVfnLW69hP/yp8dJNYkA/ZkzBGmfTET8AAAAAAAAAAAAAAAAAAAAAVOQQcXMq6T78qfHSTWJAPwAAAAAAAAAA8GjjiLX45D7waOOItfj0PvBo44i1+PQ+AAAAAAAAAACEud3LfXIUP5X6iTUiOdU+AAAAAAAAAAAsQxzr4jYaPyxDHOviNgo//Knx0k1iUD/clpjMUJP7PsnH7gIlBfY+oib6fJQR9z6rz9VW7C+bP8nH7gIlBeY+AAAAAAAAAADJx+4CJQUGP/UOeKZL+Sw/VOQQcXMqOT/y0k1iEFi5P/Bo44i1+AQ/3roKgZmXYT/waOOItfj0PmEyVTAqqRM/AMOXLmkxLT8VjErqBDRBPw7W/znMlxc/94+F6BA4Ij+wdD48S5ABP/yp8dJNYmA/MXINuVE+Bz8sQxzr4jYaPyxDHOviNio/VHO5wVCHRT8sQxzr4jYKPw7W/znMlxc/ycfuAiUF9j5U5BBxcyrJPsnH7gIlBfY+AAAAAAAAAAAAAAAAAAAAABNhw9MrZWk/exSuR+F6lD+rWtJRDmYTPwAAAAAAAAAA+n5qvHSTWD801K8HsvgEP4I9VrT5+MQ+LEMc6+I2Gj9P6PUn8bkzP/FiYYicvn4//Knx0k1iID9pHVVNEHX/Pl8HzhlR2ks/EXQ1Znop0D4sQxzr4jYKP/FtE1HANAQ/ycfuAiUFBj/waOOItfj0PmkdVU0QdQ8/8GjjiLX49D76nLtdL00BP/N1Gf7TDRQ/t18+WTFc/T7+HQ5aIVJFP/Bo44i1+NQ+P6vMlNbfIj/uCmuRy6WgPwWiJ2VSQ+s+qbbGR5rQyz5pHVVNEHXvPm3rT2yKqhQ//Knx0k1iQD/Jx+4CJQX2PuXYhPjjneM+8GjjiLX49D4Cy7Uqr//2PkuwOJz51Qw/S7A4nPnVHD/zMhpj+HXuPvyp8dJNYlA/4j8h46IMAj8sQxzr4jYaP1T8hFiiWAM/S7A4nPnVHD+Sq6ZJcOkcPyxDHOviNho/LEMc6+I2Oj/8qfHSTWJAP39WB9sVPvY+08veCEH9/T78qfHSTWJQPzMzMzMzM7M/8GjjiLX4BD/8qfHSTWJgP2kdVU0Qdf8+vHmqQ26GGz8K16NwPQq3PylX3jC2OSo/LEMc6+I2Gj+ZmZmZmZmpP/Bo44i1+OQ+aR1VTRB1Hz8sQxzr4jYaP2kdVU0Qdf8+mZmZmZmZqT/H4IqQ8dDzPi9uowG8BSI/LEMc6+I2Gj8W0mlgLfDjPlsuNbxbQPI++nQumcwytj9HAidX5yUQP8rwgRhGTAk/B9OLNbed0T552BsjAvUXPwrXo3A9Cqc/3gAz38FP/D4sQxzr4jY6P48YPGlif/A+VOQQcXMq+T6ZmZmZmZmZPyxDHOviNho/YTJVMCqpUz9pHVVNEHUPP8nH7gIlBfY+LEMc6+I2Kj/Jx+4CJQX2PhAKBS1lA+8+O99PjZdugj8/q8yU1t8iP/yp8dJNYkA/uB6F61G4nj+8eapDboYrP7x5qkNuhis/bcEPVf0P/T7waOOItfj0PpmZmZmZmak/YTJVMCqpIz8sQxzr4jYKP2kdVU0QdR8/kst/SL99TT+N7bWg98bQPsnH7gIlBfY+LEMc6+I2+j5pHVVNEHX/PpC+SdOgaC4/LEMc6+I2Sj8ohtt/s0f0PixDHOviNvo+aR1VTRB1Dz8hPrDjv0AgP/yp8dJNYlA/LEMc6+I2Cj9U5BBxcyrJPvBo44i1+NQ+/Knx0k1iQD/Jx+4CJQX2PqIm+nyUERc/aR1VTRB1/z4sQxzr4jYaPyxDHOviNio/8GjjiLX4FD8O1v85zJcHP9uptE/B+nQ/ycfuAiUF9j4FoidlUkP7PoeFWtO844Q/oib6fJQRBz8sQxzr4jYaP8nH7gIlBRY/Dtb/OcyXFz9aZDvfT423P5T2Bl+YTEU/CVblkHtIGj8dySs/zPXyPlnHzSuboxU/ycfuAiUF9j56V0IZ2JrVPn5v05/9SJE/vHmqQ26GCz8sQxzr4jYaP/yp8dJNYlA/S7A4nPnVDD8sQxzr4jYKP0PFOH8TCjE/vHmqQ26GKz+gGcQHdvw3PyxDHOviNho/O99PjZdukj/8qfHSTWJQPyxDHOviNgo/61G4HoXrsT8AAAAAAAAAAN4AM9/BTww/ycfuAiUF9j5vBvPj7/XzPhbj0872Cew+EqW9wRcmsz/jMhOxLaj0PsnH7gIlBRY//Knx0k1iQD97FK5H4Xp0P7x5qkNuhjs/aR1VTRB1/z78qfHSTWJQP+tRuB6F66E/AAAAAAAAAAAsQxzr4jYqPxF8vw0icgw/ycfuAiUF9j4AAAAAAAAAAPyp8dJNYkA/Gy/dJAaBhT+dDI6SV+coP/yp8dJNYlA/aR1VTRB17z4sQxzr4jY6PwWiJ2VSQys/8GjjiLX4JD8/q8yU1t/iPnDMrCBZTvE+vHmqQ26GGz/zNZeY+PUkP0VzyS2Df4Q/YTJVMCqpMz94yWS4oYsPPytppCkrG4A+AAAAAAAAAAAAAAAAAAAAAPyp8dJNYlA/U1RtKmsb4j78qfHSTWJQP/yp8dJNYmA//Knx0k1iMD+N7bWg98awPg==\",\"dtype\":\"float64\",\"order\":\"little\",\"shape\":[284]},\"TotalCoinsMined\":{\"__ndarray__\":\"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\",\"dtype\":\"float64\",\"order\":\"little\",\"shape\":[284]}},\"selected\":{\"id\":\"1463\"},\"selection_policy\":{\"id\":\"1477\"}},\"id\":\"1462\",\"type\":\"ColumnDataSource\"},{\"attributes\":{},\"id\":\"1445\",\"type\":\"WheelZoomTool\"},{\"attributes\":{\"end\":1.1,\"reset_end\":1.1,\"reset_start\":-0.1,\"start\":-0.1,\"tags\":[[[\"TotalCoinSupply\",\"TotalCoinSupply\",null]]]},\"id\":\"1421\",\"type\":\"Range1d\"},{\"attributes\":{\"tools\":[{\"id\":\"1422\"},{\"id\":\"1443\"},{\"id\":\"1444\"},{\"id\":\"1445\"},{\"id\":\"1446\"},{\"id\":\"1447\"}]},\"id\":\"1449\",\"type\":\"Toolbar\"},{\"attributes\":{\"overlay\":{\"id\":\"1448\"}},\"id\":\"1446\",\"type\":\"BoxZoomTool\"},{\"attributes\":{\"end\":1.042857142857143,\"reset_end\":1.042857142857143,\"reset_start\":-0.04285714285714286,\"start\":-0.04285714285714286,\"tags\":[[[\"TotalCoinsMined\",\"TotalCoinsMined\",null]]]},\"id\":\"1420\",\"type\":\"Range1d\"},{\"attributes\":{\"fill_alpha\":{\"value\":0.1},\"fill_color\":{\"value\":\"#e5ae38\"},\"hatch_alpha\":{\"value\":0.1},\"hatch_color\":{\"value\":\"#e5ae38\"},\"line_alpha\":{\"value\":0.1},\"line_color\":{\"value\":\"#e5ae38\"},\"size\":{\"value\":5.477225575051661},\"x\":{\"field\":\"TotalCoinsMined\"},\"y\":{\"field\":\"TotalCoinSupply\"}},\"id\":\"1509\",\"type\":\"Scatter\"},{\"attributes\":{\"fill_color\":{\"value\":\"#30a2da\"},\"hatch_color\":{\"value\":\"#30a2da\"},\"line_color\":{\"value\":\"#30a2da\"},\"size\":{\"value\":5.477225575051661},\"x\":{\"field\":\"TotalCoinsMined\"},\"y\":{\"field\":\"TotalCoinSupply\"}},\"id\":\"1465\",\"type\":\"Scatter\"},{\"attributes\":{\"fill_alpha\":{\"value\":0.2},\"fill_color\":{\"value\":\"#e5ae38\"},\"hatch_alpha\":{\"value\":0.2},\"hatch_color\":{\"value\":\"#e5ae38\"},\"line_alpha\":{\"value\":0.2},\"line_color\":{\"value\":\"#e5ae38\"},\"size\":{\"value\":5.477225575051661},\"x\":{\"field\":\"TotalCoinsMined\"},\"y\":{\"field\":\"TotalCoinSupply\"}},\"id\":\"1510\",\"type\":\"Scatter\"},{\"attributes\":{},\"id\":\"1447\",\"type\":\"ResetTool\"},{\"attributes\":{},\"id\":\"1524\",\"type\":\"UnionRenderers\"},{\"attributes\":{\"fill_color\":{\"value\":\"#e5ae38\"},\"hatch_color\":{\"value\":\"#e5ae38\"},\"line_color\":{\"value\":\"#e5ae38\"},\"size\":{\"value\":5.477225575051661},\"x\":{\"field\":\"TotalCoinsMined\"},\"y\":{\"field\":\"TotalCoinSupply\"}},\"id\":\"1508\",\"type\":\"Scatter\"},{\"attributes\":{\"bottom_units\":\"screen\",\"coordinates\":null,\"fill_alpha\":0.5,\"fill_color\":\"lightgrey\",\"group\":null,\"left_units\":\"screen\",\"level\":\"overlay\",\"line_alpha\":1.0,\"line_color\":\"black\",\"line_dash\":[4,4],\"line_width\":2,\"right_units\":\"screen\",\"syncable\":false,\"top_units\":\"screen\"},\"id\":\"1448\",\"type\":\"BoxAnnotation\"},{\"attributes\":{\"fill_color\":{\"value\":\"#fc4f30\"},\"hatch_color\":{\"value\":\"#fc4f30\"},\"line_color\":{\"value\":\"#fc4f30\"},\"size\":{\"value\":5.477225575051661},\"x\":{\"field\":\"TotalCoinsMined\"},\"y\":{\"field\":\"TotalCoinSupply\"}},\"id\":\"1486\",\"type\":\"Scatter\"},{\"attributes\":{\"coordinates\":null,\"data_source\":{\"id\":\"1462\"},\"glyph\":{\"id\":\"1465\"},\"group\":null,\"hover_glyph\":null,\"muted_glyph\":{\"id\":\"1467\"},\"nonselection_glyph\":{\"id\":\"1466\"},\"selection_glyph\":{\"id\":\"1482\"},\"view\":{\"id\":\"1469\"}},\"id\":\"1468\",\"type\":\"GlyphRenderer\"},{\"attributes\":{\"angle\":{\"value\":0.0},\"fill_alpha\":{\"value\":1.0},\"fill_color\":{\"value\":\"#e5ae38\"},\"hatch_alpha\":{\"value\":1.0},\"hatch_color\":{\"value\":\"#e5ae38\"},\"hatch_scale\":{\"value\":12.0},\"hatch_weight\":{\"value\":1.0},\"line_alpha\":{\"value\":1.0},\"line_cap\":{\"value\":\"butt\"},\"line_color\":{\"value\":\"#e5ae38\"},\"line_dash\":{\"value\":[]},\"line_dash_offset\":{\"value\":0},\"line_join\":{\"value\":\"bevel\"},\"line_width\":{\"value\":1},\"marker\":{\"value\":\"circle\"},\"size\":{\"value\":5.477225575051661},\"x\":{\"field\":\"TotalCoinsMined\"},\"y\":{\"field\":\"TotalCoinSupply\"}},\"id\":\"1528\",\"type\":\"Scatter\"},{\"attributes\":{},\"id\":\"1431\",\"type\":\"LinearScale\"},{\"attributes\":{\"source\":{\"id\":\"1462\"}},\"id\":\"1469\",\"type\":\"CDSView\"},{\"attributes\":{},\"id\":\"1550\",\"type\":\"UnionRenderers\"},{\"attributes\":{\"click_policy\":\"mute\",\"coordinates\":null,\"group\":null,\"items\":[{\"id\":\"1481\"},{\"id\":\"1503\"},{\"id\":\"1527\"},{\"id\":\"1553\"}],\"location\":[0,0],\"title\":\"Class\"},\"id\":\"1480\",\"type\":\"Legend\"},{\"attributes\":{},\"id\":\"1530\",\"type\":\"Selection\"},{\"attributes\":{\"fill_color\":{\"value\":\"#6d904f\"},\"hatch_color\":{\"value\":\"#6d904f\"},\"line_color\":{\"value\":\"#6d904f\"},\"size\":{\"value\":5.477225575051661},\"x\":{\"field\":\"TotalCoinsMined\"},\"y\":{\"field\":\"TotalCoinSupply\"}},\"id\":\"1532\",\"type\":\"Scatter\"},{\"attributes\":{},\"id\":\"1457\",\"type\":\"BasicTickFormatter\"},{\"attributes\":{\"fill_alpha\":{\"value\":0.2},\"fill_color\":{\"value\":\"#30a2da\"},\"hatch_alpha\":{\"value\":0.2},\"hatch_color\":{\"value\":\"#30a2da\"},\"line_alpha\":{\"value\":0.2},\"line_color\":{\"value\":\"#30a2da\"},\"size\":{\"value\":5.477225575051661},\"x\":{\"field\":\"TotalCoinsMined\"},\"y\":{\"field\":\"TotalCoinSupply\"}},\"id\":\"1467\",\"type\":\"Scatter\"}],\"root_ids\":[\"1418\"]},\"title\":\"Bokeh Application\",\"version\":\"2.4.3\"}};\n",
       "    var render_items = [{\"docid\":\"8aea19d4-0fed-42fa-80ee-8219e3695c7a\",\"root_ids\":[\"1418\"],\"roots\":{\"1418\":\"04efc22f-5529-41b1-94e5-ed87d621f184\"}}];\n",
       "    root.Bokeh.embed.embed_items_notebook(docs_json, render_items);\n",
       "  }\n",
       "  if (root.Bokeh !== undefined && root.Bokeh.Panel !== undefined) {\n",
       "    embed_document(root);\n",
       "  } else {\n",
       "    var attempts = 0;\n",
       "    var timer = setInterval(function(root) {\n",
       "      if (root.Bokeh !== undefined && root.Bokeh.Panel !== undefined) {\n",
       "        clearInterval(timer);\n",
       "        embed_document(root);\n",
       "      } else if (document.readyState == \"complete\") {\n",
       "        attempts++;\n",
       "        if (attempts > 200) {\n",
       "          clearInterval(timer);\n",
       "          console.log(\"Bokeh: ERROR: Unable to run BokehJS code because BokehJS library is missing\");\n",
       "        }\n",
       "      }\n",
       "    }, 25, root)\n",
       "  }\n",
       "})(window);</script>"
      ],
      "text/plain": [
       ":NdOverlay   [Class]\n",
       "   :Scatter   [TotalCoinsMined]   (TotalCoinSupply,CoinName)"
      ]
     },
     "execution_count": 76,
     "metadata": {
      "application/vnd.holoviews_exec.v0+json": {
       "id": "1418"
      }
     },
     "output_type": "execute_result"
    }
   ],
   "source": [
    "# Create a hvplot.scatter plot using x=\"TotalCoinsMined\" and y=\"TotalCoinSupply\".\n",
    "scaled_clustered_df.hvplot.scatter(x=\"TotalCoinsMined\", y=\"TotalCoinSupply\", by=\"Class\", hover_cols = [\"CoinName\"])\n"
   ]
  },
  {
   "cell_type": "code",
   "execution_count": null,
   "id": "038feef4",
   "metadata": {},
   "outputs": [],
   "source": []
  }
 ],
 "metadata": {
  "kernelspec": {
   "display_name": "mlenv",
   "language": "python",
   "name": "mlenv"
  },
  "language_info": {
   "codemirror_mode": {
    "name": "ipython",
    "version": 3
   },
   "file_extension": ".py",
   "mimetype": "text/x-python",
   "name": "python",
   "nbconvert_exporter": "python",
   "pygments_lexer": "ipython3",
   "version": "3.7.13"
  }
 },
 "nbformat": 4,
 "nbformat_minor": 5
}
